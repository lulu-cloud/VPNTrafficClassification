{
 "cells": [
  {
   "cell_type": "code",
   "execution_count": 1,
   "metadata": {
    "collapsed": true,
    "ExecuteTime": {
     "end_time": "2023-06-21T11:26:11.563027Z",
     "start_time": "2023-06-21T11:26:10.186351400Z"
    }
   },
   "outputs": [],
   "source": [
    "import pandas as pd\n",
    "import numpy as np\n",
    "import matplotlib.pyplot as plt\n",
    "import warnings\n",
    "warnings.filterwarnings(\"ignore\")\n",
    "from sklearn import ensemble\n",
    "from sklearn import model_selection\n",
    "from sklearn.metrics import confusion_matrix\n",
    "from sklearn.metrics import ConfusionMatrixDisplay\n",
    "from sklearn.model_selection import GridSearchCV\n",
    "from imblearn.over_sampling import SMOTE\n",
    "import os"
   ]
  },
  {
   "cell_type": "markdown",
   "source": [
    "# 1 数据预处理\n",
    "## 1.1 数据合并"
   ],
   "metadata": {
    "collapsed": false
   }
  },
  {
   "cell_type": "code",
   "execution_count": 8,
   "outputs": [],
   "source": [
    "def merge(folder,out_folder):\n",
    "    # 遍历，合并\n",
    "    for label_name in os.listdir(folder):\n",
    "        label_path = os.path.join(folder,label_name)\n",
    "        df_merged = pd.DataFrame()\n",
    "        for file_name in os.listdir(label_path):\n",
    "            file_path = os.path.join(label_path,file_name)\n",
    "            df = pd.read_csv(file_path,encoding='gbk')\n",
    "            df_merged = df_merged.append(df,ignore_index=True)\n",
    "            print(\"正在合并{}文件\".format(file_name))\n",
    "        file_name = label_name + '.csv'\n",
    "        out_file = os.path.join(out_folder,file_name)\n",
    "        df_merged.to_csv(out_file,index=False,encoding='utf-8')\n",
    "        print(\"合并完成{}类型的文件\".format(label_name))"
   ],
   "metadata": {
    "collapsed": false
   }
  },
  {
   "cell_type": "code",
   "execution_count": 10,
   "outputs": [
    {
     "name": "stdout",
     "output_type": "stream",
     "text": [
      "正在合并AIMchat1.pcap_Flow.csv文件\n",
      "正在合并AIMchat2.pcap_Flow.csv文件\n",
      "正在合并aim_chat_3a.pcap_Flow.csv文件\n",
      "正在合并aim_chat_3b.pcap_Flow.csv文件\n",
      "正在合并facebookchat1.pcap_Flow.csv文件\n",
      "正在合并facebookchat2.pcap_Flow.csv文件\n",
      "正在合并facebookchat3.pcap_Flow.csv文件\n",
      "正在合并facebook_chat_4a.pcap_Flow.csv文件\n",
      "正在合并facebook_chat_4b.pcap_Flow.csv文件\n",
      "正在合并gmailchat1.pcap_Flow.csv文件\n",
      "正在合并gmailchat2.pcap_Flow.csv文件\n",
      "正在合并gmailchat3.pcap_Flow.csv文件\n",
      "正在合并hangouts_chat_4a.pcap_Flow.csv文件\n",
      "正在合并hangout_chat_4b.pcap_Flow.csv文件\n",
      "正在合并ICQchat1.pcap_Flow.csv文件\n",
      "正在合并ICQchat2.pcap_Flow.csv文件\n",
      "正在合并icq_chat_3a.pcap_Flow.csv文件\n",
      "正在合并icq_chat_3b.pcap_Flow.csv文件\n",
      "正在合并skype_chat1a.pcap_Flow.csv文件\n",
      "正在合并skype_chat1b.pcap_Flow.csv文件\n",
      "合并完成Chat类型的文件\n",
      "正在合并email1a.pcap_Flow.csv文件\n",
      "正在合并email1b.pcap_Flow.csv文件\n",
      "正在合并email2a.pcap_Flow.csv文件\n",
      "正在合并email2b.pcap_Flow.csv文件\n",
      "合并完成Email类型的文件\n",
      "正在合并ftps_down_1a.pcap_Flow.csv文件\n",
      "正在合并ftps_down_1b.pcap_Flow.csv文件\n",
      "正在合并ftps_up_2a.pcap_Flow.csv文件\n",
      "正在合并ftps_up_2b.pcap_Flow.csv文件\n",
      "正在合并scp1.pcap_Flow.csv文件\n",
      "正在合并scpDown1.pcap_Flow.csv文件\n",
      "正在合并scpDown2.pcap_Flow.csv文件\n",
      "正在合并scpDown3.pcap_Flow.csv文件\n",
      "正在合并scpDown4.pcap_Flow.csv文件\n",
      "正在合并scpDown5.pcap_Flow.csv文件\n",
      "正在合并scpDown6.pcap_Flow.csv文件\n",
      "正在合并scpUp1.pcap_Flow.csv文件\n",
      "正在合并scpUp2.pcap_Flow.csv文件\n",
      "正在合并scpUp3.pcap_Flow.csv文件\n",
      "正在合并scpUp5.pcap_Flow.csv文件\n",
      "正在合并scpUp6.pcap_Flow.csv文件\n",
      "正在合并sftp1.pcap_Flow.csv文件\n",
      "正在合并sftpDown1.pcap_Flow.csv文件\n",
      "正在合并sftpDown2.pcap_Flow.csv文件\n",
      "正在合并sftpUp1.pcap_Flow.csv文件\n",
      "正在合并sftp_down_3a.pcap_Flow.csv文件\n",
      "正在合并sftp_down_3b.pcap_Flow.csv文件\n",
      "正在合并sftp_up_2a.pcap_Flow.csv文件\n",
      "正在合并sftp_up_2b.pcap_Flow.csv文件\n",
      "正在合并skype_file1.pcap_Flow.csv文件\n",
      "正在合并skype_file2.pcap_Flow.csv文件\n",
      "正在合并skype_file3.pcap_Flow.csv文件\n",
      "正在合并skype_file4.pcap_Flow.csv文件\n",
      "正在合并skype_file5.pcap_Flow.csv文件\n",
      "正在合并skype_file6.pcap_Flow.csv文件\n",
      "正在合并skype_file7.pcap_Flow.csv文件\n",
      "正在合并skype_file8.pcap_Flow.csv文件\n",
      "合并完成FT类型的文件\n",
      "正在合并facebook_video1a.pcap_Flow.csv文件\n",
      "正在合并facebook_video1b.pcap_Flow.csv文件\n",
      "正在合并facebook_video2a.pcap_Flow.csv文件\n",
      "正在合并facebook_video2b.pcap_Flow.csv文件\n",
      "正在合并hangouts_video1b.pcap_Flow.csv文件\n",
      "正在合并hangouts_video2a.pcap_Flow.csv文件\n",
      "正在合并hangouts_video2b.pcap_Flow.csv文件\n",
      "正在合并netflix1.pcap_Flow.csv文件\n",
      "正在合并netflix2.pcap_Flow.csv文件\n",
      "正在合并netflix3.pcap_Flow.csv文件\n",
      "正在合并netflix4.pcap_Flow.csv文件\n",
      "正在合并skype_video1a.pcap_Flow.csv文件\n",
      "正在合并skype_video1b.pcap_Flow.csv文件\n",
      "正在合并skype_video2a.pcap_Flow.csv文件\n",
      "正在合并skype_video2b.pcap_Flow.csv文件\n",
      "正在合并spotify1.pcap_Flow.csv文件\n",
      "正在合并spotify2.pcap_Flow.csv文件\n",
      "正在合并spotify3.pcap_Flow.csv文件\n",
      "正在合并spotify4.pcap_Flow.csv文件\n",
      "正在合并vimeo1.pcap_Flow.csv文件\n",
      "正在合并vimeo2.pcap_Flow.csv文件\n",
      "正在合并vimeo3.pcap_Flow.csv文件\n",
      "正在合并vimeo4.pcap_Flow.csv文件\n",
      "正在合并youtube1.pcap_Flow.csv文件\n",
      "正在合并youtube2.pcap_Flow.csv文件\n",
      "正在合并youtube3.pcap_Flow.csv文件\n",
      "正在合并youtube4.pcap_Flow.csv文件\n",
      "正在合并youtube5.pcap_Flow.csv文件\n",
      "正在合并youtube6.pcap_Flow.csv文件\n",
      "合并完成Streaming类型的文件\n",
      "正在合并facebook_audio1a.pcap_Flow.csv文件\n",
      "正在合并facebook_audio1b.pcap_Flow.csv文件\n",
      "正在合并facebook_audio2a.pcap_Flow.csv文件\n",
      "正在合并facebook_audio2b.pcap_Flow.csv文件\n",
      "正在合并facebook_audio3.pcap_Flow.csv文件\n",
      "正在合并facebook_audio4.pcap_Flow.csv文件\n",
      "正在合并hangouts_audio1a.pcap_Flow.csv文件\n",
      "正在合并hangouts_audio1b.pcap_Flow.csv文件\n",
      "正在合并hangouts_audio2a.pcap_Flow.csv文件\n",
      "正在合并hangouts_audio2b.pcap_Flow.csv文件\n",
      "正在合并hangouts_audio3.pcap_Flow.csv文件\n",
      "正在合并hangouts_audio4.pcap_Flow.csv文件\n",
      "正在合并skype_audio1a.pcap_Flow.csv文件\n",
      "正在合并skype_audio1b.pcap_Flow.csv文件\n",
      "正在合并skype_audio2a.pcap_Flow.csv文件\n",
      "正在合并skype_audio2b.pcap_Flow.csv文件\n",
      "正在合并skype_audio3.pcap_Flow.csv文件\n",
      "正在合并skype_audio4.pcap_Flow.csv文件\n",
      "正在合并voipbuster1b.pcap_Flow.csv文件\n",
      "正在合并voipbuster2b.pcap_Flow.csv文件\n",
      "正在合并voipbuster3b.pcap_Flow.csv文件\n",
      "正在合并voipbuster_4a.pcap_Flow.csv文件\n",
      "正在合并voipbuster_4b.pcap_Flow.csv文件\n",
      "合并完成VoIP类型的文件\n",
      "正在合并vpn_aim_chat1a.pcap_Flow.csv文件\n",
      "正在合并vpn_aim_chat1b.pcap_Flow.csv文件\n",
      "正在合并vpn_facebook_chat1a.pcap_Flow.csv文件\n",
      "正在合并vpn_facebook_chat1b.pcap_Flow.csv文件\n",
      "正在合并vpn_hangouts_chat1a.pcap_Flow.csv文件\n",
      "正在合并vpn_hangouts_chat1b.pcap_Flow.csv文件\n",
      "正在合并vpn_icq_chat1a.pcap_Flow.csv文件\n",
      "正在合并vpn_icq_chat1b.pcap_Flow.csv文件\n",
      "正在合并vpn_skype_chat1a.pcap_Flow.csv文件\n",
      "正在合并vpn_skype_chat1b.pcap_Flow.csv文件\n",
      "合并完成VPN_Chat类型的文件\n",
      "正在合并vpn_email2a.pcap_Flow.csv文件\n",
      "正在合并vpn_email2b.pcap_Flow.csv文件\n",
      "合并完成VPN_Email类型的文件\n",
      "正在合并vpn_ftps_A.pcap_Flow.csv文件\n",
      "正在合并vpn_ftps_B.pcap_Flow.csv文件\n",
      "正在合并vpn_sftp_A.pcap_Flow.csv文件\n",
      "正在合并vpn_sftp_B.pcap_Flow.csv文件\n",
      "正在合并vpn_skype_files1a.pcap_Flow.csv文件\n",
      "正在合并vpn_skype_files1b.pcap_Flow.csv文件\n",
      "合并完成VPN_FT类型的文件\n",
      "正在合并vpn_netflix_A.pcap_Flow.csv文件\n",
      "正在合并vpn_spotify_A.pcap_Flow.csv文件\n",
      "正在合并vpn_vimeo_A.pcap_Flow.csv文件\n",
      "正在合并vpn_vimeo_B.pcap_Flow.csv文件\n",
      "正在合并vpn_youtube_A.pcap_Flow.csv文件\n",
      "合并完成VPN_Streaming类型的文件\n",
      "正在合并vpn_facebook_audio2.pcap_Flow.csv文件\n",
      "正在合并vpn_hangouts_audio1.pcap_Flow.csv文件\n",
      "正在合并vpn_skype_audio1.pcap_Flow.csv文件\n",
      "正在合并vpn_skype_audio2.pcap_Flow.csv文件\n",
      "正在合并vpn_voipbuster1a.pcap_Flow.csv文件\n",
      "正在合并vpn_voipbuster1b.pcap_Flow.csv文件\n",
      "合并完成VPN_VoIP类型的文件\n"
     ]
    }
   ],
   "source": [
    "pcap_folder = \"data/10_class\"\n",
    "out_csv_folder = \"data/10_class_csv\"\n",
    "\n",
    "merge(pcap_folder,out_csv_folder)"
   ],
   "metadata": {
    "collapsed": false,
    "ExecuteTime": {
     "end_time": "2023-06-21T11:36:22.355852100Z",
     "start_time": "2023-06-21T11:36:09.359731800Z"
    }
   }
  },
  {
   "cell_type": "markdown",
   "source": [],
   "metadata": {
    "collapsed": false
   }
  },
  {
   "cell_type": "code",
   "execution_count": 15,
   "outputs": [
    {
     "data": {
      "text/plain": "                                     Flow ID          Src IP  Src Port  \\\n0     131.202.240.87-64.12.104.73-1258-443-6  131.202.240.87      1258   \n1     131.202.240.87-64.12.104.85-1254-443-6  131.202.240.87      1254   \n2    131.202.240.87-64.12.104.73-13389-443-6  131.202.240.87     13389   \n3    131.202.240.87-64.12.24.167-13385-443-6  131.202.240.87     13385   \n4  131.202.240.87-178.237.19.228-13407-443-6  131.202.240.87     13407   \n5  131.202.240.87-178.237.19.103-13404-443-6  131.202.240.87     13404   \n6  131.202.240.87-178.237.19.227-13397-443-6  131.202.240.87     13397   \n7  131.202.240.87-178.237.24.202-13393-443-6  131.202.240.87     13393   \n8                      8.0.6.4-8.6.0.1-0-0-0         8.6.0.1         0   \n9  131.202.240.87-131.202.243.255-137-137-17  131.202.240.87       137   \n\n            Dst IP  Dst Port  Protocol               Timestamp  Flow Duration  \\\n0     64.12.104.73       443         6  15/04/2015 10:14:23 下午      119999581   \n1     64.12.104.85       443         6  15/04/2015 10:14:23 下午      119999899   \n2     64.12.104.73       443         6  15/04/2015 10:14:27 下午       60054835   \n3     64.12.24.167       443         6  15/04/2015 10:14:27 下午       87805460   \n4   178.237.19.228       443         6  15/04/2015 10:14:29 下午      119998971   \n5   178.237.19.103       443         6  15/04/2015 10:14:29 下午      119999431   \n6   178.237.19.227       443         6  15/04/2015 10:14:34 下午       90172994   \n7   178.237.24.202       443         6  15/04/2015 10:14:34 下午       90167315   \n8          8.0.6.4         0         0  15/04/2015 10:14:33 下午      114005968   \n9  131.202.243.255       137        17  15/04/2015 10:14:30 下午        1499698   \n\n   Tot Fwd Pkts  Tot Bwd Pkts  ...  Fwd Seg Size Min   Active Mean  \\\n0             2             3  ...                 0  5.243150e+04   \n1            11            13  ...                 0  1.132177e+06   \n2             1             3  ...                 0  5.296800e+04   \n3            12            14  ...                 0  3.712991e+06   \n4             4             5  ...                 0  1.680420e+05   \n5             4             5  ...                 0  1.748422e+05   \n6             3             5  ...                 0  1.733753e+05   \n7             3             5  ...                 0  1.684593e+05   \n8             7             1  ...                 0  1.184000e+03   \n9             2             1  ...                 0  0.000000e+00   \n\n     Active Std  Active Max  Active Min     Idle Mean      Idle Std  \\\n0  5.734636e+02     52837.0     52026.0  5.994736e+07  4.879037e+02   \n1  1.665046e+06   3378621.0     20232.0  1.886781e+07  1.293738e+07   \n2  0.000000e+00     52968.0     52968.0  5.994906e+07  0.000000e+00   \n3  3.555993e+06   7114375.0     20308.0  2.438451e+07  1.820219e+07   \n4  1.891613e+02    168275.0    167828.0  2.983170e+07  6.525541e+02   \n5  3.024967e+02    175290.0    174632.0  2.982502e+07  9.344747e+02   \n6  2.015598e+02    173585.0    173183.0  2.982670e+07  6.095050e+03   \n7  1.531593e+03    170184.0    167258.0  2.983157e+07  7.436309e+03   \n8  1.013558e+02      1301.0      1123.0  3.799879e+07  8.046583e+06   \n9  0.000000e+00         0.0         0.0  0.000000e+00  0.000000e+00   \n\n     Idle Max    Idle Min  Label  \n0  59947704.0  59947014.0      0  \n1  40602165.0   8405794.0      0  \n2  59949058.0  59949058.0      0  \n3  45086942.0  10890558.0      0  \n4  29832657.0  29831207.0      0  \n5  29826034.0  29823877.0      0  \n6  29832988.0  29820818.0      0  \n7  29838505.0  29823717.0      0  \n8  46998534.0  31498681.0      0  \n9         0.0         0.0      0  \n\n[10 rows x 84 columns]",
      "text/html": "<div>\n<style scoped>\n    .dataframe tbody tr th:only-of-type {\n        vertical-align: middle;\n    }\n\n    .dataframe tbody tr th {\n        vertical-align: top;\n    }\n\n    .dataframe thead th {\n        text-align: right;\n    }\n</style>\n<table border=\"1\" class=\"dataframe\">\n  <thead>\n    <tr style=\"text-align: right;\">\n      <th></th>\n      <th>Flow ID</th>\n      <th>Src IP</th>\n      <th>Src Port</th>\n      <th>Dst IP</th>\n      <th>Dst Port</th>\n      <th>Protocol</th>\n      <th>Timestamp</th>\n      <th>Flow Duration</th>\n      <th>Tot Fwd Pkts</th>\n      <th>Tot Bwd Pkts</th>\n      <th>...</th>\n      <th>Fwd Seg Size Min</th>\n      <th>Active Mean</th>\n      <th>Active Std</th>\n      <th>Active Max</th>\n      <th>Active Min</th>\n      <th>Idle Mean</th>\n      <th>Idle Std</th>\n      <th>Idle Max</th>\n      <th>Idle Min</th>\n      <th>Label</th>\n    </tr>\n  </thead>\n  <tbody>\n    <tr>\n      <th>0</th>\n      <td>131.202.240.87-64.12.104.73-1258-443-6</td>\n      <td>131.202.240.87</td>\n      <td>1258</td>\n      <td>64.12.104.73</td>\n      <td>443</td>\n      <td>6</td>\n      <td>15/04/2015 10:14:23 下午</td>\n      <td>119999581</td>\n      <td>2</td>\n      <td>3</td>\n      <td>...</td>\n      <td>0</td>\n      <td>5.243150e+04</td>\n      <td>5.734636e+02</td>\n      <td>52837.0</td>\n      <td>52026.0</td>\n      <td>5.994736e+07</td>\n      <td>4.879037e+02</td>\n      <td>59947704.0</td>\n      <td>59947014.0</td>\n      <td>0</td>\n    </tr>\n    <tr>\n      <th>1</th>\n      <td>131.202.240.87-64.12.104.85-1254-443-6</td>\n      <td>131.202.240.87</td>\n      <td>1254</td>\n      <td>64.12.104.85</td>\n      <td>443</td>\n      <td>6</td>\n      <td>15/04/2015 10:14:23 下午</td>\n      <td>119999899</td>\n      <td>11</td>\n      <td>13</td>\n      <td>...</td>\n      <td>0</td>\n      <td>1.132177e+06</td>\n      <td>1.665046e+06</td>\n      <td>3378621.0</td>\n      <td>20232.0</td>\n      <td>1.886781e+07</td>\n      <td>1.293738e+07</td>\n      <td>40602165.0</td>\n      <td>8405794.0</td>\n      <td>0</td>\n    </tr>\n    <tr>\n      <th>2</th>\n      <td>131.202.240.87-64.12.104.73-13389-443-6</td>\n      <td>131.202.240.87</td>\n      <td>13389</td>\n      <td>64.12.104.73</td>\n      <td>443</td>\n      <td>6</td>\n      <td>15/04/2015 10:14:27 下午</td>\n      <td>60054835</td>\n      <td>1</td>\n      <td>3</td>\n      <td>...</td>\n      <td>0</td>\n      <td>5.296800e+04</td>\n      <td>0.000000e+00</td>\n      <td>52968.0</td>\n      <td>52968.0</td>\n      <td>5.994906e+07</td>\n      <td>0.000000e+00</td>\n      <td>59949058.0</td>\n      <td>59949058.0</td>\n      <td>0</td>\n    </tr>\n    <tr>\n      <th>3</th>\n      <td>131.202.240.87-64.12.24.167-13385-443-6</td>\n      <td>131.202.240.87</td>\n      <td>13385</td>\n      <td>64.12.24.167</td>\n      <td>443</td>\n      <td>6</td>\n      <td>15/04/2015 10:14:27 下午</td>\n      <td>87805460</td>\n      <td>12</td>\n      <td>14</td>\n      <td>...</td>\n      <td>0</td>\n      <td>3.712991e+06</td>\n      <td>3.555993e+06</td>\n      <td>7114375.0</td>\n      <td>20308.0</td>\n      <td>2.438451e+07</td>\n      <td>1.820219e+07</td>\n      <td>45086942.0</td>\n      <td>10890558.0</td>\n      <td>0</td>\n    </tr>\n    <tr>\n      <th>4</th>\n      <td>131.202.240.87-178.237.19.228-13407-443-6</td>\n      <td>131.202.240.87</td>\n      <td>13407</td>\n      <td>178.237.19.228</td>\n      <td>443</td>\n      <td>6</td>\n      <td>15/04/2015 10:14:29 下午</td>\n      <td>119998971</td>\n      <td>4</td>\n      <td>5</td>\n      <td>...</td>\n      <td>0</td>\n      <td>1.680420e+05</td>\n      <td>1.891613e+02</td>\n      <td>168275.0</td>\n      <td>167828.0</td>\n      <td>2.983170e+07</td>\n      <td>6.525541e+02</td>\n      <td>29832657.0</td>\n      <td>29831207.0</td>\n      <td>0</td>\n    </tr>\n    <tr>\n      <th>5</th>\n      <td>131.202.240.87-178.237.19.103-13404-443-6</td>\n      <td>131.202.240.87</td>\n      <td>13404</td>\n      <td>178.237.19.103</td>\n      <td>443</td>\n      <td>6</td>\n      <td>15/04/2015 10:14:29 下午</td>\n      <td>119999431</td>\n      <td>4</td>\n      <td>5</td>\n      <td>...</td>\n      <td>0</td>\n      <td>1.748422e+05</td>\n      <td>3.024967e+02</td>\n      <td>175290.0</td>\n      <td>174632.0</td>\n      <td>2.982502e+07</td>\n      <td>9.344747e+02</td>\n      <td>29826034.0</td>\n      <td>29823877.0</td>\n      <td>0</td>\n    </tr>\n    <tr>\n      <th>6</th>\n      <td>131.202.240.87-178.237.19.227-13397-443-6</td>\n      <td>131.202.240.87</td>\n      <td>13397</td>\n      <td>178.237.19.227</td>\n      <td>443</td>\n      <td>6</td>\n      <td>15/04/2015 10:14:34 下午</td>\n      <td>90172994</td>\n      <td>3</td>\n      <td>5</td>\n      <td>...</td>\n      <td>0</td>\n      <td>1.733753e+05</td>\n      <td>2.015598e+02</td>\n      <td>173585.0</td>\n      <td>173183.0</td>\n      <td>2.982670e+07</td>\n      <td>6.095050e+03</td>\n      <td>29832988.0</td>\n      <td>29820818.0</td>\n      <td>0</td>\n    </tr>\n    <tr>\n      <th>7</th>\n      <td>131.202.240.87-178.237.24.202-13393-443-6</td>\n      <td>131.202.240.87</td>\n      <td>13393</td>\n      <td>178.237.24.202</td>\n      <td>443</td>\n      <td>6</td>\n      <td>15/04/2015 10:14:34 下午</td>\n      <td>90167315</td>\n      <td>3</td>\n      <td>5</td>\n      <td>...</td>\n      <td>0</td>\n      <td>1.684593e+05</td>\n      <td>1.531593e+03</td>\n      <td>170184.0</td>\n      <td>167258.0</td>\n      <td>2.983157e+07</td>\n      <td>7.436309e+03</td>\n      <td>29838505.0</td>\n      <td>29823717.0</td>\n      <td>0</td>\n    </tr>\n    <tr>\n      <th>8</th>\n      <td>8.0.6.4-8.6.0.1-0-0-0</td>\n      <td>8.6.0.1</td>\n      <td>0</td>\n      <td>8.0.6.4</td>\n      <td>0</td>\n      <td>0</td>\n      <td>15/04/2015 10:14:33 下午</td>\n      <td>114005968</td>\n      <td>7</td>\n      <td>1</td>\n      <td>...</td>\n      <td>0</td>\n      <td>1.184000e+03</td>\n      <td>1.013558e+02</td>\n      <td>1301.0</td>\n      <td>1123.0</td>\n      <td>3.799879e+07</td>\n      <td>8.046583e+06</td>\n      <td>46998534.0</td>\n      <td>31498681.0</td>\n      <td>0</td>\n    </tr>\n    <tr>\n      <th>9</th>\n      <td>131.202.240.87-131.202.243.255-137-137-17</td>\n      <td>131.202.240.87</td>\n      <td>137</td>\n      <td>131.202.243.255</td>\n      <td>137</td>\n      <td>17</td>\n      <td>15/04/2015 10:14:30 下午</td>\n      <td>1499698</td>\n      <td>2</td>\n      <td>1</td>\n      <td>...</td>\n      <td>0</td>\n      <td>0.000000e+00</td>\n      <td>0.000000e+00</td>\n      <td>0.0</td>\n      <td>0.0</td>\n      <td>0.000000e+00</td>\n      <td>0.000000e+00</td>\n      <td>0.0</td>\n      <td>0.0</td>\n      <td>0</td>\n    </tr>\n  </tbody>\n</table>\n<p>10 rows × 84 columns</p>\n</div>"
     },
     "execution_count": 15,
     "metadata": {},
     "output_type": "execute_result"
    }
   ],
   "source": [
    "# 编码映射\n",
    "label = 0\n",
    "data = pd.DataFrame()\n",
    "for csv_file in os.listdir(out_csv_folder):\n",
    "    df = pd.read_csv(os.path.join(out_csv_folder,csv_file))\n",
    "    df['Label'] = label\n",
    "    data = data.append(df)\n",
    "    label += 1\n",
    "data.head(10)\n"
   ],
   "metadata": {
    "collapsed": false,
    "ExecuteTime": {
     "end_time": "2023-06-21T11:41:44.985432900Z",
     "start_time": "2023-06-21T11:41:42.062547500Z"
    }
   }
  },
  {
   "cell_type": "code",
   "execution_count": 16,
   "outputs": [
    {
     "data": {
      "text/plain": "                                    Flow ID      Src IP  Src Port  \\\n8237   224.0.0.252-10.8.8.246-5355-49673-17  10.8.8.246     49673   \n8238   224.0.0.252-10.8.8.246-5355-50873-17  10.8.8.246     50873   \n8239   224.0.0.252-10.8.8.246-5355-61115-17  10.8.8.246     61115   \n8240    198.7.63.141-10.8.8.246-53-55908-17  10.8.8.246     55908   \n8241  131.253.18.253-10.8.8.246-443-29934-6  10.8.8.246     29934   \n8242   224.0.0.252-10.8.8.246-5355-56803-17  10.8.8.246     56803   \n8243   224.0.0.252-10.8.8.246-5355-64207-17  10.8.8.246     64207   \n8244   224.0.0.252-10.8.8.246-5355-50686-17  10.8.8.246     50686   \n8245   224.0.0.252-10.8.8.246-5355-64484-17  10.8.8.246     64484   \n8246   224.0.0.252-10.8.8.246-5355-54056-17  10.8.8.246     54056   \n\n              Dst IP  Dst Port  Protocol               Timestamp  \\\n8237     224.0.0.252      5355        17  23/05/2015 12:43:52 上午   \n8238     224.0.0.252      5355        17  23/05/2015 01:09:39 上午   \n8239     224.0.0.252      5355        17  23/05/2015 01:19:31 上午   \n8240    198.7.63.141        53        17  23/05/2015 01:14:30 上午   \n8241  131.253.18.253       443         6  23/05/2015 01:19:16 上午   \n8242     224.0.0.252      5355        17  23/05/2015 01:24:10 上午   \n8243     224.0.0.252      5355        17  23/05/2015 01:09:05 上午   \n8244     224.0.0.252      5355        17  23/05/2015 01:28:50 上午   \n8245     224.0.0.252      5355        17  23/05/2015 01:29:55 上午   \n8246     224.0.0.252      5355        17  23/05/2015 01:09:05 上午   \n\n      Flow Duration  Tot Fwd Pkts  Tot Bwd Pkts  ...  Fwd Seg Size Min  \\\n8237         411472             1             1  ...                 0   \n8238         412827             1             1  ...                 0   \n8239         422299             1             1  ...                 0   \n8240         379136             0             2  ...                 0   \n8241        9000732             2             1  ...                 0   \n8242         412648             1             1  ...                 0   \n8243         411574             1             1  ...                 0   \n8244         410587             1             1  ...                 0   \n8245         411650             1             1  ...                 0   \n8246         411784             1             1  ...                 0   \n\n      Active Mean  Active Std  Active Max  Active Min  Idle Mean  Idle Std  \\\n8237          0.0         0.0         0.0         0.0        0.0       0.0   \n8238          0.0         0.0         0.0         0.0        0.0       0.0   \n8239          0.0         0.0         0.0         0.0        0.0       0.0   \n8240          0.0         0.0         0.0         0.0        0.0       0.0   \n8241    3000241.0         0.0   3000241.0   3000241.0  6000491.0       0.0   \n8242          0.0         0.0         0.0         0.0        0.0       0.0   \n8243          0.0         0.0         0.0         0.0        0.0       0.0   \n8244          0.0         0.0         0.0         0.0        0.0       0.0   \n8245          0.0         0.0         0.0         0.0        0.0       0.0   \n8246          0.0         0.0         0.0         0.0        0.0       0.0   \n\n       Idle Max   Idle Min  Label  \n8237        0.0        0.0      9  \n8238        0.0        0.0      9  \n8239        0.0        0.0      9  \n8240        0.0        0.0      9  \n8241  6000491.0  6000491.0      9  \n8242        0.0        0.0      9  \n8243        0.0        0.0      9  \n8244        0.0        0.0      9  \n8245        0.0        0.0      9  \n8246        0.0        0.0      9  \n\n[10 rows x 84 columns]",
      "text/html": "<div>\n<style scoped>\n    .dataframe tbody tr th:only-of-type {\n        vertical-align: middle;\n    }\n\n    .dataframe tbody tr th {\n        vertical-align: top;\n    }\n\n    .dataframe thead th {\n        text-align: right;\n    }\n</style>\n<table border=\"1\" class=\"dataframe\">\n  <thead>\n    <tr style=\"text-align: right;\">\n      <th></th>\n      <th>Flow ID</th>\n      <th>Src IP</th>\n      <th>Src Port</th>\n      <th>Dst IP</th>\n      <th>Dst Port</th>\n      <th>Protocol</th>\n      <th>Timestamp</th>\n      <th>Flow Duration</th>\n      <th>Tot Fwd Pkts</th>\n      <th>Tot Bwd Pkts</th>\n      <th>...</th>\n      <th>Fwd Seg Size Min</th>\n      <th>Active Mean</th>\n      <th>Active Std</th>\n      <th>Active Max</th>\n      <th>Active Min</th>\n      <th>Idle Mean</th>\n      <th>Idle Std</th>\n      <th>Idle Max</th>\n      <th>Idle Min</th>\n      <th>Label</th>\n    </tr>\n  </thead>\n  <tbody>\n    <tr>\n      <th>8237</th>\n      <td>224.0.0.252-10.8.8.246-5355-49673-17</td>\n      <td>10.8.8.246</td>\n      <td>49673</td>\n      <td>224.0.0.252</td>\n      <td>5355</td>\n      <td>17</td>\n      <td>23/05/2015 12:43:52 上午</td>\n      <td>411472</td>\n      <td>1</td>\n      <td>1</td>\n      <td>...</td>\n      <td>0</td>\n      <td>0.0</td>\n      <td>0.0</td>\n      <td>0.0</td>\n      <td>0.0</td>\n      <td>0.0</td>\n      <td>0.0</td>\n      <td>0.0</td>\n      <td>0.0</td>\n      <td>9</td>\n    </tr>\n    <tr>\n      <th>8238</th>\n      <td>224.0.0.252-10.8.8.246-5355-50873-17</td>\n      <td>10.8.8.246</td>\n      <td>50873</td>\n      <td>224.0.0.252</td>\n      <td>5355</td>\n      <td>17</td>\n      <td>23/05/2015 01:09:39 上午</td>\n      <td>412827</td>\n      <td>1</td>\n      <td>1</td>\n      <td>...</td>\n      <td>0</td>\n      <td>0.0</td>\n      <td>0.0</td>\n      <td>0.0</td>\n      <td>0.0</td>\n      <td>0.0</td>\n      <td>0.0</td>\n      <td>0.0</td>\n      <td>0.0</td>\n      <td>9</td>\n    </tr>\n    <tr>\n      <th>8239</th>\n      <td>224.0.0.252-10.8.8.246-5355-61115-17</td>\n      <td>10.8.8.246</td>\n      <td>61115</td>\n      <td>224.0.0.252</td>\n      <td>5355</td>\n      <td>17</td>\n      <td>23/05/2015 01:19:31 上午</td>\n      <td>422299</td>\n      <td>1</td>\n      <td>1</td>\n      <td>...</td>\n      <td>0</td>\n      <td>0.0</td>\n      <td>0.0</td>\n      <td>0.0</td>\n      <td>0.0</td>\n      <td>0.0</td>\n      <td>0.0</td>\n      <td>0.0</td>\n      <td>0.0</td>\n      <td>9</td>\n    </tr>\n    <tr>\n      <th>8240</th>\n      <td>198.7.63.141-10.8.8.246-53-55908-17</td>\n      <td>10.8.8.246</td>\n      <td>55908</td>\n      <td>198.7.63.141</td>\n      <td>53</td>\n      <td>17</td>\n      <td>23/05/2015 01:14:30 上午</td>\n      <td>379136</td>\n      <td>0</td>\n      <td>2</td>\n      <td>...</td>\n      <td>0</td>\n      <td>0.0</td>\n      <td>0.0</td>\n      <td>0.0</td>\n      <td>0.0</td>\n      <td>0.0</td>\n      <td>0.0</td>\n      <td>0.0</td>\n      <td>0.0</td>\n      <td>9</td>\n    </tr>\n    <tr>\n      <th>8241</th>\n      <td>131.253.18.253-10.8.8.246-443-29934-6</td>\n      <td>10.8.8.246</td>\n      <td>29934</td>\n      <td>131.253.18.253</td>\n      <td>443</td>\n      <td>6</td>\n      <td>23/05/2015 01:19:16 上午</td>\n      <td>9000732</td>\n      <td>2</td>\n      <td>1</td>\n      <td>...</td>\n      <td>0</td>\n      <td>3000241.0</td>\n      <td>0.0</td>\n      <td>3000241.0</td>\n      <td>3000241.0</td>\n      <td>6000491.0</td>\n      <td>0.0</td>\n      <td>6000491.0</td>\n      <td>6000491.0</td>\n      <td>9</td>\n    </tr>\n    <tr>\n      <th>8242</th>\n      <td>224.0.0.252-10.8.8.246-5355-56803-17</td>\n      <td>10.8.8.246</td>\n      <td>56803</td>\n      <td>224.0.0.252</td>\n      <td>5355</td>\n      <td>17</td>\n      <td>23/05/2015 01:24:10 上午</td>\n      <td>412648</td>\n      <td>1</td>\n      <td>1</td>\n      <td>...</td>\n      <td>0</td>\n      <td>0.0</td>\n      <td>0.0</td>\n      <td>0.0</td>\n      <td>0.0</td>\n      <td>0.0</td>\n      <td>0.0</td>\n      <td>0.0</td>\n      <td>0.0</td>\n      <td>9</td>\n    </tr>\n    <tr>\n      <th>8243</th>\n      <td>224.0.0.252-10.8.8.246-5355-64207-17</td>\n      <td>10.8.8.246</td>\n      <td>64207</td>\n      <td>224.0.0.252</td>\n      <td>5355</td>\n      <td>17</td>\n      <td>23/05/2015 01:09:05 上午</td>\n      <td>411574</td>\n      <td>1</td>\n      <td>1</td>\n      <td>...</td>\n      <td>0</td>\n      <td>0.0</td>\n      <td>0.0</td>\n      <td>0.0</td>\n      <td>0.0</td>\n      <td>0.0</td>\n      <td>0.0</td>\n      <td>0.0</td>\n      <td>0.0</td>\n      <td>9</td>\n    </tr>\n    <tr>\n      <th>8244</th>\n      <td>224.0.0.252-10.8.8.246-5355-50686-17</td>\n      <td>10.8.8.246</td>\n      <td>50686</td>\n      <td>224.0.0.252</td>\n      <td>5355</td>\n      <td>17</td>\n      <td>23/05/2015 01:28:50 上午</td>\n      <td>410587</td>\n      <td>1</td>\n      <td>1</td>\n      <td>...</td>\n      <td>0</td>\n      <td>0.0</td>\n      <td>0.0</td>\n      <td>0.0</td>\n      <td>0.0</td>\n      <td>0.0</td>\n      <td>0.0</td>\n      <td>0.0</td>\n      <td>0.0</td>\n      <td>9</td>\n    </tr>\n    <tr>\n      <th>8245</th>\n      <td>224.0.0.252-10.8.8.246-5355-64484-17</td>\n      <td>10.8.8.246</td>\n      <td>64484</td>\n      <td>224.0.0.252</td>\n      <td>5355</td>\n      <td>17</td>\n      <td>23/05/2015 01:29:55 上午</td>\n      <td>411650</td>\n      <td>1</td>\n      <td>1</td>\n      <td>...</td>\n      <td>0</td>\n      <td>0.0</td>\n      <td>0.0</td>\n      <td>0.0</td>\n      <td>0.0</td>\n      <td>0.0</td>\n      <td>0.0</td>\n      <td>0.0</td>\n      <td>0.0</td>\n      <td>9</td>\n    </tr>\n    <tr>\n      <th>8246</th>\n      <td>224.0.0.252-10.8.8.246-5355-54056-17</td>\n      <td>10.8.8.246</td>\n      <td>54056</td>\n      <td>224.0.0.252</td>\n      <td>5355</td>\n      <td>17</td>\n      <td>23/05/2015 01:09:05 上午</td>\n      <td>411784</td>\n      <td>1</td>\n      <td>1</td>\n      <td>...</td>\n      <td>0</td>\n      <td>0.0</td>\n      <td>0.0</td>\n      <td>0.0</td>\n      <td>0.0</td>\n      <td>0.0</td>\n      <td>0.0</td>\n      <td>0.0</td>\n      <td>0.0</td>\n      <td>9</td>\n    </tr>\n  </tbody>\n</table>\n<p>10 rows × 84 columns</p>\n</div>"
     },
     "execution_count": 16,
     "metadata": {},
     "output_type": "execute_result"
    }
   ],
   "source": [
    "data.tail(10)"
   ],
   "metadata": {
    "collapsed": false,
    "ExecuteTime": {
     "end_time": "2023-06-21T11:41:56.395100100Z",
     "start_time": "2023-06-21T11:41:56.341696400Z"
    }
   }
  },
  {
   "cell_type": "markdown",
   "source": [
    "## 1.2 数据清理，重复值，缺失值处理"
   ],
   "metadata": {
    "collapsed": false
   }
  },
  {
   "cell_type": "markdown",
   "source": [
    "数据去重，数据除去缺失值，包括NaN值与inf值"
   ],
   "metadata": {
    "collapsed": false
   }
  },
  {
   "cell_type": "code",
   "execution_count": 18,
   "outputs": [
    {
     "name": "stdout",
     "output_type": "stream",
     "text": [
      "去重前\n",
      "(211529, 84)\n"
     ]
    }
   ],
   "source": [
    "print(\"去重前\")\n",
    "print(data.shape)"
   ],
   "metadata": {
    "collapsed": false,
    "ExecuteTime": {
     "end_time": "2023-06-21T11:42:49.538806200Z",
     "start_time": "2023-06-21T11:42:49.512877400Z"
    }
   }
  },
  {
   "cell_type": "markdown",
   "source": [
    "重复值去重"
   ],
   "metadata": {
    "collapsed": false
   }
  },
  {
   "cell_type": "code",
   "execution_count": 19,
   "outputs": [],
   "source": [
    "data.drop_duplicates(inplace=True)"
   ],
   "metadata": {
    "collapsed": false,
    "ExecuteTime": {
     "end_time": "2023-06-21T11:42:52.277510300Z",
     "start_time": "2023-06-21T11:42:51.032878900Z"
    }
   }
  },
  {
   "cell_type": "code",
   "execution_count": 20,
   "outputs": [
    {
     "name": "stdout",
     "output_type": "stream",
     "text": [
      "去重后\n",
      "(211529, 84)\n"
     ]
    }
   ],
   "source": [
    "print(\"去重后\")\n",
    "print(data.shape)\n"
   ],
   "metadata": {
    "collapsed": false,
    "ExecuteTime": {
     "end_time": "2023-06-21T11:42:52.816035800Z",
     "start_time": "2023-06-21T11:42:52.775078500Z"
    }
   }
  },
  {
   "cell_type": "markdown",
   "source": [
    "缺失值处理,删除NaN与inf"
   ],
   "metadata": {
    "collapsed": false
   }
  },
  {
   "cell_type": "code",
   "execution_count": 21,
   "outputs": [],
   "source": [
    "\n",
    "data = data.dropna()\n"
   ],
   "metadata": {
    "collapsed": false,
    "ExecuteTime": {
     "end_time": "2023-06-21T11:43:11.599125700Z",
     "start_time": "2023-06-21T11:43:11.392648100Z"
    }
   }
  },
  {
   "cell_type": "code",
   "execution_count": 22,
   "outputs": [
    {
     "name": "stdout",
     "output_type": "stream",
     "text": [
      "进行缺失值处理后\n",
      "(211524, 84)\n"
     ]
    }
   ],
   "source": [
    "print(\"进行缺失值处理后\")\n",
    "print(data.shape)\n"
   ],
   "metadata": {
    "collapsed": false,
    "ExecuteTime": {
     "end_time": "2023-06-21T11:43:20.107349400Z",
     "start_time": "2023-06-21T11:43:20.087837Z"
    }
   }
  },
  {
   "cell_type": "markdown",
   "source": [
    "# 2 特征工程\n",
    "将84维特征收敛为低维特征方便预测"
   ],
   "metadata": {
    "collapsed": false
   }
  },
  {
   "cell_type": "markdown",
   "source": [
    "## 2.1 特征编码\n",
    "首先Flow ID,Src IP,Src Port,Dst IP,Dst Port,Protocol,Timestamp,这几列是记录流的ip与端口以及捕获时间，与最终标签无关，手动删除\n"
   ],
   "metadata": {
    "collapsed": false
   }
  },
  {
   "cell_type": "code",
   "execution_count": 23,
   "outputs": [],
   "source": [
    "\n",
    "data = data.iloc[:,7:]\n",
    "\n"
   ],
   "metadata": {
    "collapsed": false,
    "ExecuteTime": {
     "end_time": "2023-06-21T11:43:43.981201Z",
     "start_time": "2023-06-21T11:43:43.942730400Z"
    }
   }
  },
  {
   "cell_type": "code",
   "execution_count": 24,
   "outputs": [
    {
     "name": "stdout",
     "output_type": "stream",
     "text": [
      "(211524, 77)\n"
     ]
    }
   ],
   "source": [
    "print(data.shape)\n"
   ],
   "metadata": {
    "collapsed": false,
    "ExecuteTime": {
     "end_time": "2023-06-21T11:43:51.251443200Z",
     "start_time": "2023-06-21T11:43:51.217532Z"
    }
   }
  },
  {
   "cell_type": "code",
   "execution_count": 25,
   "outputs": [
    {
     "data": {
      "text/plain": "   Flow Duration  Tot Fwd Pkts  Tot Bwd Pkts  TotLen Fwd Pkts  \\\n0      119999581             2             3            148.0   \n1      119999899            11            13            739.0   \n2       60054835             1             3             74.0   \n3       87805460            12            14            681.0   \n4      119998971             4             5             24.0   \n5      119999431             4             5             24.0   \n6       90172994             3             5             18.0   \n7       90167315             3             5             18.0   \n8      114005968             7             1              0.0   \n9        1499698             2             1            100.0   \n\n   TotLen Bwd Pkts  Fwd Pkt Len Max  Fwd Pkt Len Min  Fwd Pkt Len Mean  \\\n0             74.0             74.0             74.0         74.000000   \n1           1586.0            293.0              0.0         67.181818   \n2             74.0             74.0             74.0         74.000000   \n3           1852.0            213.0              0.0         56.750000   \n4              6.0              6.0              6.0          6.000000   \n5              6.0              6.0              6.0          6.000000   \n6              6.0              6.0              6.0          6.000000   \n7              6.0              6.0              6.0          6.000000   \n8              0.0              0.0              0.0          0.000000   \n9             50.0             50.0             50.0         50.000000   \n\n   Fwd Pkt Len Std  Bwd Pkt Len Max  ...  Fwd Seg Size Min   Active Mean  \\\n0         0.000000             74.0  ...                 0  5.243150e+04   \n1        85.003315            458.0  ...                 0  1.132177e+06   \n2         0.000000             74.0  ...                 0  5.296800e+04   \n3        79.876183            453.0  ...                 0  3.712991e+06   \n4         0.000000              6.0  ...                 0  1.680420e+05   \n5         0.000000              6.0  ...                 0  1.748422e+05   \n6         0.000000              6.0  ...                 0  1.733753e+05   \n7         0.000000              6.0  ...                 0  1.684593e+05   \n8         0.000000              0.0  ...                 0  1.184000e+03   \n9         0.000000             50.0  ...                 0  0.000000e+00   \n\n     Active Std  Active Max  Active Min     Idle Mean      Idle Std  \\\n0  5.734636e+02     52837.0     52026.0  5.994736e+07  4.879037e+02   \n1  1.665046e+06   3378621.0     20232.0  1.886781e+07  1.293738e+07   \n2  0.000000e+00     52968.0     52968.0  5.994906e+07  0.000000e+00   \n3  3.555993e+06   7114375.0     20308.0  2.438451e+07  1.820219e+07   \n4  1.891613e+02    168275.0    167828.0  2.983170e+07  6.525541e+02   \n5  3.024967e+02    175290.0    174632.0  2.982502e+07  9.344747e+02   \n6  2.015598e+02    173585.0    173183.0  2.982670e+07  6.095050e+03   \n7  1.531593e+03    170184.0    167258.0  2.983157e+07  7.436309e+03   \n8  1.013558e+02      1301.0      1123.0  3.799879e+07  8.046583e+06   \n9  0.000000e+00         0.0         0.0  0.000000e+00  0.000000e+00   \n\n     Idle Max    Idle Min  Label  \n0  59947704.0  59947014.0      0  \n1  40602165.0   8405794.0      0  \n2  59949058.0  59949058.0      0  \n3  45086942.0  10890558.0      0  \n4  29832657.0  29831207.0      0  \n5  29826034.0  29823877.0      0  \n6  29832988.0  29820818.0      0  \n7  29838505.0  29823717.0      0  \n8  46998534.0  31498681.0      0  \n9         0.0         0.0      0  \n\n[10 rows x 77 columns]",
      "text/html": "<div>\n<style scoped>\n    .dataframe tbody tr th:only-of-type {\n        vertical-align: middle;\n    }\n\n    .dataframe tbody tr th {\n        vertical-align: top;\n    }\n\n    .dataframe thead th {\n        text-align: right;\n    }\n</style>\n<table border=\"1\" class=\"dataframe\">\n  <thead>\n    <tr style=\"text-align: right;\">\n      <th></th>\n      <th>Flow Duration</th>\n      <th>Tot Fwd Pkts</th>\n      <th>Tot Bwd Pkts</th>\n      <th>TotLen Fwd Pkts</th>\n      <th>TotLen Bwd Pkts</th>\n      <th>Fwd Pkt Len Max</th>\n      <th>Fwd Pkt Len Min</th>\n      <th>Fwd Pkt Len Mean</th>\n      <th>Fwd Pkt Len Std</th>\n      <th>Bwd Pkt Len Max</th>\n      <th>...</th>\n      <th>Fwd Seg Size Min</th>\n      <th>Active Mean</th>\n      <th>Active Std</th>\n      <th>Active Max</th>\n      <th>Active Min</th>\n      <th>Idle Mean</th>\n      <th>Idle Std</th>\n      <th>Idle Max</th>\n      <th>Idle Min</th>\n      <th>Label</th>\n    </tr>\n  </thead>\n  <tbody>\n    <tr>\n      <th>0</th>\n      <td>119999581</td>\n      <td>2</td>\n      <td>3</td>\n      <td>148.0</td>\n      <td>74.0</td>\n      <td>74.0</td>\n      <td>74.0</td>\n      <td>74.000000</td>\n      <td>0.000000</td>\n      <td>74.0</td>\n      <td>...</td>\n      <td>0</td>\n      <td>5.243150e+04</td>\n      <td>5.734636e+02</td>\n      <td>52837.0</td>\n      <td>52026.0</td>\n      <td>5.994736e+07</td>\n      <td>4.879037e+02</td>\n      <td>59947704.0</td>\n      <td>59947014.0</td>\n      <td>0</td>\n    </tr>\n    <tr>\n      <th>1</th>\n      <td>119999899</td>\n      <td>11</td>\n      <td>13</td>\n      <td>739.0</td>\n      <td>1586.0</td>\n      <td>293.0</td>\n      <td>0.0</td>\n      <td>67.181818</td>\n      <td>85.003315</td>\n      <td>458.0</td>\n      <td>...</td>\n      <td>0</td>\n      <td>1.132177e+06</td>\n      <td>1.665046e+06</td>\n      <td>3378621.0</td>\n      <td>20232.0</td>\n      <td>1.886781e+07</td>\n      <td>1.293738e+07</td>\n      <td>40602165.0</td>\n      <td>8405794.0</td>\n      <td>0</td>\n    </tr>\n    <tr>\n      <th>2</th>\n      <td>60054835</td>\n      <td>1</td>\n      <td>3</td>\n      <td>74.0</td>\n      <td>74.0</td>\n      <td>74.0</td>\n      <td>74.0</td>\n      <td>74.000000</td>\n      <td>0.000000</td>\n      <td>74.0</td>\n      <td>...</td>\n      <td>0</td>\n      <td>5.296800e+04</td>\n      <td>0.000000e+00</td>\n      <td>52968.0</td>\n      <td>52968.0</td>\n      <td>5.994906e+07</td>\n      <td>0.000000e+00</td>\n      <td>59949058.0</td>\n      <td>59949058.0</td>\n      <td>0</td>\n    </tr>\n    <tr>\n      <th>3</th>\n      <td>87805460</td>\n      <td>12</td>\n      <td>14</td>\n      <td>681.0</td>\n      <td>1852.0</td>\n      <td>213.0</td>\n      <td>0.0</td>\n      <td>56.750000</td>\n      <td>79.876183</td>\n      <td>453.0</td>\n      <td>...</td>\n      <td>0</td>\n      <td>3.712991e+06</td>\n      <td>3.555993e+06</td>\n      <td>7114375.0</td>\n      <td>20308.0</td>\n      <td>2.438451e+07</td>\n      <td>1.820219e+07</td>\n      <td>45086942.0</td>\n      <td>10890558.0</td>\n      <td>0</td>\n    </tr>\n    <tr>\n      <th>4</th>\n      <td>119998971</td>\n      <td>4</td>\n      <td>5</td>\n      <td>24.0</td>\n      <td>6.0</td>\n      <td>6.0</td>\n      <td>6.0</td>\n      <td>6.000000</td>\n      <td>0.000000</td>\n      <td>6.0</td>\n      <td>...</td>\n      <td>0</td>\n      <td>1.680420e+05</td>\n      <td>1.891613e+02</td>\n      <td>168275.0</td>\n      <td>167828.0</td>\n      <td>2.983170e+07</td>\n      <td>6.525541e+02</td>\n      <td>29832657.0</td>\n      <td>29831207.0</td>\n      <td>0</td>\n    </tr>\n    <tr>\n      <th>5</th>\n      <td>119999431</td>\n      <td>4</td>\n      <td>5</td>\n      <td>24.0</td>\n      <td>6.0</td>\n      <td>6.0</td>\n      <td>6.0</td>\n      <td>6.000000</td>\n      <td>0.000000</td>\n      <td>6.0</td>\n      <td>...</td>\n      <td>0</td>\n      <td>1.748422e+05</td>\n      <td>3.024967e+02</td>\n      <td>175290.0</td>\n      <td>174632.0</td>\n      <td>2.982502e+07</td>\n      <td>9.344747e+02</td>\n      <td>29826034.0</td>\n      <td>29823877.0</td>\n      <td>0</td>\n    </tr>\n    <tr>\n      <th>6</th>\n      <td>90172994</td>\n      <td>3</td>\n      <td>5</td>\n      <td>18.0</td>\n      <td>6.0</td>\n      <td>6.0</td>\n      <td>6.0</td>\n      <td>6.000000</td>\n      <td>0.000000</td>\n      <td>6.0</td>\n      <td>...</td>\n      <td>0</td>\n      <td>1.733753e+05</td>\n      <td>2.015598e+02</td>\n      <td>173585.0</td>\n      <td>173183.0</td>\n      <td>2.982670e+07</td>\n      <td>6.095050e+03</td>\n      <td>29832988.0</td>\n      <td>29820818.0</td>\n      <td>0</td>\n    </tr>\n    <tr>\n      <th>7</th>\n      <td>90167315</td>\n      <td>3</td>\n      <td>5</td>\n      <td>18.0</td>\n      <td>6.0</td>\n      <td>6.0</td>\n      <td>6.0</td>\n      <td>6.000000</td>\n      <td>0.000000</td>\n      <td>6.0</td>\n      <td>...</td>\n      <td>0</td>\n      <td>1.684593e+05</td>\n      <td>1.531593e+03</td>\n      <td>170184.0</td>\n      <td>167258.0</td>\n      <td>2.983157e+07</td>\n      <td>7.436309e+03</td>\n      <td>29838505.0</td>\n      <td>29823717.0</td>\n      <td>0</td>\n    </tr>\n    <tr>\n      <th>8</th>\n      <td>114005968</td>\n      <td>7</td>\n      <td>1</td>\n      <td>0.0</td>\n      <td>0.0</td>\n      <td>0.0</td>\n      <td>0.0</td>\n      <td>0.000000</td>\n      <td>0.000000</td>\n      <td>0.0</td>\n      <td>...</td>\n      <td>0</td>\n      <td>1.184000e+03</td>\n      <td>1.013558e+02</td>\n      <td>1301.0</td>\n      <td>1123.0</td>\n      <td>3.799879e+07</td>\n      <td>8.046583e+06</td>\n      <td>46998534.0</td>\n      <td>31498681.0</td>\n      <td>0</td>\n    </tr>\n    <tr>\n      <th>9</th>\n      <td>1499698</td>\n      <td>2</td>\n      <td>1</td>\n      <td>100.0</td>\n      <td>50.0</td>\n      <td>50.0</td>\n      <td>50.0</td>\n      <td>50.000000</td>\n      <td>0.000000</td>\n      <td>50.0</td>\n      <td>...</td>\n      <td>0</td>\n      <td>0.000000e+00</td>\n      <td>0.000000e+00</td>\n      <td>0.0</td>\n      <td>0.0</td>\n      <td>0.000000e+00</td>\n      <td>0.000000e+00</td>\n      <td>0.0</td>\n      <td>0.0</td>\n      <td>0</td>\n    </tr>\n  </tbody>\n</table>\n<p>10 rows × 77 columns</p>\n</div>"
     },
     "execution_count": 25,
     "metadata": {},
     "output_type": "execute_result"
    }
   ],
   "source": [
    "data.head(10)"
   ],
   "metadata": {
    "collapsed": false,
    "ExecuteTime": {
     "end_time": "2023-06-21T11:43:56.737416500Z",
     "start_time": "2023-06-21T11:43:56.681050800Z"
    }
   }
  },
  {
   "cell_type": "code",
   "execution_count": 26,
   "outputs": [],
   "source": [
    "X = data.iloc[:, :-1]  # 选取所有行，除了最后一列以外的所有列作为特征\n",
    "y = data.iloc[:, -1]   # 选取所有行，最后一列作为标签"
   ],
   "metadata": {
    "collapsed": false,
    "ExecuteTime": {
     "end_time": "2023-06-21T11:44:29.918186600Z",
     "start_time": "2023-06-21T11:44:29.833804500Z"
    }
   }
  },
  {
   "cell_type": "code",
   "execution_count": 27,
   "outputs": [
    {
     "name": "stdout",
     "output_type": "stream",
     "text": [
      "(211524, 76)\n",
      "(211524,)\n"
     ]
    }
   ],
   "source": [
    "print(X.shape)\n",
    "print(y.shape)"
   ],
   "metadata": {
    "collapsed": false,
    "ExecuteTime": {
     "end_time": "2023-06-21T11:44:30.555638500Z",
     "start_time": "2023-06-21T11:44:30.519735400Z"
    }
   }
  },
  {
   "cell_type": "markdown",
   "source": [
    "查看特征描述"
   ],
   "metadata": {
    "collapsed": false
   }
  },
  {
   "cell_type": "code",
   "execution_count": 28,
   "outputs": [
    {
     "data": {
      "text/plain": "       Flow Duration   Tot Fwd Pkts   Tot Bwd Pkts  TotLen Fwd Pkts  \\\ncount   2.115240e+05  211524.000000  211524.000000     2.115240e+05   \nmean    1.003206e+07      54.768641      65.488328     4.234968e+04   \nstd     2.916630e+07    1559.064118    2762.325247     3.626545e+06   \nmin     0.000000e+00       0.000000       1.000000     0.000000e+00   \n25%     4.107200e+05       1.000000       1.000000     2.200000e+01   \n50%     4.127300e+05       1.000000       1.000000     2.200000e+01   \n75%     4.208770e+05       1.000000       1.000000     2.200000e+01   \nmax     1.200000e+08  238160.000000  470863.000000     1.079183e+09   \n\n       TotLen Bwd Pkts  Fwd Pkt Len Max  Fwd Pkt Len Min  Fwd Pkt Len Mean  \\\ncount     2.115240e+05    211524.000000    211524.000000     211524.000000   \nmean      5.592605e+04        66.602414        23.223629         35.364694   \nstd       3.740303e+06       920.483207        30.866179        296.492943   \nmin       0.000000e+00         0.000000         0.000000          0.000000   \n25%       2.200000e+01        22.000000        22.000000         22.000000   \n50%       2.200000e+01        22.000000        22.000000         22.000000   \n75%       2.200000e+01        22.000000        22.000000         22.000000   \nmax       6.704287e+08     65160.000000      1350.000000      28503.425009   \n\n       Fwd Pkt Len Std  Bwd Pkt Len Max  ...  Fwd Act Data Pkts  \\\ncount    211524.000000    211524.000000  ...      211524.000000   \nmean         12.758944        91.176377  ...          33.590429   \nstd         187.751152       566.699164  ...         731.188832   \nmin           0.000000         0.000000  ...           0.000000   \n25%           0.000000        22.000000  ...           1.000000   \n50%           0.000000        22.000000  ...           1.000000   \n75%           0.000000        22.000000  ...           1.000000   \nmax       19074.915609     48168.000000  ...       62415.000000   \n\n       Fwd Seg Size Min   Active Mean    Active Std    Active Max  \\\ncount          211524.0  2.115240e+05  2.115240e+05  2.115240e+05   \nmean                0.0  1.800153e+05  9.443392e+04  3.015242e+05   \nstd                 0.0  2.004644e+06  1.204375e+06  3.002680e+06   \nmin                 0.0  0.000000e+00  0.000000e+00  0.000000e+00   \n25%                 0.0  0.000000e+00  0.000000e+00  0.000000e+00   \n50%                 0.0  0.000000e+00  0.000000e+00  0.000000e+00   \n75%                 0.0  0.000000e+00  0.000000e+00  0.000000e+00   \nmax                 0.0  1.130879e+08  6.720255e+07  1.130879e+08   \n\n         Active Min     Idle Mean      Idle Std      Idle Max      Idle Min  \ncount  2.115240e+05  2.115240e+05  2.115240e+05  2.115240e+05  2.115240e+05  \nmean   1.073498e+05  3.806053e+06  2.974142e+05  4.075604e+06  3.553331e+06  \nstd    1.633785e+06  1.459907e+07  2.738837e+06  1.525688e+07  1.427299e+07  \nmin    0.000000e+00  0.000000e+00  0.000000e+00  0.000000e+00  0.000000e+00  \n25%    0.000000e+00  0.000000e+00  0.000000e+00  0.000000e+00  0.000000e+00  \n50%    0.000000e+00  0.000000e+00  0.000000e+00  0.000000e+00  0.000000e+00  \n75%    0.000000e+00  0.000000e+00  0.000000e+00  0.000000e+00  0.000000e+00  \nmax    1.130879e+08  1.199994e+08  7.694450e+07  1.199994e+08  1.199994e+08  \n\n[8 rows x 76 columns]",
      "text/html": "<div>\n<style scoped>\n    .dataframe tbody tr th:only-of-type {\n        vertical-align: middle;\n    }\n\n    .dataframe tbody tr th {\n        vertical-align: top;\n    }\n\n    .dataframe thead th {\n        text-align: right;\n    }\n</style>\n<table border=\"1\" class=\"dataframe\">\n  <thead>\n    <tr style=\"text-align: right;\">\n      <th></th>\n      <th>Flow Duration</th>\n      <th>Tot Fwd Pkts</th>\n      <th>Tot Bwd Pkts</th>\n      <th>TotLen Fwd Pkts</th>\n      <th>TotLen Bwd Pkts</th>\n      <th>Fwd Pkt Len Max</th>\n      <th>Fwd Pkt Len Min</th>\n      <th>Fwd Pkt Len Mean</th>\n      <th>Fwd Pkt Len Std</th>\n      <th>Bwd Pkt Len Max</th>\n      <th>...</th>\n      <th>Fwd Act Data Pkts</th>\n      <th>Fwd Seg Size Min</th>\n      <th>Active Mean</th>\n      <th>Active Std</th>\n      <th>Active Max</th>\n      <th>Active Min</th>\n      <th>Idle Mean</th>\n      <th>Idle Std</th>\n      <th>Idle Max</th>\n      <th>Idle Min</th>\n    </tr>\n  </thead>\n  <tbody>\n    <tr>\n      <th>count</th>\n      <td>2.115240e+05</td>\n      <td>211524.000000</td>\n      <td>211524.000000</td>\n      <td>2.115240e+05</td>\n      <td>2.115240e+05</td>\n      <td>211524.000000</td>\n      <td>211524.000000</td>\n      <td>211524.000000</td>\n      <td>211524.000000</td>\n      <td>211524.000000</td>\n      <td>...</td>\n      <td>211524.000000</td>\n      <td>211524.0</td>\n      <td>2.115240e+05</td>\n      <td>2.115240e+05</td>\n      <td>2.115240e+05</td>\n      <td>2.115240e+05</td>\n      <td>2.115240e+05</td>\n      <td>2.115240e+05</td>\n      <td>2.115240e+05</td>\n      <td>2.115240e+05</td>\n    </tr>\n    <tr>\n      <th>mean</th>\n      <td>1.003206e+07</td>\n      <td>54.768641</td>\n      <td>65.488328</td>\n      <td>4.234968e+04</td>\n      <td>5.592605e+04</td>\n      <td>66.602414</td>\n      <td>23.223629</td>\n      <td>35.364694</td>\n      <td>12.758944</td>\n      <td>91.176377</td>\n      <td>...</td>\n      <td>33.590429</td>\n      <td>0.0</td>\n      <td>1.800153e+05</td>\n      <td>9.443392e+04</td>\n      <td>3.015242e+05</td>\n      <td>1.073498e+05</td>\n      <td>3.806053e+06</td>\n      <td>2.974142e+05</td>\n      <td>4.075604e+06</td>\n      <td>3.553331e+06</td>\n    </tr>\n    <tr>\n      <th>std</th>\n      <td>2.916630e+07</td>\n      <td>1559.064118</td>\n      <td>2762.325247</td>\n      <td>3.626545e+06</td>\n      <td>3.740303e+06</td>\n      <td>920.483207</td>\n      <td>30.866179</td>\n      <td>296.492943</td>\n      <td>187.751152</td>\n      <td>566.699164</td>\n      <td>...</td>\n      <td>731.188832</td>\n      <td>0.0</td>\n      <td>2.004644e+06</td>\n      <td>1.204375e+06</td>\n      <td>3.002680e+06</td>\n      <td>1.633785e+06</td>\n      <td>1.459907e+07</td>\n      <td>2.738837e+06</td>\n      <td>1.525688e+07</td>\n      <td>1.427299e+07</td>\n    </tr>\n    <tr>\n      <th>min</th>\n      <td>0.000000e+00</td>\n      <td>0.000000</td>\n      <td>1.000000</td>\n      <td>0.000000e+00</td>\n      <td>0.000000e+00</td>\n      <td>0.000000</td>\n      <td>0.000000</td>\n      <td>0.000000</td>\n      <td>0.000000</td>\n      <td>0.000000</td>\n      <td>...</td>\n      <td>0.000000</td>\n      <td>0.0</td>\n      <td>0.000000e+00</td>\n      <td>0.000000e+00</td>\n      <td>0.000000e+00</td>\n      <td>0.000000e+00</td>\n      <td>0.000000e+00</td>\n      <td>0.000000e+00</td>\n      <td>0.000000e+00</td>\n      <td>0.000000e+00</td>\n    </tr>\n    <tr>\n      <th>25%</th>\n      <td>4.107200e+05</td>\n      <td>1.000000</td>\n      <td>1.000000</td>\n      <td>2.200000e+01</td>\n      <td>2.200000e+01</td>\n      <td>22.000000</td>\n      <td>22.000000</td>\n      <td>22.000000</td>\n      <td>0.000000</td>\n      <td>22.000000</td>\n      <td>...</td>\n      <td>1.000000</td>\n      <td>0.0</td>\n      <td>0.000000e+00</td>\n      <td>0.000000e+00</td>\n      <td>0.000000e+00</td>\n      <td>0.000000e+00</td>\n      <td>0.000000e+00</td>\n      <td>0.000000e+00</td>\n      <td>0.000000e+00</td>\n      <td>0.000000e+00</td>\n    </tr>\n    <tr>\n      <th>50%</th>\n      <td>4.127300e+05</td>\n      <td>1.000000</td>\n      <td>1.000000</td>\n      <td>2.200000e+01</td>\n      <td>2.200000e+01</td>\n      <td>22.000000</td>\n      <td>22.000000</td>\n      <td>22.000000</td>\n      <td>0.000000</td>\n      <td>22.000000</td>\n      <td>...</td>\n      <td>1.000000</td>\n      <td>0.0</td>\n      <td>0.000000e+00</td>\n      <td>0.000000e+00</td>\n      <td>0.000000e+00</td>\n      <td>0.000000e+00</td>\n      <td>0.000000e+00</td>\n      <td>0.000000e+00</td>\n      <td>0.000000e+00</td>\n      <td>0.000000e+00</td>\n    </tr>\n    <tr>\n      <th>75%</th>\n      <td>4.208770e+05</td>\n      <td>1.000000</td>\n      <td>1.000000</td>\n      <td>2.200000e+01</td>\n      <td>2.200000e+01</td>\n      <td>22.000000</td>\n      <td>22.000000</td>\n      <td>22.000000</td>\n      <td>0.000000</td>\n      <td>22.000000</td>\n      <td>...</td>\n      <td>1.000000</td>\n      <td>0.0</td>\n      <td>0.000000e+00</td>\n      <td>0.000000e+00</td>\n      <td>0.000000e+00</td>\n      <td>0.000000e+00</td>\n      <td>0.000000e+00</td>\n      <td>0.000000e+00</td>\n      <td>0.000000e+00</td>\n      <td>0.000000e+00</td>\n    </tr>\n    <tr>\n      <th>max</th>\n      <td>1.200000e+08</td>\n      <td>238160.000000</td>\n      <td>470863.000000</td>\n      <td>1.079183e+09</td>\n      <td>6.704287e+08</td>\n      <td>65160.000000</td>\n      <td>1350.000000</td>\n      <td>28503.425009</td>\n      <td>19074.915609</td>\n      <td>48168.000000</td>\n      <td>...</td>\n      <td>62415.000000</td>\n      <td>0.0</td>\n      <td>1.130879e+08</td>\n      <td>6.720255e+07</td>\n      <td>1.130879e+08</td>\n      <td>1.130879e+08</td>\n      <td>1.199994e+08</td>\n      <td>7.694450e+07</td>\n      <td>1.199994e+08</td>\n      <td>1.199994e+08</td>\n    </tr>\n  </tbody>\n</table>\n<p>8 rows × 76 columns</p>\n</div>"
     },
     "execution_count": 28,
     "metadata": {},
     "output_type": "execute_result"
    }
   ],
   "source": [
    "X.describe()"
   ],
   "metadata": {
    "collapsed": false,
    "ExecuteTime": {
     "end_time": "2023-06-21T11:44:35.319016100Z",
     "start_time": "2023-06-21T11:44:34.537674400Z"
    }
   }
  },
  {
   "cell_type": "markdown",
   "source": [
    "再舍去两个特征"
   ],
   "metadata": {
    "collapsed": false
   }
  },
  {
   "cell_type": "code",
   "execution_count": 29,
   "outputs": [
    {
     "data": {
      "text/plain": "(211524, 74)"
     },
     "execution_count": 29,
     "metadata": {},
     "output_type": "execute_result"
    }
   ],
   "source": [
    "X = X.drop(['Flow Byts/s','Flow Pkts/s'],axis = 1)\n",
    "X.shape"
   ],
   "metadata": {
    "collapsed": false,
    "ExecuteTime": {
     "end_time": "2023-06-21T11:44:59.314486500Z",
     "start_time": "2023-06-21T11:44:59.239167300Z"
    }
   }
  },
  {
   "cell_type": "markdown",
   "source": [
    "最大最小归一化"
   ],
   "metadata": {
    "collapsed": false
   }
  },
  {
   "cell_type": "code",
   "execution_count": 30,
   "outputs": [],
   "source": [
    "\n",
    "from sklearn.preprocessing import minmax_scale\n",
    "\n",
    "X = minmax_scale(X)"
   ],
   "metadata": {
    "collapsed": false,
    "ExecuteTime": {
     "end_time": "2023-06-21T11:45:03.499385100Z",
     "start_time": "2023-06-21T11:45:03.234401100Z"
    }
   }
  },
  {
   "cell_type": "code",
   "execution_count": 31,
   "outputs": [
    {
     "data": {
      "text/plain": "array([[9.99996508e-01, 8.39771582e-06, 4.24752900e-06, ...,\n        6.34098172e-06, 4.99566569e-01, 4.99560819e-01],\n       [9.99999158e-01, 4.61874370e-05, 2.54851740e-05, ...,\n        1.68139104e-01, 3.38352979e-01, 7.00486155e-02],\n       [5.00456958e-01, 4.19885791e-06, 4.24752900e-06, ...,\n        0.00000000e+00, 4.99577852e-01, 4.99577852e-01],\n       ...,\n       [3.42155833e-03, 4.19885791e-06, 0.00000000e+00, ...,\n        0.00000000e+00, 0.00000000e+00, 0.00000000e+00],\n       [3.43041667e-03, 4.19885791e-06, 0.00000000e+00, ...,\n        0.00000000e+00, 0.00000000e+00, 0.00000000e+00],\n       [3.43153333e-03, 4.19885791e-06, 0.00000000e+00, ...,\n        0.00000000e+00, 0.00000000e+00, 0.00000000e+00]])"
     },
     "execution_count": 31,
     "metadata": {},
     "output_type": "execute_result"
    }
   ],
   "source": [
    "X"
   ],
   "metadata": {
    "collapsed": false,
    "ExecuteTime": {
     "end_time": "2023-06-21T11:45:05.590479600Z",
     "start_time": "2023-06-21T11:45:05.566506900Z"
    }
   }
  },
  {
   "cell_type": "markdown",
   "source": [
    "基于随机森林特征选择方法对特征重要度进行评分\n"
   ],
   "metadata": {
    "collapsed": false
   }
  },
  {
   "cell_type": "code",
   "execution_count": 32,
   "outputs": [
    {
     "name": "stdout",
     "output_type": "stream",
     "text": [
      "1. 特征 34 (0.236226)\n",
      "2. 特征 58 (0.080593)\n",
      "3. 特征 1 (0.068940)\n",
      "4. 特征 63 (0.056643)\n",
      "5. 特征 16 (0.034850)\n",
      "6. 特征 32 (0.028199)\n",
      "7. 特征 36 (0.028043)\n",
      "8. 特征 0 (0.027817)\n",
      "9. 特征 26 (0.027037)\n",
      "10. 特征 15 (0.025516)\n",
      "11. 特征 13 (0.021076)\n",
      "12. 特征 69 (0.019006)\n",
      "13. 特征 22 (0.018403)\n",
      "14. 特征 9 (0.016790)\n",
      "15. 特征 49 (0.016143)\n",
      "16. 特征 14 (0.014831)\n",
      "17. 特征 37 (0.014731)\n",
      "18. 特征 12 (0.014455)\n",
      "19. 特征 11 (0.013741)\n",
      "20. 特征 51 (0.013502)\n",
      "21. 特征 35 (0.013433)\n",
      "22. 特征 25 (0.013330)\n",
      "23. 特征 21 (0.012489)\n",
      "24. 特征 38 (0.012447)\n",
      "25. 特征 23 (0.011819)\n",
      "26. 特征 10 (0.011255)\n",
      "27. 特征 33 (0.010828)\n",
      "28. 特征 39 (0.009218)\n",
      "29. 特征 20 (0.008601)\n",
      "30. 特征 17 (0.008450)\n",
      "31. 特征 24 (0.008288)\n",
      "32. 特征 18 (0.008045)\n",
      "33. 特征 73 (0.007223)\n",
      "34. 特征 31 (0.006920)\n",
      "35. 特征 72 (0.006627)\n",
      "36. 特征 5 (0.006381)\n",
      "37. 特征 19 (0.005905)\n",
      "38. 特征 8 (0.005109)\n",
      "39. 特征 42 (0.005059)\n",
      "40. 特征 68 (0.004889)\n",
      "41. 特征 70 (0.004878)\n",
      "42. 特征 71 (0.004877)\n",
      "43. 特征 66 (0.003984)\n",
      "44. 特征 7 (0.003953)\n",
      "45. 特征 6 (0.003784)\n",
      "46. 特征 50 (0.003463)\n",
      "47. 特征 48 (0.002804)\n",
      "48. 特征 64 (0.002567)\n",
      "49. 特征 67 (0.002341)\n",
      "50. 特征 43 (0.002102)\n",
      "51. 特征 28 (0.001902)\n",
      "52. 特征 2 (0.001576)\n",
      "53. 特征 40 (0.001535)\n",
      "54. 特征 60 (0.001483)\n",
      "55. 特征 61 (0.001445)\n",
      "56. 特征 4 (0.001356)\n",
      "57. 特征 59 (0.001092)\n",
      "58. 特征 3 (0.001000)\n",
      "59. 特征 41 (0.000523)\n",
      "60. 特征 44 (0.000477)\n",
      "61. 特征 62 (0.000000)\n",
      "62. 特征 54 (0.000000)\n",
      "63. 特征 57 (0.000000)\n",
      "64. 特征 56 (0.000000)\n",
      "65. 特征 55 (0.000000)\n",
      "66. 特征 53 (0.000000)\n",
      "67. 特征 52 (0.000000)\n",
      "68. 特征 47 (0.000000)\n",
      "69. 特征 46 (0.000000)\n",
      "70. 特征 27 (0.000000)\n",
      "71. 特征 29 (0.000000)\n",
      "72. 特征 30 (0.000000)\n",
      "73. 特征 45 (0.000000)\n",
      "74. 特征 65 (0.000000)\n"
     ]
    }
   ],
   "source": [
    "from sklearn.ensemble import RandomForestRegressor\n",
    "\n",
    "rf = RandomForestRegressor(n_estimators=100, random_state=42)\n",
    "\n",
    "rf.fit(X,y)\n",
    "\n",
    "# 获取特征重要性评分\n",
    "importances = rf.feature_importances_\n",
    "indices = np.argsort(importances)[::-1]  # 对特征重要性得分进行降序排列\n",
    "\n",
    "# 打印特征重要性评分\n",
    "for f in range(X.shape[1]):\n",
    "    print(\"%d. 特征 %d (%f)\" % (f + 1, indices[f], importances[indices[f]]))\n",
    "\n",
    "\n"
   ],
   "metadata": {
    "collapsed": false,
    "ExecuteTime": {
     "end_time": "2023-06-21T11:53:39.875804700Z",
     "start_time": "2023-06-21T11:47:12.299442200Z"
    }
   }
  },
  {
   "cell_type": "code",
   "execution_count": 33,
   "outputs": [
    {
     "data": {
      "text/plain": "<Figure size 10000x2000 with 1 Axes>",
      "image/png": "[encoded data removed]"
     },
     "metadata": {},
     "output_type": "display_data"
    }
   ],
   "source": [
    "# 作图\n",
    "plt.figure(figsize=(100,20))\n",
    "plt.title(\"Feature Importance\")\n",
    "plt.bar(range(X.shape[1]), importances[indices], color=\"r\", align=\"center\")\n",
    "plt.xticks(range(X.shape[1]), indices)\n",
    "plt.xlim([-1, X.shape[1]])\n",
    "plt.show()\n"
   ],
   "metadata": {
    "collapsed": false,
    "ExecuteTime": {
     "end_time": "2023-06-21T11:53:41.649479900Z",
     "start_time": "2023-06-21T11:53:39.879305800Z"
    }
   }
  },
  {
   "cell_type": "markdown",
   "source": [],
   "metadata": {
    "collapsed": false
   }
  },
  {
   "cell_type": "markdown",
   "source": [
    "选择重要度大于0.0090的特征"
   ],
   "metadata": {
    "collapsed": false
   }
  },
  {
   "cell_type": "code",
   "execution_count": 34,
   "outputs": [],
   "source": [
    "# 将特征评分大于 0.009 的特征作为最终特征\n",
    "final_features = [indices[i] for i in range(len(importances)) if importances[indices[i]] > 0.009]\n",
    "\n"
   ],
   "metadata": {
    "collapsed": false,
    "ExecuteTime": {
     "end_time": "2023-06-21T11:56:34.418399100Z",
     "start_time": "2023-06-21T11:56:34.404185Z"
    }
   }
  },
  {
   "cell_type": "code",
   "execution_count": 35,
   "outputs": [
    {
     "name": "stdout",
     "output_type": "stream",
     "text": [
      "[34, 58, 1, 63, 16, 32, 36, 0, 26, 15, 13, 69, 22, 9, 49, 14, 37, 12, 11, 51, 35, 25, 21, 38, 23, 10, 33, 39]\n"
     ]
    }
   ],
   "source": [
    "print(final_features)"
   ],
   "metadata": {
    "collapsed": false,
    "ExecuteTime": {
     "end_time": "2023-06-21T11:56:35.245953200Z",
     "start_time": "2023-06-21T11:56:35.222247600Z"
    }
   }
  },
  {
   "cell_type": "markdown",
   "source": [],
   "metadata": {
    "collapsed": false
   }
  },
  {
   "cell_type": "code",
   "execution_count": 36,
   "outputs": [],
   "source": [
    "X = X[:,final_features]"
   ],
   "metadata": {
    "collapsed": false,
    "ExecuteTime": {
     "end_time": "2023-06-21T11:56:43.599405100Z",
     "start_time": "2023-06-21T11:56:43.561623Z"
    }
   }
  },
  {
   "cell_type": "code",
   "execution_count": 37,
   "outputs": [
    {
     "data": {
      "text/plain": "(211524, 28)"
     },
     "execution_count": 37,
     "metadata": {},
     "output_type": "execute_result"
    }
   ],
   "source": [
    "X = pd.DataFrame(X)\n",
    "X.shape"
   ],
   "metadata": {
    "collapsed": false,
    "ExecuteTime": {
     "end_time": "2023-06-21T11:56:45.074539800Z",
     "start_time": "2023-06-21T11:56:45.046114600Z"
    }
   }
  },
  {
   "cell_type": "code",
   "execution_count": 38,
   "outputs": [],
   "source": [
    "# 数据分割\n",
    "from sklearn.model_selection import train_test_split\n",
    "X_train,X_test,y_train,y_test = train_test_split(X,y,train_size=0.8,random_state=42)"
   ],
   "metadata": {
    "collapsed": false,
    "ExecuteTime": {
     "end_time": "2023-06-21T11:56:46.905728700Z",
     "start_time": "2023-06-21T11:56:46.815887500Z"
    }
   }
  },
  {
   "cell_type": "code",
   "execution_count": 39,
   "outputs": [
    {
     "name": "stdout",
     "output_type": "stream",
     "text": [
      "(169219, 28)\n",
      "(42305, 28)\n"
     ]
    }
   ],
   "source": [
    "print(X_train.shape)\n",
    "print(X_test.shape)"
   ],
   "metadata": {
    "collapsed": false,
    "ExecuteTime": {
     "end_time": "2023-06-21T11:56:47.943064900Z",
     "start_time": "2023-06-21T11:56:47.925955Z"
    }
   }
  },
  {
   "cell_type": "code",
   "execution_count": 41,
   "outputs": [
    {
     "data": {
      "text/plain": "<Figure size 640x480 with 1 Axes>",
      "image/png": "[encoded data removed]"
     },
     "metadata": {},
     "output_type": "display_data"
    }
   ],
   "source": [
    "# 查看样本各个类别数目\n",
    "import seaborn as sns\n",
    "s = y_train\n",
    "counts = s.value_counts()\n",
    "# 使用 Seaborn 绘制条形图\n",
    "sns.barplot(x=counts.index, y=counts.values)\n",
    "plt.title('Label Counts')\n",
    "plt.xlabel('Label')\n",
    "plt.ylabel('Count')\n",
    "plt.show()"
   ],
   "metadata": {
    "collapsed": false,
    "ExecuteTime": {
     "end_time": "2023-06-21T11:57:09.500757400Z",
     "start_time": "2023-06-21T11:57:09.347904100Z"
    }
   }
  },
  {
   "cell_type": "code",
   "execution_count": 42,
   "outputs": [
    {
     "data": {
      "text/plain": "2    104462\n9    104462\n4    104462\n3    104462\n1    104462\n0    104462\n5    104462\n8    104462\n7    104462\n6    104462\nName: Label, dtype: int64"
     },
     "execution_count": 42,
     "metadata": {},
     "output_type": "execute_result"
    }
   ],
   "source": [
    "#对训练集样本过采样\n",
    "X_train, y_train = SMOTE().fit_resample(X_train,y_train)\n",
    "y_train.value_counts()\n",
    "\n"
   ],
   "metadata": {
    "collapsed": false,
    "ExecuteTime": {
     "end_time": "2023-06-21T11:58:04.160364600Z",
     "start_time": "2023-06-21T11:57:24.444777300Z"
    }
   }
  },
  {
   "cell_type": "code",
   "execution_count": 43,
   "outputs": [
    {
     "data": {
      "text/plain": "<Figure size 640x480 with 1 Axes>",
      "image/png": "[encoded data removed]"
     },
     "metadata": {},
     "output_type": "display_data"
    }
   ],
   "source": [
    "s = y_train\n",
    "counts = s.value_counts()\n",
    "# 再次作图\n",
    "sns.barplot(x=counts.index, y=counts.values)\n",
    "plt.title('Label Counts')\n",
    "plt.xlabel('Label')\n",
    "plt.ylabel('Count')\n",
    "plt.show()"
   ],
   "metadata": {
    "collapsed": false,
    "ExecuteTime": {
     "end_time": "2023-06-21T11:58:09.038926400Z",
     "start_time": "2023-06-21T11:58:08.886886Z"
    }
   }
  },
  {
   "cell_type": "code",
   "execution_count": null,
   "outputs": [],
   "source": [
    "GBDT_n_estimators = [120, 300]\n",
    "GBDT_learning_rate = [0.001, 0.01]\n",
    "GBDT_max_features = ['sqrt']\n",
    "GBDT_max_depth = [3, 5, 8]\n",
    "\n",
    "\n",
    "param_grid = {\n",
    "    'n_estimators': GBDT_n_estimators,\n",
    "    'learning_rate': GBDT_learning_rate,\n",
    "    'max_features': GBDT_max_features,\n",
    "    'max_depth': GBDT_max_depth,\n",
    "\n",
    "}\n",
    "cv_split = model_selection.ShuffleSplit(n_splits=10,\n",
    "                                        test_size=.2,\n",
    "                                        random_state=42)\n",
    "model_tunning = GridSearchCV(ensemble.GradientBoostingClassifier(),\n",
    "                             param_grid=param_grid,\n",
    "                             cv=cv_split,\n",
    "                             scoring='roc_auc')\n",
    "model_tunning.fit(X_train,y_train)\n",
    "print('最优分数', model_tunning.best_score_)  #模型最高分\n",
    "print('最优参数', model_tunning.best_params_)  #最优参数\n",
    "print('最优模型', model_tunning.best_estimator_)  #最优模型\n",
    "best_model = model_tunning.best_estimator_"
   ],
   "metadata": {
    "collapsed": false,
    "is_executing": true,
    "ExecuteTime": {
     "start_time": "2023-06-21T11:58:20.291811Z"
    }
   }
  },
  {
   "cell_type": "code",
   "execution_count": null,
   "outputs": [],
   "source": [
    "# GBDT梯度提示决策树\n",
    "\n",
    "y_predict = best_model.predict(X_test)\n",
    "cm = confusion_matrix(y_test, y_predict)\n",
    "ConfusionMatrixDisplay(cm).plot(cmap='Blues')\n",
    "from sklearn.metrics import accuracy_score, precision_score,recall_score,f1_score\n",
    "print(\"acc:{0:.3}\".format(accuracy_score(y_test, y_predict)))  #精度\n",
    "print(\"precision:{0:.3}\".format(precision_score(y_test, y_predict, average='weighted')))  #准确率\n",
    "print(\"recall:{0:.3}\".format(recall_score(y_test, y_predict,average='weighted')))  #召回率\n",
    "print(\"f1-score:{0:.3}\".format(f1_score(y_test,y_predict,average='weighted')))# F1\n",
    "\n"
   ],
   "metadata": {
    "collapsed": false,
    "is_executing": true,
    "ExecuteTime": {
     "start_time": "2023-06-25T05:28:20.731899200Z"
    }
   }
  },
  {
   "cell_type": "code",
   "execution_count": null,
   "outputs": [],
   "source": [
    "#混淆矩阵\n",
    "#### svm\n",
    "from sklearn import svm\n",
    "model = svm.SVC(gamma='scale', C=1.0, decision_function_shape='ovr', kernel='rbf')\n",
    "\n",
    "model.fit(X_train, y_train)\n",
    "y_predict = model.predict(X_test)\n",
    "cm = confusion_matrix(y_test, y_predict)\n",
    "ConfusionMatrixDisplay(cm).plot(cmap='Blues')\n",
    "from sklearn.metrics import accuracy_score, precision_score,recall_score,f1_score\n",
    "print(\"acc:{0:.3}\".format(accuracy_score(y_test, y_predict)))  #精度\n",
    "print(\"precision:{0:.3}\".format(precision_score(y_test, y_predict, average='weighted')))  #准确率\n",
    "print(\"recall:{0:.3}\".format(recall_score(y_test, y_predict,average='weighted')))  #召回率\n",
    "print(\"f1-score:{0:.3}\".format(f1_score(y_test,y_predict,average='weighted')))# F1\n"
   ],
   "metadata": {
    "collapsed": false,
    "is_executing": true,
    "ExecuteTime": {
     "start_time": "2023-06-25T05:28:20.734928400Z"
    }
   }
  },
  {
   "cell_type": "code",
   "execution_count": null,
   "outputs": [],
   "source": [
    "#混淆矩阵\n",
    "#### 逻辑回归\n",
    "from sklearn.linear_model import LogisticRegression\n",
    "model = LogisticRegression(\n",
    "            penalty=\"l1\",C=0.5,solver=\"liblinear\"\n",
    "        )\n",
    "\n",
    "model.fit(X_train, y_train)\n",
    "y_predict = model.predict(X_test)\n",
    "cm = confusion_matrix(y_test, y_predict)\n",
    "ConfusionMatrixDisplay(cm).plot(cmap='Blues')\n",
    "from sklearn.metrics import accuracy_score, precision_score,recall_score,f1_score\n",
    "print(\"acc:{0:.3}\".format(accuracy_score(y_test, y_predict)))  #精度\n",
    "print(\"precision:{0:.3}\".format(precision_score(y_test, y_predict, average='weighted')))  #准确率\n",
    "print(\"recall:{0:.3}\".format(recall_score(y_test, y_predict,average='weighted')))  #召回率\n",
    "print(\"f1-score:{0:.3}\".format(f1_score(y_test,y_predict,average='weighted')))# F1"
   ],
   "metadata": {
    "collapsed": false,
    "is_executing": true,
    "ExecuteTime": {
     "start_time": "2023-06-25T05:28:20.736885500Z"
    }
   }
  },
  {
   "cell_type": "code",
   "execution_count": null,
   "outputs": [],
   "source": [],
   "metadata": {
    "collapsed": false
   }
  }
 ],
 "metadata": {
  "kernelspec": {
   "display_name": "Python 3",
   "language": "python",
   "name": "python3"
  },
  "language_info": {
   "codemirror_mode": {
    "name": "ipython",
    "version": 2
   },
   "file_extension": ".py",
   "mimetype": "text/x-python",
   "name": "python",
   "nbconvert_exporter": "python",
   "pygments_lexer": "ipython2",
   "version": "2.7.6"
  }
 },
 "nbformat": 4,
 "nbformat_minor": 0
}

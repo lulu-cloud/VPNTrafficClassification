{
 "cells": [
  {
   "cell_type": "code",
   "execution_count": 190,
   "metadata": {
    "collapsed": true,
    "ExecuteTime": {
     "end_time": "2023-06-21T07:36:47.914753100Z",
     "start_time": "2023-06-21T07:36:47.902760100Z"
    }
   },
   "outputs": [],
   "source": [
    "import pandas as pd\n",
    "import numpy as np\n",
    "import matplotlib.pyplot as plt\n",
    "import warnings\n",
    "warnings.filterwarnings(\"ignore\")\n",
    "from sklearn import ensemble\n",
    "from sklearn import model_selection\n",
    "from sklearn.metrics import confusion_matrix\n",
    "from sklearn.metrics import ConfusionMatrixDisplay\n",
    "from sklearn.model_selection import GridSearchCV\n",
    "from imblearn.over_sampling import SMOTE\n",
    "import os"
   ]
  },
  {
   "cell_type": "markdown",
   "source": [
    "# 1 数据预处理\n",
    "## 1.1 数据合并"
   ],
   "metadata": {
    "collapsed": false
   }
  },
  {
   "cell_type": "code",
   "execution_count": 191,
   "outputs": [],
   "source": [
    "def merge(folder,label):\n",
    "    df_merged = pd.DataFrame()\n",
    "    # 遍历，合并\n",
    "    for label_name in os.listdir(folder):\n",
    "        label_path = os.path.join(folder,label_name)\n",
    "        for file_name in os.listdir(label_path):\n",
    "            file_path = os.path.join(label_path,file_name)\n",
    "            df = pd.read_csv(file_path,encoding='gbk')\n",
    "            df_merged = df_merged.append(df,ignore_index=True)\n",
    "            print(\"正在合并{}文件\".format(file_name))\n",
    "    # 存储在当前一级文件下\n",
    "    file_name = label + '.csv'\n",
    "    out_file = os.path.join(folder,file_name)\n",
    "    df_merged.to_csv(out_file,index=False,encoding='utf-8')\n",
    "    print(\"合并完成{}类型的文件\".format(label))"
   ],
   "metadata": {
    "collapsed": false,
    "ExecuteTime": {
     "end_time": "2023-06-21T07:36:49.578737400Z",
     "start_time": "2023-06-21T07:36:49.567481Z"
    }
   }
  },
  {
   "cell_type": "code",
   "execution_count": 192,
   "outputs": [
    {
     "name": "stdout",
     "output_type": "stream",
     "text": [
      "正在合并AIMchat1.pcap_Flow.csv文件\n",
      "正在合并AIMchat2.pcap_Flow.csv文件\n",
      "正在合并aim_chat_3a.pcap_Flow.csv文件\n",
      "正在合并aim_chat_3b.pcap_Flow.csv文件\n",
      "正在合并facebookchat1.pcap_Flow.csv文件\n",
      "正在合并facebookchat2.pcap_Flow.csv文件\n",
      "正在合并facebookchat3.pcap_Flow.csv文件\n",
      "正在合并facebook_chat_4a.pcap_Flow.csv文件\n",
      "正在合并facebook_chat_4b.pcap_Flow.csv文件\n",
      "正在合并gmailchat1.pcap_Flow.csv文件\n",
      "正在合并gmailchat2.pcap_Flow.csv文件\n",
      "正在合并gmailchat3.pcap_Flow.csv文件\n",
      "正在合并hangouts_chat_4a.pcap_Flow.csv文件\n",
      "正在合并hangout_chat_4b.pcap_Flow.csv文件\n",
      "正在合并ICQchat1.pcap_Flow.csv文件\n",
      "正在合并ICQchat2.pcap_Flow.csv文件\n",
      "正在合并icq_chat_3a.pcap_Flow.csv文件\n",
      "正在合并icq_chat_3b.pcap_Flow.csv文件\n",
      "正在合并skype_chat1a.pcap_Flow.csv文件\n",
      "正在合并skype_chat1b.pcap_Flow.csv文件\n",
      "正在合并email1a.pcap_Flow.csv文件\n",
      "正在合并email1b.pcap_Flow.csv文件\n",
      "正在合并email2a.pcap_Flow.csv文件\n",
      "正在合并email2b.pcap_Flow.csv文件\n",
      "正在合并ftps_down_1a.pcap_Flow.csv文件\n",
      "正在合并ftps_down_1b.pcap_Flow.csv文件\n",
      "正在合并ftps_up_2a.pcap_Flow.csv文件\n",
      "正在合并ftps_up_2b.pcap_Flow.csv文件\n",
      "正在合并scp1.pcap_Flow.csv文件\n",
      "正在合并scpDown1.pcap_Flow.csv文件\n",
      "正在合并scpDown2.pcap_Flow.csv文件\n",
      "正在合并scpDown3.pcap_Flow.csv文件\n",
      "正在合并scpDown4.pcap_Flow.csv文件\n",
      "正在合并scpDown5.pcap_Flow.csv文件\n",
      "正在合并scpDown6.pcap_Flow.csv文件\n",
      "正在合并scpUp1.pcap_Flow.csv文件\n",
      "正在合并scpUp2.pcap_Flow.csv文件\n",
      "正在合并scpUp3.pcap_Flow.csv文件\n",
      "正在合并scpUp5.pcap_Flow.csv文件\n",
      "正在合并scpUp6.pcap_Flow.csv文件\n",
      "正在合并sftp1.pcap_Flow.csv文件\n",
      "正在合并sftpDown1.pcap_Flow.csv文件\n",
      "正在合并sftpDown2.pcap_Flow.csv文件\n",
      "正在合并sftpUp1.pcap_Flow.csv文件\n",
      "正在合并sftp_down_3a.pcap_Flow.csv文件\n",
      "正在合并sftp_down_3b.pcap_Flow.csv文件\n",
      "正在合并sftp_up_2a.pcap_Flow.csv文件\n",
      "正在合并sftp_up_2b.pcap_Flow.csv文件\n",
      "正在合并skype_file1.pcap_Flow.csv文件\n",
      "正在合并skype_file2.pcap_Flow.csv文件\n",
      "正在合并skype_file3.pcap_Flow.csv文件\n",
      "正在合并skype_file4.pcap_Flow.csv文件\n",
      "正在合并skype_file5.pcap_Flow.csv文件\n",
      "正在合并skype_file6.pcap_Flow.csv文件\n",
      "正在合并skype_file7.pcap_Flow.csv文件\n",
      "正在合并skype_file8.pcap_Flow.csv文件\n",
      "正在合并facebook_video1a.pcap_Flow.csv文件\n",
      "正在合并facebook_video1b.pcap_Flow.csv文件\n",
      "正在合并facebook_video2a.pcap_Flow.csv文件\n",
      "正在合并facebook_video2b.pcap_Flow.csv文件\n",
      "正在合并hangouts_video1b.pcap_Flow.csv文件\n",
      "正在合并hangouts_video2a.pcap_Flow.csv文件\n",
      "正在合并hangouts_video2b.pcap_Flow.csv文件\n",
      "正在合并netflix1.pcap_Flow.csv文件\n",
      "正在合并netflix2.pcap_Flow.csv文件\n",
      "正在合并netflix3.pcap_Flow.csv文件\n",
      "正在合并netflix4.pcap_Flow.csv文件\n",
      "正在合并skype_video1a.pcap_Flow.csv文件\n",
      "正在合并skype_video1b.pcap_Flow.csv文件\n",
      "正在合并skype_video2a.pcap_Flow.csv文件\n",
      "正在合并skype_video2b.pcap_Flow.csv文件\n",
      "正在合并spotify1.pcap_Flow.csv文件\n",
      "正在合并spotify2.pcap_Flow.csv文件\n",
      "正在合并spotify3.pcap_Flow.csv文件\n",
      "正在合并spotify4.pcap_Flow.csv文件\n",
      "正在合并vimeo1.pcap_Flow.csv文件\n",
      "正在合并vimeo2.pcap_Flow.csv文件\n",
      "正在合并vimeo3.pcap_Flow.csv文件\n",
      "正在合并vimeo4.pcap_Flow.csv文件\n",
      "正在合并youtube1.pcap_Flow.csv文件\n",
      "正在合并youtube2.pcap_Flow.csv文件\n",
      "正在合并youtube3.pcap_Flow.csv文件\n",
      "正在合并youtube4.pcap_Flow.csv文件\n",
      "正在合并youtube5.pcap_Flow.csv文件\n",
      "正在合并youtube6.pcap_Flow.csv文件\n",
      "正在合并facebook_audio1a.pcap_Flow.csv文件\n",
      "正在合并facebook_audio1b.pcap_Flow.csv文件\n",
      "正在合并facebook_audio2a.pcap_Flow.csv文件\n",
      "正在合并facebook_audio2b.pcap_Flow.csv文件\n",
      "正在合并facebook_audio3.pcap_Flow.csv文件\n",
      "正在合并facebook_audio4.pcap_Flow.csv文件\n",
      "正在合并hangouts_audio1a.pcap_Flow.csv文件\n",
      "正在合并hangouts_audio1b.pcap_Flow.csv文件\n",
      "正在合并hangouts_audio2a.pcap_Flow.csv文件\n",
      "正在合并hangouts_audio2b.pcap_Flow.csv文件\n",
      "正在合并hangouts_audio3.pcap_Flow.csv文件\n",
      "正在合并hangouts_audio4.pcap_Flow.csv文件\n",
      "正在合并skype_audio1a.pcap_Flow.csv文件\n",
      "正在合并skype_audio1b.pcap_Flow.csv文件\n",
      "正在合并skype_audio2a.pcap_Flow.csv文件\n",
      "正在合并skype_audio2b.pcap_Flow.csv文件\n",
      "正在合并skype_audio3.pcap_Flow.csv文件\n",
      "正在合并skype_audio4.pcap_Flow.csv文件\n",
      "正在合并voipbuster1b.pcap_Flow.csv文件\n",
      "正在合并voipbuster2b.pcap_Flow.csv文件\n",
      "正在合并voipbuster3b.pcap_Flow.csv文件\n",
      "正在合并voipbuster_4a.pcap_Flow.csv文件\n",
      "正在合并voipbuster_4b.pcap_Flow.csv文件\n",
      "合并完成Non_VPN类型的文件\n",
      "正在合并vpn_aim_chat1a.pcap_Flow.csv文件\n",
      "正在合并vpn_aim_chat1b.pcap_Flow.csv文件\n",
      "正在合并vpn_facebook_chat1a.pcap_Flow.csv文件\n",
      "正在合并vpn_facebook_chat1b.pcap_Flow.csv文件\n",
      "正在合并vpn_hangouts_chat1a.pcap_Flow.csv文件\n",
      "正在合并vpn_hangouts_chat1b.pcap_Flow.csv文件\n",
      "正在合并vpn_icq_chat1a.pcap_Flow.csv文件\n",
      "正在合并vpn_icq_chat1b.pcap_Flow.csv文件\n",
      "正在合并vpn_skype_chat1a.pcap_Flow.csv文件\n",
      "正在合并vpn_skype_chat1b.pcap_Flow.csv文件\n",
      "正在合并vpn_email2a.pcap_Flow.csv文件\n",
      "正在合并vpn_email2b.pcap_Flow.csv文件\n",
      "正在合并vpn_ftps_A.pcap_Flow.csv文件\n",
      "正在合并vpn_ftps_B.pcap_Flow.csv文件\n",
      "正在合并vpn_sftp_A.pcap_Flow.csv文件\n",
      "正在合并vpn_sftp_B.pcap_Flow.csv文件\n",
      "正在合并vpn_skype_files1a.pcap_Flow.csv文件\n",
      "正在合并vpn_skype_files1b.pcap_Flow.csv文件\n",
      "正在合并vpn_netflix_A.pcap_Flow.csv文件\n",
      "正在合并vpn_spotify_A.pcap_Flow.csv文件\n",
      "正在合并vpn_vimeo_A.pcap_Flow.csv文件\n",
      "正在合并vpn_vimeo_B.pcap_Flow.csv文件\n",
      "正在合并vpn_youtube_A.pcap_Flow.csv文件\n",
      "正在合并vpn_facebook_audio2.pcap_Flow.csv文件\n",
      "正在合并vpn_hangouts_audio1.pcap_Flow.csv文件\n",
      "正在合并vpn_skype_audio1.pcap_Flow.csv文件\n",
      "正在合并vpn_skype_audio2.pcap_Flow.csv文件\n",
      "正在合并vpn_voipbuster1a.pcap_Flow.csv文件\n",
      "正在合并vpn_voipbuster1b.pcap_Flow.csv文件\n",
      "合并完成VPN类型的文件\n"
     ]
    }
   ],
   "source": [
    "Non_VPN_folder = \"data/2_class/NonVPN\"\n",
    "VPN_folder = \"data/2_class/VPN\"\n",
    "\n",
    "\n",
    "merge(Non_VPN_folder,\"Non_VPN\")\n",
    "merge(VPN_folder,\"VPN\")"
   ],
   "metadata": {
    "collapsed": false,
    "ExecuteTime": {
     "end_time": "2023-06-21T07:37:02.796125Z",
     "start_time": "2023-06-21T07:36:50.296217100Z"
    }
   }
  },
  {
   "cell_type": "markdown",
   "source": [],
   "metadata": {
    "collapsed": false
   }
  },
  {
   "cell_type": "code",
   "execution_count": 193,
   "outputs": [],
   "source": [
    "df_Non_VPN = pd.read_csv('data/2_class/NonVPN/Non_VPN.csv')\n",
    "df_VPN = pd.read_csv('data/2_class/VPN/VPN.csv')\n",
    "\n"
   ],
   "metadata": {
    "collapsed": false,
    "ExecuteTime": {
     "end_time": "2023-06-21T07:37:07.296660300Z",
     "start_time": "2023-06-21T07:37:05.239016600Z"
    }
   }
  },
  {
   "cell_type": "markdown",
   "source": [
    "## 1.2 数据清理，重复值，缺失值处理"
   ],
   "metadata": {
    "collapsed": false
   }
  },
  {
   "cell_type": "code",
   "execution_count": 194,
   "outputs": [
    {
     "data": {
      "text/plain": "                                     Flow ID          Src IP  Src Port  \\\n0     131.202.240.87-64.12.104.73-1258-443-6  131.202.240.87      1258   \n1     131.202.240.87-64.12.104.85-1254-443-6  131.202.240.87      1254   \n2    131.202.240.87-64.12.104.73-13389-443-6  131.202.240.87     13389   \n3    131.202.240.87-64.12.24.167-13385-443-6  131.202.240.87     13385   \n4  131.202.240.87-178.237.19.228-13407-443-6  131.202.240.87     13407   \n5  131.202.240.87-178.237.19.103-13404-443-6  131.202.240.87     13404   \n6  131.202.240.87-178.237.19.227-13397-443-6  131.202.240.87     13397   \n7  131.202.240.87-178.237.24.202-13393-443-6  131.202.240.87     13393   \n8                      8.0.6.4-8.6.0.1-0-0-0         8.6.0.1         0   \n9  131.202.240.87-131.202.243.255-137-137-17  131.202.240.87       137   \n\n            Dst IP  Dst Port  Protocol               Timestamp  Flow Duration  \\\n0     64.12.104.73       443         6  15/04/2015 10:14:23 下午      119999581   \n1     64.12.104.85       443         6  15/04/2015 10:14:23 下午      119999899   \n2     64.12.104.73       443         6  15/04/2015 10:14:27 下午       60054835   \n3     64.12.24.167       443         6  15/04/2015 10:14:27 下午       87805460   \n4   178.237.19.228       443         6  15/04/2015 10:14:29 下午      119998971   \n5   178.237.19.103       443         6  15/04/2015 10:14:29 下午      119999431   \n6   178.237.19.227       443         6  15/04/2015 10:14:34 下午       90172994   \n7   178.237.24.202       443         6  15/04/2015 10:14:34 下午       90167315   \n8          8.0.6.4         0         0  15/04/2015 10:14:33 下午      114005968   \n9  131.202.243.255       137        17  15/04/2015 10:14:30 下午        1499698   \n\n   Tot Fwd Pkts  Tot Bwd Pkts  ...  Fwd Seg Size Min   Active Mean  \\\n0             2             3  ...                 0  5.243150e+04   \n1            11            13  ...                 0  1.132177e+06   \n2             1             3  ...                 0  5.296800e+04   \n3            12            14  ...                 0  3.712991e+06   \n4             4             5  ...                 0  1.680420e+05   \n5             4             5  ...                 0  1.748422e+05   \n6             3             5  ...                 0  1.733753e+05   \n7             3             5  ...                 0  1.684593e+05   \n8             7             1  ...                 0  1.184000e+03   \n9             2             1  ...                 0  0.000000e+00   \n\n     Active Std  Active Max  Active Min     Idle Mean      Idle Std  \\\n0  5.734636e+02     52837.0     52026.0  5.994736e+07  4.879037e+02   \n1  1.665046e+06   3378621.0     20232.0  1.886781e+07  1.293738e+07   \n2  0.000000e+00     52968.0     52968.0  5.994906e+07  0.000000e+00   \n3  3.555993e+06   7114375.0     20308.0  2.438451e+07  1.820219e+07   \n4  1.891613e+02    168275.0    167828.0  2.983170e+07  6.525541e+02   \n5  3.024967e+02    175290.0    174632.0  2.982502e+07  9.344747e+02   \n6  2.015598e+02    173585.0    173183.0  2.982670e+07  6.095050e+03   \n7  1.531593e+03    170184.0    167258.0  2.983157e+07  7.436309e+03   \n8  1.013558e+02      1301.0      1123.0  3.799879e+07  8.046583e+06   \n9  0.000000e+00         0.0         0.0  0.000000e+00  0.000000e+00   \n\n     Idle Max    Idle Min     Label  \n0  59947704.0  59947014.0  No Label  \n1  40602165.0   8405794.0  No Label  \n2  59949058.0  59949058.0  No Label  \n3  45086942.0  10890558.0  No Label  \n4  29832657.0  29831207.0  No Label  \n5  29826034.0  29823877.0  No Label  \n6  29832988.0  29820818.0  No Label  \n7  29838505.0  29823717.0  No Label  \n8  46998534.0  31498681.0  No Label  \n9         0.0         0.0  No Label  \n\n[10 rows x 84 columns]",
      "text/html": "<div>\n<style scoped>\n    .dataframe tbody tr th:only-of-type {\n        vertical-align: middle;\n    }\n\n    .dataframe tbody tr th {\n        vertical-align: top;\n    }\n\n    .dataframe thead th {\n        text-align: right;\n    }\n</style>\n<table border=\"1\" class=\"dataframe\">\n  <thead>\n    <tr style=\"text-align: right;\">\n      <th></th>\n      <th>Flow ID</th>\n      <th>Src IP</th>\n      <th>Src Port</th>\n      <th>Dst IP</th>\n      <th>Dst Port</th>\n      <th>Protocol</th>\n      <th>Timestamp</th>\n      <th>Flow Duration</th>\n      <th>Tot Fwd Pkts</th>\n      <th>Tot Bwd Pkts</th>\n      <th>...</th>\n      <th>Fwd Seg Size Min</th>\n      <th>Active Mean</th>\n      <th>Active Std</th>\n      <th>Active Max</th>\n      <th>Active Min</th>\n      <th>Idle Mean</th>\n      <th>Idle Std</th>\n      <th>Idle Max</th>\n      <th>Idle Min</th>\n      <th>Label</th>\n    </tr>\n  </thead>\n  <tbody>\n    <tr>\n      <th>0</th>\n      <td>131.202.240.87-64.12.104.73-1258-443-6</td>\n      <td>131.202.240.87</td>\n      <td>1258</td>\n      <td>64.12.104.73</td>\n      <td>443</td>\n      <td>6</td>\n      <td>15/04/2015 10:14:23 下午</td>\n      <td>119999581</td>\n      <td>2</td>\n      <td>3</td>\n      <td>...</td>\n      <td>0</td>\n      <td>5.243150e+04</td>\n      <td>5.734636e+02</td>\n      <td>52837.0</td>\n      <td>52026.0</td>\n      <td>5.994736e+07</td>\n      <td>4.879037e+02</td>\n      <td>59947704.0</td>\n      <td>59947014.0</td>\n      <td>No Label</td>\n    </tr>\n    <tr>\n      <th>1</th>\n      <td>131.202.240.87-64.12.104.85-1254-443-6</td>\n      <td>131.202.240.87</td>\n      <td>1254</td>\n      <td>64.12.104.85</td>\n      <td>443</td>\n      <td>6</td>\n      <td>15/04/2015 10:14:23 下午</td>\n      <td>119999899</td>\n      <td>11</td>\n      <td>13</td>\n      <td>...</td>\n      <td>0</td>\n      <td>1.132177e+06</td>\n      <td>1.665046e+06</td>\n      <td>3378621.0</td>\n      <td>20232.0</td>\n      <td>1.886781e+07</td>\n      <td>1.293738e+07</td>\n      <td>40602165.0</td>\n      <td>8405794.0</td>\n      <td>No Label</td>\n    </tr>\n    <tr>\n      <th>2</th>\n      <td>131.202.240.87-64.12.104.73-13389-443-6</td>\n      <td>131.202.240.87</td>\n      <td>13389</td>\n      <td>64.12.104.73</td>\n      <td>443</td>\n      <td>6</td>\n      <td>15/04/2015 10:14:27 下午</td>\n      <td>60054835</td>\n      <td>1</td>\n      <td>3</td>\n      <td>...</td>\n      <td>0</td>\n      <td>5.296800e+04</td>\n      <td>0.000000e+00</td>\n      <td>52968.0</td>\n      <td>52968.0</td>\n      <td>5.994906e+07</td>\n      <td>0.000000e+00</td>\n      <td>59949058.0</td>\n      <td>59949058.0</td>\n      <td>No Label</td>\n    </tr>\n    <tr>\n      <th>3</th>\n      <td>131.202.240.87-64.12.24.167-13385-443-6</td>\n      <td>131.202.240.87</td>\n      <td>13385</td>\n      <td>64.12.24.167</td>\n      <td>443</td>\n      <td>6</td>\n      <td>15/04/2015 10:14:27 下午</td>\n      <td>87805460</td>\n      <td>12</td>\n      <td>14</td>\n      <td>...</td>\n      <td>0</td>\n      <td>3.712991e+06</td>\n      <td>3.555993e+06</td>\n      <td>7114375.0</td>\n      <td>20308.0</td>\n      <td>2.438451e+07</td>\n      <td>1.820219e+07</td>\n      <td>45086942.0</td>\n      <td>10890558.0</td>\n      <td>No Label</td>\n    </tr>\n    <tr>\n      <th>4</th>\n      <td>131.202.240.87-178.237.19.228-13407-443-6</td>\n      <td>131.202.240.87</td>\n      <td>13407</td>\n      <td>178.237.19.228</td>\n      <td>443</td>\n      <td>6</td>\n      <td>15/04/2015 10:14:29 下午</td>\n      <td>119998971</td>\n      <td>4</td>\n      <td>5</td>\n      <td>...</td>\n      <td>0</td>\n      <td>1.680420e+05</td>\n      <td>1.891613e+02</td>\n      <td>168275.0</td>\n      <td>167828.0</td>\n      <td>2.983170e+07</td>\n      <td>6.525541e+02</td>\n      <td>29832657.0</td>\n      <td>29831207.0</td>\n      <td>No Label</td>\n    </tr>\n    <tr>\n      <th>5</th>\n      <td>131.202.240.87-178.237.19.103-13404-443-6</td>\n      <td>131.202.240.87</td>\n      <td>13404</td>\n      <td>178.237.19.103</td>\n      <td>443</td>\n      <td>6</td>\n      <td>15/04/2015 10:14:29 下午</td>\n      <td>119999431</td>\n      <td>4</td>\n      <td>5</td>\n      <td>...</td>\n      <td>0</td>\n      <td>1.748422e+05</td>\n      <td>3.024967e+02</td>\n      <td>175290.0</td>\n      <td>174632.0</td>\n      <td>2.982502e+07</td>\n      <td>9.344747e+02</td>\n      <td>29826034.0</td>\n      <td>29823877.0</td>\n      <td>No Label</td>\n    </tr>\n    <tr>\n      <th>6</th>\n      <td>131.202.240.87-178.237.19.227-13397-443-6</td>\n      <td>131.202.240.87</td>\n      <td>13397</td>\n      <td>178.237.19.227</td>\n      <td>443</td>\n      <td>6</td>\n      <td>15/04/2015 10:14:34 下午</td>\n      <td>90172994</td>\n      <td>3</td>\n      <td>5</td>\n      <td>...</td>\n      <td>0</td>\n      <td>1.733753e+05</td>\n      <td>2.015598e+02</td>\n      <td>173585.0</td>\n      <td>173183.0</td>\n      <td>2.982670e+07</td>\n      <td>6.095050e+03</td>\n      <td>29832988.0</td>\n      <td>29820818.0</td>\n      <td>No Label</td>\n    </tr>\n    <tr>\n      <th>7</th>\n      <td>131.202.240.87-178.237.24.202-13393-443-6</td>\n      <td>131.202.240.87</td>\n      <td>13393</td>\n      <td>178.237.24.202</td>\n      <td>443</td>\n      <td>6</td>\n      <td>15/04/2015 10:14:34 下午</td>\n      <td>90167315</td>\n      <td>3</td>\n      <td>5</td>\n      <td>...</td>\n      <td>0</td>\n      <td>1.684593e+05</td>\n      <td>1.531593e+03</td>\n      <td>170184.0</td>\n      <td>167258.0</td>\n      <td>2.983157e+07</td>\n      <td>7.436309e+03</td>\n      <td>29838505.0</td>\n      <td>29823717.0</td>\n      <td>No Label</td>\n    </tr>\n    <tr>\n      <th>8</th>\n      <td>8.0.6.4-8.6.0.1-0-0-0</td>\n      <td>8.6.0.1</td>\n      <td>0</td>\n      <td>8.0.6.4</td>\n      <td>0</td>\n      <td>0</td>\n      <td>15/04/2015 10:14:33 下午</td>\n      <td>114005968</td>\n      <td>7</td>\n      <td>1</td>\n      <td>...</td>\n      <td>0</td>\n      <td>1.184000e+03</td>\n      <td>1.013558e+02</td>\n      <td>1301.0</td>\n      <td>1123.0</td>\n      <td>3.799879e+07</td>\n      <td>8.046583e+06</td>\n      <td>46998534.0</td>\n      <td>31498681.0</td>\n      <td>No Label</td>\n    </tr>\n    <tr>\n      <th>9</th>\n      <td>131.202.240.87-131.202.243.255-137-137-17</td>\n      <td>131.202.240.87</td>\n      <td>137</td>\n      <td>131.202.243.255</td>\n      <td>137</td>\n      <td>17</td>\n      <td>15/04/2015 10:14:30 下午</td>\n      <td>1499698</td>\n      <td>2</td>\n      <td>1</td>\n      <td>...</td>\n      <td>0</td>\n      <td>0.000000e+00</td>\n      <td>0.000000e+00</td>\n      <td>0.0</td>\n      <td>0.0</td>\n      <td>0.000000e+00</td>\n      <td>0.000000e+00</td>\n      <td>0.0</td>\n      <td>0.0</td>\n      <td>No Label</td>\n    </tr>\n  </tbody>\n</table>\n<p>10 rows × 84 columns</p>\n</div>"
     },
     "execution_count": 194,
     "metadata": {},
     "output_type": "execute_result"
    }
   ],
   "source": [
    "df_Non_VPN.head(10)"
   ],
   "metadata": {
    "collapsed": false,
    "ExecuteTime": {
     "end_time": "2023-06-21T07:37:07.344242700Z",
     "start_time": "2023-06-21T07:37:07.299652200Z"
    }
   }
  },
  {
   "cell_type": "code",
   "execution_count": 195,
   "outputs": [
    {
     "data": {
      "text/plain": "                                 Flow ID         Src IP  Src Port  \\\n0   205.188.12.91-10.8.8.178-443-48911-6  205.188.12.91       443   \n1  157.56.52.13-10.8.8.178-40011-56909-6   157.56.52.13     40011   \n2  137.117.177.33-10.8.8.178-443-40023-6     10.8.8.178     40023   \n3  137.117.177.33-10.8.8.178-443-40023-6     10.8.8.178     40023   \n4   205.188.12.91-10.8.8.178-443-48911-6  205.188.12.91       443   \n5   134.170.25.26-10.8.8.178-443-54269-6  134.170.25.26       443   \n6  157.56.52.13-10.8.8.178-40011-56909-6   157.56.52.13     40011   \n7   205.188.12.91-10.8.8.178-443-48911-6  205.188.12.91       443   \n8   134.170.25.26-10.8.8.178-443-54269-6  134.170.25.26       443   \n9  157.56.52.13-10.8.8.178-40011-56909-6   157.56.52.13     40011   \n\n           Dst IP  Dst Port  Protocol               Timestamp  Flow Duration  \\\n0      10.8.8.178     48911         6  04/06/2015 02:40:21 上午      119635206   \n1      10.8.8.178     56909         6  04/06/2015 02:41:09 上午       21411289   \n2  137.117.177.33       443         6  04/06/2015 02:43:35 上午         773763   \n3  137.117.177.33       443         6  04/06/2015 02:43:36 上午            228   \n4      10.8.8.178     48911         6  04/06/2015 02:42:22 上午      119130030   \n5      10.8.8.178     54269         6  04/06/2015 02:40:31 上午      119383580   \n6      10.8.8.178     56909         6  04/06/2015 02:43:09 上午       64460460   \n7      10.8.8.178     48911         6  04/06/2015 02:44:25 上午      119987953   \n8      10.8.8.178     54269         6  04/06/2015 02:44:31 上午            117   \n9      10.8.8.178     56909         6  04/06/2015 02:45:31 上午       99260415   \n\n   Tot Fwd Pkts  Tot Bwd Pkts  ...  Fwd Seg Size Min   Active Mean  \\\n0            44            48  ...                 0  3.957300e+06   \n1             2             4  ...                 0  4.882010e+05   \n2             8             8  ...                 0  0.000000e+00   \n3             1             1  ...                 0  0.000000e+00   \n4            35            35  ...                 0  2.977422e+06   \n5             1             4  ...                 0  7.700000e+01   \n6             5             7  ...                 0  3.666530e+05   \n7            72            73  ...                 0  3.019042e+06   \n8             0             2  ...                 0  0.000000e+00   \n9             3             3  ...                 0  1.551105e+05   \n\n     Active Std  Active Max  Active Min     Idle Mean      Idle Std  \\\n0  4.528673e+06  14318335.0        79.0  7.554049e+06  3.035254e+06   \n1  0.000000e+00    488201.0    488201.0  2.065282e+07  0.000000e+00   \n2  0.000000e+00         0.0         0.0  0.000000e+00  0.000000e+00   \n3  0.000000e+00         0.0         0.0  0.000000e+00  0.000000e+00   \n4  3.690810e+06   9837179.0        75.0  1.328350e+07  1.093727e+07   \n5  0.000000e+00        77.0        77.0  1.191629e+08  0.000000e+00   \n6  1.366922e+05    463309.0    269997.0  3.159115e+07  1.539105e+07   \n7  3.487407e+06   8813749.0    206187.0  9.540389e+06  4.059562e+06   \n8  0.000000e+00         0.0         0.0  0.000000e+00  0.000000e+00   \n9  1.625207e+05    270030.0     40191.0  4.934000e+07  9.596102e+06   \n\n      Idle Max     Idle Min     Label  \n0   13798288.0    5220546.0  No Label  \n1   20652825.0   20652825.0  No Label  \n2          0.0          0.0  No Label  \n3          0.0          0.0  No Label  \n4   33200492.0    5300581.0  No Label  \n5  119162872.0  119162872.0  No Label  \n6   42474266.0   20708031.0  No Label  \n7   16547405.0    5997427.0  No Label  \n8          0.0          0.0  No Label  \n9   56125466.0   42554529.0  No Label  \n\n[10 rows x 84 columns]",
      "text/html": "<div>\n<style scoped>\n    .dataframe tbody tr th:only-of-type {\n        vertical-align: middle;\n    }\n\n    .dataframe tbody tr th {\n        vertical-align: top;\n    }\n\n    .dataframe thead th {\n        text-align: right;\n    }\n</style>\n<table border=\"1\" class=\"dataframe\">\n  <thead>\n    <tr style=\"text-align: right;\">\n      <th></th>\n      <th>Flow ID</th>\n      <th>Src IP</th>\n      <th>Src Port</th>\n      <th>Dst IP</th>\n      <th>Dst Port</th>\n      <th>Protocol</th>\n      <th>Timestamp</th>\n      <th>Flow Duration</th>\n      <th>Tot Fwd Pkts</th>\n      <th>Tot Bwd Pkts</th>\n      <th>...</th>\n      <th>Fwd Seg Size Min</th>\n      <th>Active Mean</th>\n      <th>Active Std</th>\n      <th>Active Max</th>\n      <th>Active Min</th>\n      <th>Idle Mean</th>\n      <th>Idle Std</th>\n      <th>Idle Max</th>\n      <th>Idle Min</th>\n      <th>Label</th>\n    </tr>\n  </thead>\n  <tbody>\n    <tr>\n      <th>0</th>\n      <td>205.188.12.91-10.8.8.178-443-48911-6</td>\n      <td>205.188.12.91</td>\n      <td>443</td>\n      <td>10.8.8.178</td>\n      <td>48911</td>\n      <td>6</td>\n      <td>04/06/2015 02:40:21 上午</td>\n      <td>119635206</td>\n      <td>44</td>\n      <td>48</td>\n      <td>...</td>\n      <td>0</td>\n      <td>3.957300e+06</td>\n      <td>4.528673e+06</td>\n      <td>14318335.0</td>\n      <td>79.0</td>\n      <td>7.554049e+06</td>\n      <td>3.035254e+06</td>\n      <td>13798288.0</td>\n      <td>5220546.0</td>\n      <td>No Label</td>\n    </tr>\n    <tr>\n      <th>1</th>\n      <td>157.56.52.13-10.8.8.178-40011-56909-6</td>\n      <td>157.56.52.13</td>\n      <td>40011</td>\n      <td>10.8.8.178</td>\n      <td>56909</td>\n      <td>6</td>\n      <td>04/06/2015 02:41:09 上午</td>\n      <td>21411289</td>\n      <td>2</td>\n      <td>4</td>\n      <td>...</td>\n      <td>0</td>\n      <td>4.882010e+05</td>\n      <td>0.000000e+00</td>\n      <td>488201.0</td>\n      <td>488201.0</td>\n      <td>2.065282e+07</td>\n      <td>0.000000e+00</td>\n      <td>20652825.0</td>\n      <td>20652825.0</td>\n      <td>No Label</td>\n    </tr>\n    <tr>\n      <th>2</th>\n      <td>137.117.177.33-10.8.8.178-443-40023-6</td>\n      <td>10.8.8.178</td>\n      <td>40023</td>\n      <td>137.117.177.33</td>\n      <td>443</td>\n      <td>6</td>\n      <td>04/06/2015 02:43:35 上午</td>\n      <td>773763</td>\n      <td>8</td>\n      <td>8</td>\n      <td>...</td>\n      <td>0</td>\n      <td>0.000000e+00</td>\n      <td>0.000000e+00</td>\n      <td>0.0</td>\n      <td>0.0</td>\n      <td>0.000000e+00</td>\n      <td>0.000000e+00</td>\n      <td>0.0</td>\n      <td>0.0</td>\n      <td>No Label</td>\n    </tr>\n    <tr>\n      <th>3</th>\n      <td>137.117.177.33-10.8.8.178-443-40023-6</td>\n      <td>10.8.8.178</td>\n      <td>40023</td>\n      <td>137.117.177.33</td>\n      <td>443</td>\n      <td>6</td>\n      <td>04/06/2015 02:43:36 上午</td>\n      <td>228</td>\n      <td>1</td>\n      <td>1</td>\n      <td>...</td>\n      <td>0</td>\n      <td>0.000000e+00</td>\n      <td>0.000000e+00</td>\n      <td>0.0</td>\n      <td>0.0</td>\n      <td>0.000000e+00</td>\n      <td>0.000000e+00</td>\n      <td>0.0</td>\n      <td>0.0</td>\n      <td>No Label</td>\n    </tr>\n    <tr>\n      <th>4</th>\n      <td>205.188.12.91-10.8.8.178-443-48911-6</td>\n      <td>205.188.12.91</td>\n      <td>443</td>\n      <td>10.8.8.178</td>\n      <td>48911</td>\n      <td>6</td>\n      <td>04/06/2015 02:42:22 上午</td>\n      <td>119130030</td>\n      <td>35</td>\n      <td>35</td>\n      <td>...</td>\n      <td>0</td>\n      <td>2.977422e+06</td>\n      <td>3.690810e+06</td>\n      <td>9837179.0</td>\n      <td>75.0</td>\n      <td>1.328350e+07</td>\n      <td>1.093727e+07</td>\n      <td>33200492.0</td>\n      <td>5300581.0</td>\n      <td>No Label</td>\n    </tr>\n    <tr>\n      <th>5</th>\n      <td>134.170.25.26-10.8.8.178-443-54269-6</td>\n      <td>134.170.25.26</td>\n      <td>443</td>\n      <td>10.8.8.178</td>\n      <td>54269</td>\n      <td>6</td>\n      <td>04/06/2015 02:40:31 上午</td>\n      <td>119383580</td>\n      <td>1</td>\n      <td>4</td>\n      <td>...</td>\n      <td>0</td>\n      <td>7.700000e+01</td>\n      <td>0.000000e+00</td>\n      <td>77.0</td>\n      <td>77.0</td>\n      <td>1.191629e+08</td>\n      <td>0.000000e+00</td>\n      <td>119162872.0</td>\n      <td>119162872.0</td>\n      <td>No Label</td>\n    </tr>\n    <tr>\n      <th>6</th>\n      <td>157.56.52.13-10.8.8.178-40011-56909-6</td>\n      <td>157.56.52.13</td>\n      <td>40011</td>\n      <td>10.8.8.178</td>\n      <td>56909</td>\n      <td>6</td>\n      <td>04/06/2015 02:43:09 上午</td>\n      <td>64460460</td>\n      <td>5</td>\n      <td>7</td>\n      <td>...</td>\n      <td>0</td>\n      <td>3.666530e+05</td>\n      <td>1.366922e+05</td>\n      <td>463309.0</td>\n      <td>269997.0</td>\n      <td>3.159115e+07</td>\n      <td>1.539105e+07</td>\n      <td>42474266.0</td>\n      <td>20708031.0</td>\n      <td>No Label</td>\n    </tr>\n    <tr>\n      <th>7</th>\n      <td>205.188.12.91-10.8.8.178-443-48911-6</td>\n      <td>205.188.12.91</td>\n      <td>443</td>\n      <td>10.8.8.178</td>\n      <td>48911</td>\n      <td>6</td>\n      <td>04/06/2015 02:44:25 上午</td>\n      <td>119987953</td>\n      <td>72</td>\n      <td>73</td>\n      <td>...</td>\n      <td>0</td>\n      <td>3.019042e+06</td>\n      <td>3.487407e+06</td>\n      <td>8813749.0</td>\n      <td>206187.0</td>\n      <td>9.540389e+06</td>\n      <td>4.059562e+06</td>\n      <td>16547405.0</td>\n      <td>5997427.0</td>\n      <td>No Label</td>\n    </tr>\n    <tr>\n      <th>8</th>\n      <td>134.170.25.26-10.8.8.178-443-54269-6</td>\n      <td>134.170.25.26</td>\n      <td>443</td>\n      <td>10.8.8.178</td>\n      <td>54269</td>\n      <td>6</td>\n      <td>04/06/2015 02:44:31 上午</td>\n      <td>117</td>\n      <td>0</td>\n      <td>2</td>\n      <td>...</td>\n      <td>0</td>\n      <td>0.000000e+00</td>\n      <td>0.000000e+00</td>\n      <td>0.0</td>\n      <td>0.0</td>\n      <td>0.000000e+00</td>\n      <td>0.000000e+00</td>\n      <td>0.0</td>\n      <td>0.0</td>\n      <td>No Label</td>\n    </tr>\n    <tr>\n      <th>9</th>\n      <td>157.56.52.13-10.8.8.178-40011-56909-6</td>\n      <td>157.56.52.13</td>\n      <td>40011</td>\n      <td>10.8.8.178</td>\n      <td>56909</td>\n      <td>6</td>\n      <td>04/06/2015 02:45:31 上午</td>\n      <td>99260415</td>\n      <td>3</td>\n      <td>3</td>\n      <td>...</td>\n      <td>0</td>\n      <td>1.551105e+05</td>\n      <td>1.625207e+05</td>\n      <td>270030.0</td>\n      <td>40191.0</td>\n      <td>4.934000e+07</td>\n      <td>9.596102e+06</td>\n      <td>56125466.0</td>\n      <td>42554529.0</td>\n      <td>No Label</td>\n    </tr>\n  </tbody>\n</table>\n<p>10 rows × 84 columns</p>\n</div>"
     },
     "execution_count": 195,
     "metadata": {},
     "output_type": "execute_result"
    }
   ],
   "source": [
    "df_VPN.head(10)"
   ],
   "metadata": {
    "collapsed": false,
    "ExecuteTime": {
     "end_time": "2023-06-21T07:37:07.709636100Z",
     "start_time": "2023-06-21T07:37:07.651164400Z"
    }
   }
  },
  {
   "cell_type": "markdown",
   "source": [
    "数据去重，数据除去缺失值，包括NaN值与inf值"
   ],
   "metadata": {
    "collapsed": false
   }
  },
  {
   "cell_type": "code",
   "execution_count": 196,
   "outputs": [
    {
     "name": "stdout",
     "output_type": "stream",
     "text": [
      "去重前\n",
      "(194868, 84)\n",
      "(16661, 84)\n"
     ]
    }
   ],
   "source": [
    "print(\"去重前\")\n",
    "print(df_Non_VPN.shape)\n",
    "print(df_VPN.shape)"
   ],
   "metadata": {
    "collapsed": false,
    "ExecuteTime": {
     "end_time": "2023-06-21T07:37:10.342391700Z",
     "start_time": "2023-06-21T07:37:10.326406300Z"
    }
   }
  },
  {
   "cell_type": "markdown",
   "source": [
    "重复值去重"
   ],
   "metadata": {
    "collapsed": false
   }
  },
  {
   "cell_type": "code",
   "execution_count": 197,
   "outputs": [],
   "source": [
    "df_Non_VPN.drop_duplicates(inplace=True)\n",
    "df_VPN.drop_duplicates(inplace=True)"
   ],
   "metadata": {
    "collapsed": false,
    "ExecuteTime": {
     "end_time": "2023-06-21T07:37:13.242843300Z",
     "start_time": "2023-06-21T07:37:12.380660600Z"
    }
   }
  },
  {
   "cell_type": "code",
   "execution_count": 198,
   "outputs": [
    {
     "name": "stdout",
     "output_type": "stream",
     "text": [
      "去重后\n",
      "(194868, 84)\n",
      "(16661, 84)\n"
     ]
    }
   ],
   "source": [
    "print(\"去重后\")\n",
    "print(df_Non_VPN.shape)\n",
    "print(df_VPN.shape)"
   ],
   "metadata": {
    "collapsed": false,
    "ExecuteTime": {
     "end_time": "2023-06-21T07:37:13.252609300Z",
     "start_time": "2023-06-21T07:37:13.240848300Z"
    }
   }
  },
  {
   "cell_type": "markdown",
   "source": [
    "缺失值处理,删除NaN与inf"
   ],
   "metadata": {
    "collapsed": false
   }
  },
  {
   "cell_type": "code",
   "execution_count": 199,
   "outputs": [],
   "source": [
    "df_Non_VPN = df_Non_VPN.dropna()\n",
    "df_VPN = df_VPN.dropna()\n"
   ],
   "metadata": {
    "collapsed": false,
    "ExecuteTime": {
     "end_time": "2023-06-21T07:37:15.010310500Z",
     "start_time": "2023-06-21T07:37:14.818101500Z"
    }
   }
  },
  {
   "cell_type": "code",
   "execution_count": 200,
   "outputs": [
    {
     "name": "stdout",
     "output_type": "stream",
     "text": [
      "进行缺失值处理后\n",
      "(194863, 84)\n",
      "(16661, 84)\n"
     ]
    }
   ],
   "source": [
    "print(\"进行缺失值处理后\")\n",
    "print(df_Non_VPN.shape)\n",
    "print(df_VPN.shape)"
   ],
   "metadata": {
    "collapsed": false,
    "ExecuteTime": {
     "end_time": "2023-06-21T07:37:17.258369Z",
     "start_time": "2023-06-21T07:37:17.244377600Z"
    }
   }
  },
  {
   "cell_type": "markdown",
   "source": [
    "# 2 特征工程\n",
    "将84维特征收敛为低维特征方便预测"
   ],
   "metadata": {
    "collapsed": false
   }
  },
  {
   "cell_type": "markdown",
   "source": [
    "## 2.1 特征编码\n",
    "首先Flow ID,Src IP,Src Port,Dst IP,Dst Port,Protocol,Timestamp,这几列是记录流的ip与端口以及捕获时间，与最终标签无关，手动删除\n"
   ],
   "metadata": {
    "collapsed": false
   }
  },
  {
   "cell_type": "code",
   "execution_count": 201,
   "outputs": [],
   "source": [
    "df_Non_VPN = df_Non_VPN.iloc[:,7:]\n",
    "df_VPN = df_VPN.iloc[:,7:]\n",
    "\n"
   ],
   "metadata": {
    "collapsed": false,
    "ExecuteTime": {
     "end_time": "2023-06-21T07:37:25.502704700Z",
     "start_time": "2023-06-21T07:37:25.472986800Z"
    }
   }
  },
  {
   "cell_type": "code",
   "execution_count": 202,
   "outputs": [
    {
     "name": "stdout",
     "output_type": "stream",
     "text": [
      "(194863, 77)\n",
      "(16661, 77)\n"
     ]
    }
   ],
   "source": [
    "print(df_Non_VPN.shape)\n",
    "print(df_VPN.shape)"
   ],
   "metadata": {
    "collapsed": false,
    "ExecuteTime": {
     "end_time": "2023-06-21T07:37:26.249548200Z",
     "start_time": "2023-06-21T07:37:26.241568600Z"
    }
   }
  },
  {
   "cell_type": "code",
   "execution_count": 203,
   "outputs": [
    {
     "data": {
      "text/plain": "   Flow Duration  Tot Fwd Pkts  Tot Bwd Pkts  TotLen Fwd Pkts  \\\n0      119999581             2             3            148.0   \n1      119999899            11            13            739.0   \n2       60054835             1             3             74.0   \n3       87805460            12            14            681.0   \n4      119998971             4             5             24.0   \n5      119999431             4             5             24.0   \n6       90172994             3             5             18.0   \n7       90167315             3             5             18.0   \n8      114005968             7             1              0.0   \n9        1499698             2             1            100.0   \n\n   TotLen Bwd Pkts  Fwd Pkt Len Max  Fwd Pkt Len Min  Fwd Pkt Len Mean  \\\n0             74.0             74.0             74.0         74.000000   \n1           1586.0            293.0              0.0         67.181818   \n2             74.0             74.0             74.0         74.000000   \n3           1852.0            213.0              0.0         56.750000   \n4              6.0              6.0              6.0          6.000000   \n5              6.0              6.0              6.0          6.000000   \n6              6.0              6.0              6.0          6.000000   \n7              6.0              6.0              6.0          6.000000   \n8              0.0              0.0              0.0          0.000000   \n9             50.0             50.0             50.0         50.000000   \n\n   Fwd Pkt Len Std  Bwd Pkt Len Max  ...  Fwd Seg Size Min   Active Mean  \\\n0         0.000000             74.0  ...                 0  5.243150e+04   \n1        85.003315            458.0  ...                 0  1.132177e+06   \n2         0.000000             74.0  ...                 0  5.296800e+04   \n3        79.876183            453.0  ...                 0  3.712991e+06   \n4         0.000000              6.0  ...                 0  1.680420e+05   \n5         0.000000              6.0  ...                 0  1.748422e+05   \n6         0.000000              6.0  ...                 0  1.733753e+05   \n7         0.000000              6.0  ...                 0  1.684593e+05   \n8         0.000000              0.0  ...                 0  1.184000e+03   \n9         0.000000             50.0  ...                 0  0.000000e+00   \n\n     Active Std  Active Max  Active Min     Idle Mean      Idle Std  \\\n0  5.734636e+02     52837.0     52026.0  5.994736e+07  4.879037e+02   \n1  1.665046e+06   3378621.0     20232.0  1.886781e+07  1.293738e+07   \n2  0.000000e+00     52968.0     52968.0  5.994906e+07  0.000000e+00   \n3  3.555993e+06   7114375.0     20308.0  2.438451e+07  1.820219e+07   \n4  1.891613e+02    168275.0    167828.0  2.983170e+07  6.525541e+02   \n5  3.024967e+02    175290.0    174632.0  2.982502e+07  9.344747e+02   \n6  2.015598e+02    173585.0    173183.0  2.982670e+07  6.095050e+03   \n7  1.531593e+03    170184.0    167258.0  2.983157e+07  7.436309e+03   \n8  1.013558e+02      1301.0      1123.0  3.799879e+07  8.046583e+06   \n9  0.000000e+00         0.0         0.0  0.000000e+00  0.000000e+00   \n\n     Idle Max    Idle Min     Label  \n0  59947704.0  59947014.0  No Label  \n1  40602165.0   8405794.0  No Label  \n2  59949058.0  59949058.0  No Label  \n3  45086942.0  10890558.0  No Label  \n4  29832657.0  29831207.0  No Label  \n5  29826034.0  29823877.0  No Label  \n6  29832988.0  29820818.0  No Label  \n7  29838505.0  29823717.0  No Label  \n8  46998534.0  31498681.0  No Label  \n9         0.0         0.0  No Label  \n\n[10 rows x 77 columns]",
      "text/html": "<div>\n<style scoped>\n    .dataframe tbody tr th:only-of-type {\n        vertical-align: middle;\n    }\n\n    .dataframe tbody tr th {\n        vertical-align: top;\n    }\n\n    .dataframe thead th {\n        text-align: right;\n    }\n</style>\n<table border=\"1\" class=\"dataframe\">\n  <thead>\n    <tr style=\"text-align: right;\">\n      <th></th>\n      <th>Flow Duration</th>\n      <th>Tot Fwd Pkts</th>\n      <th>Tot Bwd Pkts</th>\n      <th>TotLen Fwd Pkts</th>\n      <th>TotLen Bwd Pkts</th>\n      <th>Fwd Pkt Len Max</th>\n      <th>Fwd Pkt Len Min</th>\n      <th>Fwd Pkt Len Mean</th>\n      <th>Fwd Pkt Len Std</th>\n      <th>Bwd Pkt Len Max</th>\n      <th>...</th>\n      <th>Fwd Seg Size Min</th>\n      <th>Active Mean</th>\n      <th>Active Std</th>\n      <th>Active Max</th>\n      <th>Active Min</th>\n      <th>Idle Mean</th>\n      <th>Idle Std</th>\n      <th>Idle Max</th>\n      <th>Idle Min</th>\n      <th>Label</th>\n    </tr>\n  </thead>\n  <tbody>\n    <tr>\n      <th>0</th>\n      <td>119999581</td>\n      <td>2</td>\n      <td>3</td>\n      <td>148.0</td>\n      <td>74.0</td>\n      <td>74.0</td>\n      <td>74.0</td>\n      <td>74.000000</td>\n      <td>0.000000</td>\n      <td>74.0</td>\n      <td>...</td>\n      <td>0</td>\n      <td>5.243150e+04</td>\n      <td>5.734636e+02</td>\n      <td>52837.0</td>\n      <td>52026.0</td>\n      <td>5.994736e+07</td>\n      <td>4.879037e+02</td>\n      <td>59947704.0</td>\n      <td>59947014.0</td>\n      <td>No Label</td>\n    </tr>\n    <tr>\n      <th>1</th>\n      <td>119999899</td>\n      <td>11</td>\n      <td>13</td>\n      <td>739.0</td>\n      <td>1586.0</td>\n      <td>293.0</td>\n      <td>0.0</td>\n      <td>67.181818</td>\n      <td>85.003315</td>\n      <td>458.0</td>\n      <td>...</td>\n      <td>0</td>\n      <td>1.132177e+06</td>\n      <td>1.665046e+06</td>\n      <td>3378621.0</td>\n      <td>20232.0</td>\n      <td>1.886781e+07</td>\n      <td>1.293738e+07</td>\n      <td>40602165.0</td>\n      <td>8405794.0</td>\n      <td>No Label</td>\n    </tr>\n    <tr>\n      <th>2</th>\n      <td>60054835</td>\n      <td>1</td>\n      <td>3</td>\n      <td>74.0</td>\n      <td>74.0</td>\n      <td>74.0</td>\n      <td>74.0</td>\n      <td>74.000000</td>\n      <td>0.000000</td>\n      <td>74.0</td>\n      <td>...</td>\n      <td>0</td>\n      <td>5.296800e+04</td>\n      <td>0.000000e+00</td>\n      <td>52968.0</td>\n      <td>52968.0</td>\n      <td>5.994906e+07</td>\n      <td>0.000000e+00</td>\n      <td>59949058.0</td>\n      <td>59949058.0</td>\n      <td>No Label</td>\n    </tr>\n    <tr>\n      <th>3</th>\n      <td>87805460</td>\n      <td>12</td>\n      <td>14</td>\n      <td>681.0</td>\n      <td>1852.0</td>\n      <td>213.0</td>\n      <td>0.0</td>\n      <td>56.750000</td>\n      <td>79.876183</td>\n      <td>453.0</td>\n      <td>...</td>\n      <td>0</td>\n      <td>3.712991e+06</td>\n      <td>3.555993e+06</td>\n      <td>7114375.0</td>\n      <td>20308.0</td>\n      <td>2.438451e+07</td>\n      <td>1.820219e+07</td>\n      <td>45086942.0</td>\n      <td>10890558.0</td>\n      <td>No Label</td>\n    </tr>\n    <tr>\n      <th>4</th>\n      <td>119998971</td>\n      <td>4</td>\n      <td>5</td>\n      <td>24.0</td>\n      <td>6.0</td>\n      <td>6.0</td>\n      <td>6.0</td>\n      <td>6.000000</td>\n      <td>0.000000</td>\n      <td>6.0</td>\n      <td>...</td>\n      <td>0</td>\n      <td>1.680420e+05</td>\n      <td>1.891613e+02</td>\n      <td>168275.0</td>\n      <td>167828.0</td>\n      <td>2.983170e+07</td>\n      <td>6.525541e+02</td>\n      <td>29832657.0</td>\n      <td>29831207.0</td>\n      <td>No Label</td>\n    </tr>\n    <tr>\n      <th>5</th>\n      <td>119999431</td>\n      <td>4</td>\n      <td>5</td>\n      <td>24.0</td>\n      <td>6.0</td>\n      <td>6.0</td>\n      <td>6.0</td>\n      <td>6.000000</td>\n      <td>0.000000</td>\n      <td>6.0</td>\n      <td>...</td>\n      <td>0</td>\n      <td>1.748422e+05</td>\n      <td>3.024967e+02</td>\n      <td>175290.0</td>\n      <td>174632.0</td>\n      <td>2.982502e+07</td>\n      <td>9.344747e+02</td>\n      <td>29826034.0</td>\n      <td>29823877.0</td>\n      <td>No Label</td>\n    </tr>\n    <tr>\n      <th>6</th>\n      <td>90172994</td>\n      <td>3</td>\n      <td>5</td>\n      <td>18.0</td>\n      <td>6.0</td>\n      <td>6.0</td>\n      <td>6.0</td>\n      <td>6.000000</td>\n      <td>0.000000</td>\n      <td>6.0</td>\n      <td>...</td>\n      <td>0</td>\n      <td>1.733753e+05</td>\n      <td>2.015598e+02</td>\n      <td>173585.0</td>\n      <td>173183.0</td>\n      <td>2.982670e+07</td>\n      <td>6.095050e+03</td>\n      <td>29832988.0</td>\n      <td>29820818.0</td>\n      <td>No Label</td>\n    </tr>\n    <tr>\n      <th>7</th>\n      <td>90167315</td>\n      <td>3</td>\n      <td>5</td>\n      <td>18.0</td>\n      <td>6.0</td>\n      <td>6.0</td>\n      <td>6.0</td>\n      <td>6.000000</td>\n      <td>0.000000</td>\n      <td>6.0</td>\n      <td>...</td>\n      <td>0</td>\n      <td>1.684593e+05</td>\n      <td>1.531593e+03</td>\n      <td>170184.0</td>\n      <td>167258.0</td>\n      <td>2.983157e+07</td>\n      <td>7.436309e+03</td>\n      <td>29838505.0</td>\n      <td>29823717.0</td>\n      <td>No Label</td>\n    </tr>\n    <tr>\n      <th>8</th>\n      <td>114005968</td>\n      <td>7</td>\n      <td>1</td>\n      <td>0.0</td>\n      <td>0.0</td>\n      <td>0.0</td>\n      <td>0.0</td>\n      <td>0.000000</td>\n      <td>0.000000</td>\n      <td>0.0</td>\n      <td>...</td>\n      <td>0</td>\n      <td>1.184000e+03</td>\n      <td>1.013558e+02</td>\n      <td>1301.0</td>\n      <td>1123.0</td>\n      <td>3.799879e+07</td>\n      <td>8.046583e+06</td>\n      <td>46998534.0</td>\n      <td>31498681.0</td>\n      <td>No Label</td>\n    </tr>\n    <tr>\n      <th>9</th>\n      <td>1499698</td>\n      <td>2</td>\n      <td>1</td>\n      <td>100.0</td>\n      <td>50.0</td>\n      <td>50.0</td>\n      <td>50.0</td>\n      <td>50.000000</td>\n      <td>0.000000</td>\n      <td>50.0</td>\n      <td>...</td>\n      <td>0</td>\n      <td>0.000000e+00</td>\n      <td>0.000000e+00</td>\n      <td>0.0</td>\n      <td>0.0</td>\n      <td>0.000000e+00</td>\n      <td>0.000000e+00</td>\n      <td>0.0</td>\n      <td>0.0</td>\n      <td>No Label</td>\n    </tr>\n  </tbody>\n</table>\n<p>10 rows × 77 columns</p>\n</div>"
     },
     "execution_count": 203,
     "metadata": {},
     "output_type": "execute_result"
    }
   ],
   "source": [
    "df_Non_VPN.head(10)"
   ],
   "metadata": {
    "collapsed": false,
    "ExecuteTime": {
     "end_time": "2023-06-21T07:37:27.691625800Z",
     "start_time": "2023-06-21T07:37:27.650804400Z"
    }
   }
  },
  {
   "cell_type": "markdown",
   "source": [
    "将标签列进行特征编码\n",
    "Non_VPN映射到0\n",
    "VPN流量映射到1"
   ],
   "metadata": {
    "collapsed": false
   }
  },
  {
   "cell_type": "code",
   "execution_count": 204,
   "outputs": [],
   "source": [
    "df_Non_VPN['Label']  = 0\n",
    "df_VPN['Label']  = 1\n"
   ],
   "metadata": {
    "collapsed": false,
    "ExecuteTime": {
     "end_time": "2023-06-21T07:37:31.066981300Z",
     "start_time": "2023-06-21T07:37:31.045937900Z"
    }
   }
  },
  {
   "cell_type": "code",
   "execution_count": 205,
   "outputs": [
    {
     "data": {
      "text/plain": "   Flow Duration  Tot Fwd Pkts  Tot Bwd Pkts  TotLen Fwd Pkts  \\\n0      119635206            44            48           6202.0   \n1       21411289             2             4              0.0   \n2         773763             8             8            649.0   \n3            228             1             1              0.0   \n4      119130030            35            35           5272.0   \n5      119383580             1             4            149.0   \n6       64460460             5             7             13.0   \n7      119987953            72            73          11920.0   \n8            117             0             2              0.0   \n9       99260415             3             3              2.0   \n\n   TotLen Bwd Pkts  Fwd Pkt Len Max  Fwd Pkt Len Min  Fwd Pkt Len Mean  \\\n0           2824.0            484.0              0.0        140.954545   \n1              6.0              0.0              0.0          0.000000   \n2           3556.0            267.0              0.0         81.125000   \n3             37.0              0.0              0.0          0.000000   \n4           1826.0            420.0              0.0        150.628571   \n5            470.0            149.0            149.0        149.000000   \n6             10.0             10.0              0.0          2.600000   \n7           2356.0            420.0              0.0        165.555556   \n8              1.0              0.0              0.0          0.000000   \n9              4.0              2.0              0.0          0.666667   \n\n   Fwd Pkt Len Std  Bwd Pkt Len Max  ...  Fwd Seg Size Min   Active Mean  \\\n0       129.067848            234.0  ...                 0  3.957300e+06   \n1         0.000000              2.0  ...                 0  4.882010e+05   \n2       115.934018           1308.0  ...                 0  0.000000e+00   \n3         0.000000             37.0  ...                 0  0.000000e+00   \n4       130.186989            218.0  ...                 0  2.977422e+06   \n5         0.000000            469.0  ...                 0  7.700000e+01   \n6         4.335897              4.0  ...                 0  3.666530e+05   \n7       123.713081            218.0  ...                 0  3.019042e+06   \n8         0.000000              1.0  ...                 0  0.000000e+00   \n9         1.154701              2.0  ...                 0  1.551105e+05   \n\n     Active Std  Active Max  Active Min     Idle Mean      Idle Std  \\\n0  4.528673e+06  14318335.0        79.0  7.554049e+06  3.035254e+06   \n1  0.000000e+00    488201.0    488201.0  2.065282e+07  0.000000e+00   \n2  0.000000e+00         0.0         0.0  0.000000e+00  0.000000e+00   \n3  0.000000e+00         0.0         0.0  0.000000e+00  0.000000e+00   \n4  3.690810e+06   9837179.0        75.0  1.328350e+07  1.093727e+07   \n5  0.000000e+00        77.0        77.0  1.191629e+08  0.000000e+00   \n6  1.366922e+05    463309.0    269997.0  3.159115e+07  1.539105e+07   \n7  3.487407e+06   8813749.0    206187.0  9.540389e+06  4.059562e+06   \n8  0.000000e+00         0.0         0.0  0.000000e+00  0.000000e+00   \n9  1.625207e+05    270030.0     40191.0  4.934000e+07  9.596102e+06   \n\n      Idle Max     Idle Min  Label  \n0   13798288.0    5220546.0      1  \n1   20652825.0   20652825.0      1  \n2          0.0          0.0      1  \n3          0.0          0.0      1  \n4   33200492.0    5300581.0      1  \n5  119162872.0  119162872.0      1  \n6   42474266.0   20708031.0      1  \n7   16547405.0    5997427.0      1  \n8          0.0          0.0      1  \n9   56125466.0   42554529.0      1  \n\n[10 rows x 77 columns]",
      "text/html": "<div>\n<style scoped>\n    .dataframe tbody tr th:only-of-type {\n        vertical-align: middle;\n    }\n\n    .dataframe tbody tr th {\n        vertical-align: top;\n    }\n\n    .dataframe thead th {\n        text-align: right;\n    }\n</style>\n<table border=\"1\" class=\"dataframe\">\n  <thead>\n    <tr style=\"text-align: right;\">\n      <th></th>\n      <th>Flow Duration</th>\n      <th>Tot Fwd Pkts</th>\n      <th>Tot Bwd Pkts</th>\n      <th>TotLen Fwd Pkts</th>\n      <th>TotLen Bwd Pkts</th>\n      <th>Fwd Pkt Len Max</th>\n      <th>Fwd Pkt Len Min</th>\n      <th>Fwd Pkt Len Mean</th>\n      <th>Fwd Pkt Len Std</th>\n      <th>Bwd Pkt Len Max</th>\n      <th>...</th>\n      <th>Fwd Seg Size Min</th>\n      <th>Active Mean</th>\n      <th>Active Std</th>\n      <th>Active Max</th>\n      <th>Active Min</th>\n      <th>Idle Mean</th>\n      <th>Idle Std</th>\n      <th>Idle Max</th>\n      <th>Idle Min</th>\n      <th>Label</th>\n    </tr>\n  </thead>\n  <tbody>\n    <tr>\n      <th>0</th>\n      <td>119635206</td>\n      <td>44</td>\n      <td>48</td>\n      <td>6202.0</td>\n      <td>2824.0</td>\n      <td>484.0</td>\n      <td>0.0</td>\n      <td>140.954545</td>\n      <td>129.067848</td>\n      <td>234.0</td>\n      <td>...</td>\n      <td>0</td>\n      <td>3.957300e+06</td>\n      <td>4.528673e+06</td>\n      <td>14318335.0</td>\n      <td>79.0</td>\n      <td>7.554049e+06</td>\n      <td>3.035254e+06</td>\n      <td>13798288.0</td>\n      <td>5220546.0</td>\n      <td>1</td>\n    </tr>\n    <tr>\n      <th>1</th>\n      <td>21411289</td>\n      <td>2</td>\n      <td>4</td>\n      <td>0.0</td>\n      <td>6.0</td>\n      <td>0.0</td>\n      <td>0.0</td>\n      <td>0.000000</td>\n      <td>0.000000</td>\n      <td>2.0</td>\n      <td>...</td>\n      <td>0</td>\n      <td>4.882010e+05</td>\n      <td>0.000000e+00</td>\n      <td>488201.0</td>\n      <td>488201.0</td>\n      <td>2.065282e+07</td>\n      <td>0.000000e+00</td>\n      <td>20652825.0</td>\n      <td>20652825.0</td>\n      <td>1</td>\n    </tr>\n    <tr>\n      <th>2</th>\n      <td>773763</td>\n      <td>8</td>\n      <td>8</td>\n      <td>649.0</td>\n      <td>3556.0</td>\n      <td>267.0</td>\n      <td>0.0</td>\n      <td>81.125000</td>\n      <td>115.934018</td>\n      <td>1308.0</td>\n      <td>...</td>\n      <td>0</td>\n      <td>0.000000e+00</td>\n      <td>0.000000e+00</td>\n      <td>0.0</td>\n      <td>0.0</td>\n      <td>0.000000e+00</td>\n      <td>0.000000e+00</td>\n      <td>0.0</td>\n      <td>0.0</td>\n      <td>1</td>\n    </tr>\n    <tr>\n      <th>3</th>\n      <td>228</td>\n      <td>1</td>\n      <td>1</td>\n      <td>0.0</td>\n      <td>37.0</td>\n      <td>0.0</td>\n      <td>0.0</td>\n      <td>0.000000</td>\n      <td>0.000000</td>\n      <td>37.0</td>\n      <td>...</td>\n      <td>0</td>\n      <td>0.000000e+00</td>\n      <td>0.000000e+00</td>\n      <td>0.0</td>\n      <td>0.0</td>\n      <td>0.000000e+00</td>\n      <td>0.000000e+00</td>\n      <td>0.0</td>\n      <td>0.0</td>\n      <td>1</td>\n    </tr>\n    <tr>\n      <th>4</th>\n      <td>119130030</td>\n      <td>35</td>\n      <td>35</td>\n      <td>5272.0</td>\n      <td>1826.0</td>\n      <td>420.0</td>\n      <td>0.0</td>\n      <td>150.628571</td>\n      <td>130.186989</td>\n      <td>218.0</td>\n      <td>...</td>\n      <td>0</td>\n      <td>2.977422e+06</td>\n      <td>3.690810e+06</td>\n      <td>9837179.0</td>\n      <td>75.0</td>\n      <td>1.328350e+07</td>\n      <td>1.093727e+07</td>\n      <td>33200492.0</td>\n      <td>5300581.0</td>\n      <td>1</td>\n    </tr>\n    <tr>\n      <th>5</th>\n      <td>119383580</td>\n      <td>1</td>\n      <td>4</td>\n      <td>149.0</td>\n      <td>470.0</td>\n      <td>149.0</td>\n      <td>149.0</td>\n      <td>149.000000</td>\n      <td>0.000000</td>\n      <td>469.0</td>\n      <td>...</td>\n      <td>0</td>\n      <td>7.700000e+01</td>\n      <td>0.000000e+00</td>\n      <td>77.0</td>\n      <td>77.0</td>\n      <td>1.191629e+08</td>\n      <td>0.000000e+00</td>\n      <td>119162872.0</td>\n      <td>119162872.0</td>\n      <td>1</td>\n    </tr>\n    <tr>\n      <th>6</th>\n      <td>64460460</td>\n      <td>5</td>\n      <td>7</td>\n      <td>13.0</td>\n      <td>10.0</td>\n      <td>10.0</td>\n      <td>0.0</td>\n      <td>2.600000</td>\n      <td>4.335897</td>\n      <td>4.0</td>\n      <td>...</td>\n      <td>0</td>\n      <td>3.666530e+05</td>\n      <td>1.366922e+05</td>\n      <td>463309.0</td>\n      <td>269997.0</td>\n      <td>3.159115e+07</td>\n      <td>1.539105e+07</td>\n      <td>42474266.0</td>\n      <td>20708031.0</td>\n      <td>1</td>\n    </tr>\n    <tr>\n      <th>7</th>\n      <td>119987953</td>\n      <td>72</td>\n      <td>73</td>\n      <td>11920.0</td>\n      <td>2356.0</td>\n      <td>420.0</td>\n      <td>0.0</td>\n      <td>165.555556</td>\n      <td>123.713081</td>\n      <td>218.0</td>\n      <td>...</td>\n      <td>0</td>\n      <td>3.019042e+06</td>\n      <td>3.487407e+06</td>\n      <td>8813749.0</td>\n      <td>206187.0</td>\n      <td>9.540389e+06</td>\n      <td>4.059562e+06</td>\n      <td>16547405.0</td>\n      <td>5997427.0</td>\n      <td>1</td>\n    </tr>\n    <tr>\n      <th>8</th>\n      <td>117</td>\n      <td>0</td>\n      <td>2</td>\n      <td>0.0</td>\n      <td>1.0</td>\n      <td>0.0</td>\n      <td>0.0</td>\n      <td>0.000000</td>\n      <td>0.000000</td>\n      <td>1.0</td>\n      <td>...</td>\n      <td>0</td>\n      <td>0.000000e+00</td>\n      <td>0.000000e+00</td>\n      <td>0.0</td>\n      <td>0.0</td>\n      <td>0.000000e+00</td>\n      <td>0.000000e+00</td>\n      <td>0.0</td>\n      <td>0.0</td>\n      <td>1</td>\n    </tr>\n    <tr>\n      <th>9</th>\n      <td>99260415</td>\n      <td>3</td>\n      <td>3</td>\n      <td>2.0</td>\n      <td>4.0</td>\n      <td>2.0</td>\n      <td>0.0</td>\n      <td>0.666667</td>\n      <td>1.154701</td>\n      <td>2.0</td>\n      <td>...</td>\n      <td>0</td>\n      <td>1.551105e+05</td>\n      <td>1.625207e+05</td>\n      <td>270030.0</td>\n      <td>40191.0</td>\n      <td>4.934000e+07</td>\n      <td>9.596102e+06</td>\n      <td>56125466.0</td>\n      <td>42554529.0</td>\n      <td>1</td>\n    </tr>\n  </tbody>\n</table>\n<p>10 rows × 77 columns</p>\n</div>"
     },
     "execution_count": 205,
     "metadata": {},
     "output_type": "execute_result"
    }
   ],
   "source": [
    "df_VPN.head(10)"
   ],
   "metadata": {
    "collapsed": false,
    "ExecuteTime": {
     "end_time": "2023-06-21T07:37:31.675359700Z",
     "start_time": "2023-06-21T07:37:31.635104700Z"
    }
   }
  },
  {
   "cell_type": "markdown",
   "source": [
    "很好，现在已经全部是数字类型了，现在合并数据集"
   ],
   "metadata": {
    "collapsed": false
   }
  },
  {
   "cell_type": "code",
   "execution_count": 206,
   "outputs": [
    {
     "name": "stdout",
     "output_type": "stream",
     "text": [
      "(211524, 77)\n"
     ]
    }
   ],
   "source": [
    "data = pd.DataFrame()\n",
    "data = data.append(df_VPN)\n",
    "data = data.append(df_Non_VPN)\n",
    "print(data.shape)"
   ],
   "metadata": {
    "collapsed": false,
    "ExecuteTime": {
     "end_time": "2023-06-21T07:37:34.896470900Z",
     "start_time": "2023-06-21T07:37:34.775282900Z"
    }
   }
  },
  {
   "cell_type": "code",
   "execution_count": 207,
   "outputs": [],
   "source": [
    "X = data.iloc[:, :-1]  # 选取所有行，除了最后一列以外的所有列作为特征\n",
    "y = data.iloc[:, -1]   # 选取所有行，最后一列作为标签"
   ],
   "metadata": {
    "collapsed": false,
    "ExecuteTime": {
     "end_time": "2023-06-21T07:37:36.974333300Z",
     "start_time": "2023-06-21T07:37:36.905050300Z"
    }
   }
  },
  {
   "cell_type": "code",
   "execution_count": 208,
   "outputs": [
    {
     "name": "stdout",
     "output_type": "stream",
     "text": [
      "(211524, 76)\n",
      "(211524,)\n"
     ]
    }
   ],
   "source": [
    "print(X.shape)\n",
    "print(y.shape)"
   ],
   "metadata": {
    "collapsed": false,
    "ExecuteTime": {
     "end_time": "2023-06-21T07:37:37.939694500Z",
     "start_time": "2023-06-21T07:37:37.915472800Z"
    }
   }
  },
  {
   "cell_type": "markdown",
   "source": [
    "查看特征描述"
   ],
   "metadata": {
    "collapsed": false
   }
  },
  {
   "cell_type": "code",
   "execution_count": 209,
   "outputs": [
    {
     "data": {
      "text/plain": "       Flow Duration   Tot Fwd Pkts   Tot Bwd Pkts  TotLen Fwd Pkts  \\\ncount   2.115240e+05  211524.000000  211524.000000     2.115240e+05   \nmean    1.003206e+07      54.768641      65.488328     4.234968e+04   \nstd     2.916630e+07    1559.064118    2762.325247     3.626545e+06   \nmin     0.000000e+00       0.000000       1.000000     0.000000e+00   \n25%     4.107200e+05       1.000000       1.000000     2.200000e+01   \n50%     4.127300e+05       1.000000       1.000000     2.200000e+01   \n75%     4.208770e+05       1.000000       1.000000     2.200000e+01   \nmax     1.200000e+08  238160.000000  470863.000000     1.079183e+09   \n\n       TotLen Bwd Pkts  Fwd Pkt Len Max  Fwd Pkt Len Min  Fwd Pkt Len Mean  \\\ncount     2.115240e+05    211524.000000    211524.000000     211524.000000   \nmean      5.592605e+04        66.602414        23.223629         35.364694   \nstd       3.740303e+06       920.483207        30.866179        296.492943   \nmin       0.000000e+00         0.000000         0.000000          0.000000   \n25%       2.200000e+01        22.000000        22.000000         22.000000   \n50%       2.200000e+01        22.000000        22.000000         22.000000   \n75%       2.200000e+01        22.000000        22.000000         22.000000   \nmax       6.704287e+08     65160.000000      1350.000000      28503.425009   \n\n       Fwd Pkt Len Std  Bwd Pkt Len Max  ...  Fwd Act Data Pkts  \\\ncount    211524.000000    211524.000000  ...      211524.000000   \nmean         12.758944        91.176377  ...          33.590429   \nstd         187.751152       566.699164  ...         731.188832   \nmin           0.000000         0.000000  ...           0.000000   \n25%           0.000000        22.000000  ...           1.000000   \n50%           0.000000        22.000000  ...           1.000000   \n75%           0.000000        22.000000  ...           1.000000   \nmax       19074.915609     48168.000000  ...       62415.000000   \n\n       Fwd Seg Size Min   Active Mean    Active Std    Active Max  \\\ncount          211524.0  2.115240e+05  2.115240e+05  2.115240e+05   \nmean                0.0  1.800153e+05  9.443392e+04  3.015242e+05   \nstd                 0.0  2.004644e+06  1.204375e+06  3.002680e+06   \nmin                 0.0  0.000000e+00  0.000000e+00  0.000000e+00   \n25%                 0.0  0.000000e+00  0.000000e+00  0.000000e+00   \n50%                 0.0  0.000000e+00  0.000000e+00  0.000000e+00   \n75%                 0.0  0.000000e+00  0.000000e+00  0.000000e+00   \nmax                 0.0  1.130879e+08  6.720255e+07  1.130879e+08   \n\n         Active Min     Idle Mean      Idle Std      Idle Max      Idle Min  \ncount  2.115240e+05  2.115240e+05  2.115240e+05  2.115240e+05  2.115240e+05  \nmean   1.073498e+05  3.806053e+06  2.974142e+05  4.075604e+06  3.553331e+06  \nstd    1.633785e+06  1.459907e+07  2.738837e+06  1.525688e+07  1.427299e+07  \nmin    0.000000e+00  0.000000e+00  0.000000e+00  0.000000e+00  0.000000e+00  \n25%    0.000000e+00  0.000000e+00  0.000000e+00  0.000000e+00  0.000000e+00  \n50%    0.000000e+00  0.000000e+00  0.000000e+00  0.000000e+00  0.000000e+00  \n75%    0.000000e+00  0.000000e+00  0.000000e+00  0.000000e+00  0.000000e+00  \nmax    1.130879e+08  1.199994e+08  7.694450e+07  1.199994e+08  1.199994e+08  \n\n[8 rows x 76 columns]",
      "text/html": "<div>\n<style scoped>\n    .dataframe tbody tr th:only-of-type {\n        vertical-align: middle;\n    }\n\n    .dataframe tbody tr th {\n        vertical-align: top;\n    }\n\n    .dataframe thead th {\n        text-align: right;\n    }\n</style>\n<table border=\"1\" class=\"dataframe\">\n  <thead>\n    <tr style=\"text-align: right;\">\n      <th></th>\n      <th>Flow Duration</th>\n      <th>Tot Fwd Pkts</th>\n      <th>Tot Bwd Pkts</th>\n      <th>TotLen Fwd Pkts</th>\n      <th>TotLen Bwd Pkts</th>\n      <th>Fwd Pkt Len Max</th>\n      <th>Fwd Pkt Len Min</th>\n      <th>Fwd Pkt Len Mean</th>\n      <th>Fwd Pkt Len Std</th>\n      <th>Bwd Pkt Len Max</th>\n      <th>...</th>\n      <th>Fwd Act Data Pkts</th>\n      <th>Fwd Seg Size Min</th>\n      <th>Active Mean</th>\n      <th>Active Std</th>\n      <th>Active Max</th>\n      <th>Active Min</th>\n      <th>Idle Mean</th>\n      <th>Idle Std</th>\n      <th>Idle Max</th>\n      <th>Idle Min</th>\n    </tr>\n  </thead>\n  <tbody>\n    <tr>\n      <th>count</th>\n      <td>2.115240e+05</td>\n      <td>211524.000000</td>\n      <td>211524.000000</td>\n      <td>2.115240e+05</td>\n      <td>2.115240e+05</td>\n      <td>211524.000000</td>\n      <td>211524.000000</td>\n      <td>211524.000000</td>\n      <td>211524.000000</td>\n      <td>211524.000000</td>\n      <td>...</td>\n      <td>211524.000000</td>\n      <td>211524.0</td>\n      <td>2.115240e+05</td>\n      <td>2.115240e+05</td>\n      <td>2.115240e+05</td>\n      <td>2.115240e+05</td>\n      <td>2.115240e+05</td>\n      <td>2.115240e+05</td>\n      <td>2.115240e+05</td>\n      <td>2.115240e+05</td>\n    </tr>\n    <tr>\n      <th>mean</th>\n      <td>1.003206e+07</td>\n      <td>54.768641</td>\n      <td>65.488328</td>\n      <td>4.234968e+04</td>\n      <td>5.592605e+04</td>\n      <td>66.602414</td>\n      <td>23.223629</td>\n      <td>35.364694</td>\n      <td>12.758944</td>\n      <td>91.176377</td>\n      <td>...</td>\n      <td>33.590429</td>\n      <td>0.0</td>\n      <td>1.800153e+05</td>\n      <td>9.443392e+04</td>\n      <td>3.015242e+05</td>\n      <td>1.073498e+05</td>\n      <td>3.806053e+06</td>\n      <td>2.974142e+05</td>\n      <td>4.075604e+06</td>\n      <td>3.553331e+06</td>\n    </tr>\n    <tr>\n      <th>std</th>\n      <td>2.916630e+07</td>\n      <td>1559.064118</td>\n      <td>2762.325247</td>\n      <td>3.626545e+06</td>\n      <td>3.740303e+06</td>\n      <td>920.483207</td>\n      <td>30.866179</td>\n      <td>296.492943</td>\n      <td>187.751152</td>\n      <td>566.699164</td>\n      <td>...</td>\n      <td>731.188832</td>\n      <td>0.0</td>\n      <td>2.004644e+06</td>\n      <td>1.204375e+06</td>\n      <td>3.002680e+06</td>\n      <td>1.633785e+06</td>\n      <td>1.459907e+07</td>\n      <td>2.738837e+06</td>\n      <td>1.525688e+07</td>\n      <td>1.427299e+07</td>\n    </tr>\n    <tr>\n      <th>min</th>\n      <td>0.000000e+00</td>\n      <td>0.000000</td>\n      <td>1.000000</td>\n      <td>0.000000e+00</td>\n      <td>0.000000e+00</td>\n      <td>0.000000</td>\n      <td>0.000000</td>\n      <td>0.000000</td>\n      <td>0.000000</td>\n      <td>0.000000</td>\n      <td>...</td>\n      <td>0.000000</td>\n      <td>0.0</td>\n      <td>0.000000e+00</td>\n      <td>0.000000e+00</td>\n      <td>0.000000e+00</td>\n      <td>0.000000e+00</td>\n      <td>0.000000e+00</td>\n      <td>0.000000e+00</td>\n      <td>0.000000e+00</td>\n      <td>0.000000e+00</td>\n    </tr>\n    <tr>\n      <th>25%</th>\n      <td>4.107200e+05</td>\n      <td>1.000000</td>\n      <td>1.000000</td>\n      <td>2.200000e+01</td>\n      <td>2.200000e+01</td>\n      <td>22.000000</td>\n      <td>22.000000</td>\n      <td>22.000000</td>\n      <td>0.000000</td>\n      <td>22.000000</td>\n      <td>...</td>\n      <td>1.000000</td>\n      <td>0.0</td>\n      <td>0.000000e+00</td>\n      <td>0.000000e+00</td>\n      <td>0.000000e+00</td>\n      <td>0.000000e+00</td>\n      <td>0.000000e+00</td>\n      <td>0.000000e+00</td>\n      <td>0.000000e+00</td>\n      <td>0.000000e+00</td>\n    </tr>\n    <tr>\n      <th>50%</th>\n      <td>4.127300e+05</td>\n      <td>1.000000</td>\n      <td>1.000000</td>\n      <td>2.200000e+01</td>\n      <td>2.200000e+01</td>\n      <td>22.000000</td>\n      <td>22.000000</td>\n      <td>22.000000</td>\n      <td>0.000000</td>\n      <td>22.000000</td>\n      <td>...</td>\n      <td>1.000000</td>\n      <td>0.0</td>\n      <td>0.000000e+00</td>\n      <td>0.000000e+00</td>\n      <td>0.000000e+00</td>\n      <td>0.000000e+00</td>\n      <td>0.000000e+00</td>\n      <td>0.000000e+00</td>\n      <td>0.000000e+00</td>\n      <td>0.000000e+00</td>\n    </tr>\n    <tr>\n      <th>75%</th>\n      <td>4.208770e+05</td>\n      <td>1.000000</td>\n      <td>1.000000</td>\n      <td>2.200000e+01</td>\n      <td>2.200000e+01</td>\n      <td>22.000000</td>\n      <td>22.000000</td>\n      <td>22.000000</td>\n      <td>0.000000</td>\n      <td>22.000000</td>\n      <td>...</td>\n      <td>1.000000</td>\n      <td>0.0</td>\n      <td>0.000000e+00</td>\n      <td>0.000000e+00</td>\n      <td>0.000000e+00</td>\n      <td>0.000000e+00</td>\n      <td>0.000000e+00</td>\n      <td>0.000000e+00</td>\n      <td>0.000000e+00</td>\n      <td>0.000000e+00</td>\n    </tr>\n    <tr>\n      <th>max</th>\n      <td>1.200000e+08</td>\n      <td>238160.000000</td>\n      <td>470863.000000</td>\n      <td>1.079183e+09</td>\n      <td>6.704287e+08</td>\n      <td>65160.000000</td>\n      <td>1350.000000</td>\n      <td>28503.425009</td>\n      <td>19074.915609</td>\n      <td>48168.000000</td>\n      <td>...</td>\n      <td>62415.000000</td>\n      <td>0.0</td>\n      <td>1.130879e+08</td>\n      <td>6.720255e+07</td>\n      <td>1.130879e+08</td>\n      <td>1.130879e+08</td>\n      <td>1.199994e+08</td>\n      <td>7.694450e+07</td>\n      <td>1.199994e+08</td>\n      <td>1.199994e+08</td>\n    </tr>\n  </tbody>\n</table>\n<p>8 rows × 76 columns</p>\n</div>"
     },
     "execution_count": 209,
     "metadata": {},
     "output_type": "execute_result"
    }
   ],
   "source": [
    "X.describe()"
   ],
   "metadata": {
    "collapsed": false,
    "ExecuteTime": {
     "end_time": "2023-06-21T07:37:43.636534800Z",
     "start_time": "2023-06-21T07:37:42.905812100Z"
    }
   }
  },
  {
   "cell_type": "markdown",
   "source": [
    "再舍去两个特征"
   ],
   "metadata": {
    "collapsed": false
   }
  },
  {
   "cell_type": "code",
   "execution_count": 210,
   "outputs": [
    {
     "data": {
      "text/plain": "(211524, 74)"
     },
     "execution_count": 210,
     "metadata": {},
     "output_type": "execute_result"
    }
   ],
   "source": [
    "X = X.drop(['Flow Byts/s','Flow Pkts/s'],axis = 1)\n",
    "X.shape"
   ],
   "metadata": {
    "collapsed": false,
    "ExecuteTime": {
     "end_time": "2023-06-21T07:37:46.888735800Z",
     "start_time": "2023-06-21T07:37:46.863284800Z"
    }
   }
  },
  {
   "cell_type": "markdown",
   "source": [
    "最大最小归一化"
   ],
   "metadata": {
    "collapsed": false
   }
  },
  {
   "cell_type": "code",
   "execution_count": 211,
   "outputs": [],
   "source": [
    "\n",
    "from sklearn.preprocessing import minmax_scale\n",
    "\n",
    "X = minmax_scale(X)"
   ],
   "metadata": {
    "collapsed": false,
    "ExecuteTime": {
     "end_time": "2023-06-21T07:37:50.040575400Z",
     "start_time": "2023-06-21T07:37:49.814181Z"
    }
   }
  },
  {
   "cell_type": "code",
   "execution_count": 212,
   "outputs": [
    {
     "data": {
      "text/plain": "array([[9.96960050e-01, 1.84749748e-04, 9.98169315e-05, ...,\n        3.94473086e-02, 1.14986279e-01, 4.35047563e-02],\n       [1.78427408e-01, 8.39771582e-06, 6.37129350e-06, ...,\n        0.00000000e+00, 1.72107691e-01, 1.72107691e-01],\n       [6.44802500e-03, 3.35908633e-05, 1.48663515e-05, ...,\n        0.00000000e+00, 0.00000000e+00, 0.00000000e+00],\n       ...,\n       [3.42587500e-03, 4.19885791e-06, 0.00000000e+00, ...,\n        0.00000000e+00, 0.00000000e+00, 0.00000000e+00],\n       [3.41357500e-03, 4.19885791e-06, 0.00000000e+00, ...,\n        0.00000000e+00, 0.00000000e+00, 0.00000000e+00],\n       [3.42213333e-03, 4.19885791e-06, 0.00000000e+00, ...,\n        0.00000000e+00, 0.00000000e+00, 0.00000000e+00]])"
     },
     "execution_count": 212,
     "metadata": {},
     "output_type": "execute_result"
    }
   ],
   "source": [
    "X"
   ],
   "metadata": {
    "collapsed": false,
    "ExecuteTime": {
     "end_time": "2023-06-21T07:37:51.036221400Z",
     "start_time": "2023-06-21T07:37:50.984791Z"
    }
   }
  },
  {
   "cell_type": "markdown",
   "source": [
    "基于随机森林特征选择方法对特征重要度进行评分\n"
   ],
   "metadata": {
    "collapsed": false
   }
  },
  {
   "cell_type": "code",
   "execution_count": 213,
   "outputs": [
    {
     "name": "stdout",
     "output_type": "stream",
     "text": [
      "1. 特征 32 (0.313854)\n",
      "2. 特征 34 (0.165038)\n",
      "3. 特征 26 (0.137010)\n",
      "4. 特征 35 (0.048376)\n",
      "5. 特征 63 (0.032425)\n",
      "6. 特征 36 (0.021569)\n",
      "7. 特征 0 (0.021495)\n",
      "8. 特征 16 (0.018154)\n",
      "9. 特征 69 (0.016658)\n",
      "10. 特征 9 (0.016084)\n",
      "11. 特征 33 (0.013822)\n",
      "12. 特征 13 (0.010615)\n",
      "13. 特征 37 (0.009791)\n",
      "14. 特征 23 (0.009602)\n",
      "15. 特征 15 (0.009590)\n",
      "16. 特征 12 (0.009508)\n",
      "17. 特征 14 (0.008694)\n",
      "18. 特征 49 (0.008580)\n",
      "19. 特征 31 (0.008119)\n",
      "20. 特征 25 (0.007991)\n",
      "21. 特征 38 (0.007774)\n",
      "22. 特征 22 (0.007154)\n",
      "23. 特征 10 (0.007102)\n",
      "24. 特征 11 (0.006547)\n",
      "25. 特征 51 (0.006166)\n",
      "26. 特征 21 (0.005819)\n",
      "27. 特征 39 (0.004809)\n",
      "28. 特征 48 (0.004030)\n",
      "29. 特征 58 (0.004009)\n",
      "30. 特征 1 (0.004002)\n",
      "31. 特征 24 (0.003848)\n",
      "32. 特征 17 (0.003656)\n",
      "33. 特征 20 (0.003213)\n",
      "34. 特征 44 (0.003019)\n",
      "35. 特征 18 (0.002999)\n",
      "36. 特征 6 (0.002719)\n",
      "37. 特征 8 (0.002573)\n",
      "38. 特征 19 (0.002502)\n",
      "39. 特征 5 (0.002475)\n",
      "40. 特征 73 (0.002365)\n",
      "41. 特征 68 (0.002206)\n",
      "42. 特征 42 (0.002202)\n",
      "43. 特征 50 (0.001961)\n",
      "44. 特征 7 (0.001914)\n",
      "45. 特征 71 (0.001838)\n",
      "46. 特征 72 (0.001785)\n",
      "47. 特征 66 (0.001707)\n",
      "48. 特征 70 (0.001643)\n",
      "49. 特征 64 (0.001640)\n",
      "50. 特征 40 (0.001344)\n",
      "51. 特征 67 (0.001332)\n",
      "52. 特征 60 (0.000932)\n",
      "53. 特征 2 (0.000906)\n",
      "54. 特征 61 (0.000822)\n",
      "55. 特征 3 (0.000769)\n",
      "56. 特征 4 (0.000755)\n",
      "57. 特征 28 (0.000718)\n",
      "58. 特征 41 (0.000619)\n",
      "59. 特征 59 (0.000610)\n",
      "60. 特征 43 (0.000541)\n",
      "61. 特征 57 (0.000000)\n",
      "62. 特征 62 (0.000000)\n",
      "63. 特征 65 (0.000000)\n",
      "64. 特征 56 (0.000000)\n",
      "65. 特征 55 (0.000000)\n",
      "66. 特征 54 (0.000000)\n",
      "67. 特征 53 (0.000000)\n",
      "68. 特征 47 (0.000000)\n",
      "69. 特征 46 (0.000000)\n",
      "70. 特征 45 (0.000000)\n",
      "71. 特征 27 (0.000000)\n",
      "72. 特征 29 (0.000000)\n",
      "73. 特征 30 (0.000000)\n",
      "74. 特征 52 (0.000000)\n"
     ]
    }
   ],
   "source": [
    "from sklearn.ensemble import RandomForestRegressor\n",
    "\n",
    "rf = RandomForestRegressor(n_estimators=100, random_state=42)\n",
    "\n",
    "rf.fit(X,y)\n",
    "\n",
    "# 获取特征重要性评分\n",
    "importances = rf.feature_importances_\n",
    "indices = np.argsort(importances)[::-1]  # 对特征重要性得分进行降序排列\n",
    "\n",
    "# 打印特征重要性评分\n",
    "for f in range(X.shape[1]):\n",
    "    print(\"%d. 特征 %d (%f)\" % (f + 1, indices[f], importances[indices[f]]))\n",
    "\n",
    "\n"
   ],
   "metadata": {
    "collapsed": false,
    "ExecuteTime": {
     "end_time": "2023-06-21T07:41:51.459032100Z",
     "start_time": "2023-06-21T07:37:59.387011Z"
    }
   }
  },
  {
   "cell_type": "code",
   "execution_count": 214,
   "outputs": [
    {
     "data": {
      "text/plain": "<Figure size 10000x2000 with 1 Axes>",
      "image/png": "[encoded data removed]"
     },
     "metadata": {},
     "output_type": "display_data"
    }
   ],
   "source": [
    "# 作图\n",
    "plt.figure(figsize=(100,20))\n",
    "plt.title(\"Feature Importance\")\n",
    "plt.bar(range(X.shape[1]), importances[indices], color=\"r\", align=\"center\")\n",
    "plt.xticks(range(X.shape[1]), indices)\n",
    "plt.xlim([-1, X.shape[1]])\n",
    "plt.show()\n"
   ],
   "metadata": {
    "collapsed": false,
    "ExecuteTime": {
     "end_time": "2023-06-21T07:41:53.061838900Z",
     "start_time": "2023-06-21T07:41:51.461027500Z"
    }
   }
  },
  {
   "cell_type": "markdown",
   "source": [],
   "metadata": {
    "collapsed": false
   }
  },
  {
   "cell_type": "markdown",
   "source": [
    "选择重要度大于0.0090的特征"
   ],
   "metadata": {
    "collapsed": false
   }
  },
  {
   "cell_type": "code",
   "execution_count": 215,
   "outputs": [],
   "source": [
    "# 将特征评分大于 0.009 的特征作为最终特征\n",
    "final_features = [indices[i] for i in range(len(importances)) if importances[indices[i]] > 0.009]\n",
    "\n"
   ],
   "metadata": {
    "collapsed": false,
    "ExecuteTime": {
     "end_time": "2023-06-21T07:41:53.077476600Z",
     "start_time": "2023-06-21T07:41:53.064801100Z"
    }
   }
  },
  {
   "cell_type": "code",
   "execution_count": 216,
   "outputs": [
    {
     "name": "stdout",
     "output_type": "stream",
     "text": [
      "[32, 34, 26, 35, 63, 36, 0, 16, 69, 9, 33, 13, 37, 23, 15, 12]\n"
     ]
    }
   ],
   "source": [
    "print(final_features)"
   ],
   "metadata": {
    "collapsed": false,
    "ExecuteTime": {
     "end_time": "2023-06-21T07:41:54.729308400Z",
     "start_time": "2023-06-21T07:41:53.080469300Z"
    }
   }
  },
  {
   "cell_type": "code",
   "execution_count": 217,
   "outputs": [],
   "source": [
    "X = X[:,final_features]"
   ],
   "metadata": {
    "collapsed": false,
    "ExecuteTime": {
     "end_time": "2023-06-21T07:41:54.729308400Z",
     "start_time": "2023-06-21T07:41:53.104812800Z"
    }
   }
  },
  {
   "cell_type": "code",
   "execution_count": 218,
   "outputs": [
    {
     "data": {
      "text/plain": "(211524, 16)"
     },
     "execution_count": 218,
     "metadata": {},
     "output_type": "execute_result"
    }
   ],
   "source": [
    "X = pd.DataFrame(X)\n",
    "X.shape"
   ],
   "metadata": {
    "collapsed": false,
    "ExecuteTime": {
     "end_time": "2023-06-21T07:41:54.730307200Z",
     "start_time": "2023-06-21T07:41:53.124755400Z"
    }
   }
  },
  {
   "cell_type": "code",
   "execution_count": 219,
   "outputs": [],
   "source": [
    "# 数据分割\n",
    "from sklearn.model_selection import train_test_split\n",
    "X_train,X_test,y_train,y_test = train_test_split(X,y,train_size=0.8,random_state=42)"
   ],
   "metadata": {
    "collapsed": false,
    "ExecuteTime": {
     "end_time": "2023-06-21T07:41:54.730307200Z",
     "start_time": "2023-06-21T07:41:53.138720900Z"
    }
   }
  },
  {
   "cell_type": "code",
   "execution_count": 220,
   "outputs": [
    {
     "name": "stdout",
     "output_type": "stream",
     "text": [
      "(169219, 16)\n",
      "(42305, 16)\n"
     ]
    }
   ],
   "source": [
    "print(X_train.shape)\n",
    "print(X_test.shape)"
   ],
   "metadata": {
    "collapsed": false,
    "ExecuteTime": {
     "end_time": "2023-06-21T07:41:54.730307200Z",
     "start_time": "2023-06-21T07:41:53.202058Z"
    }
   }
  },
  {
   "cell_type": "code",
   "execution_count": 221,
   "outputs": [
    {
     "data": {
      "text/plain": "1    155852\n0    155852\nName: Label, dtype: int64"
     },
     "execution_count": 221,
     "metadata": {},
     "output_type": "execute_result"
    }
   ],
   "source": [
    "#对训练集样本过采样\n",
    "X_train, y_train = SMOTE().fit_resample(X_train,y_train)\n",
    "y_train.value_counts()\n",
    "\n"
   ],
   "metadata": {
    "collapsed": false,
    "ExecuteTime": {
     "end_time": "2023-06-21T07:41:57.499289700Z",
     "start_time": "2023-06-21T07:41:53.216020900Z"
    }
   }
  },
  {
   "cell_type": "code",
   "execution_count": 222,
   "outputs": [
    {
     "data": {
      "text/plain": "(311704, 16)"
     },
     "execution_count": 222,
     "metadata": {},
     "output_type": "execute_result"
    }
   ],
   "source": [
    "X_train.shape"
   ],
   "metadata": {
    "collapsed": false,
    "ExecuteTime": {
     "end_time": "2023-06-21T07:41:57.507765400Z",
     "start_time": "2023-06-21T07:41:57.495300300Z"
    }
   }
  },
  {
   "cell_type": "code",
   "execution_count": 223,
   "outputs": [
    {
     "name": "stdout",
     "output_type": "stream",
     "text": [
      "最优分数 0.9777339459014653\n",
      "最优参数 {'learning_rate': 0.01, 'max_depth': 8, 'max_features': 'sqrt', 'n_estimators': 300}\n",
      "最优模型 GradientBoostingClassifier(learning_rate=0.01, max_depth=8, max_features='sqrt',\n",
      "                           n_estimators=300)\n"
     ]
    }
   ],
   "source": [
    "GBDT_n_estimators = [120, 300]\n",
    "GBDT_learning_rate = [0.001, 0.01]\n",
    "GBDT_max_features = ['sqrt']\n",
    "GBDT_max_depth = [3, 5, 8]\n",
    "\n",
    "\n",
    "param_grid = {\n",
    "    'n_estimators': GBDT_n_estimators,\n",
    "    'learning_rate': GBDT_learning_rate,\n",
    "    'max_features': GBDT_max_features,\n",
    "    'max_depth': GBDT_max_depth,\n",
    "\n",
    "}\n",
    "cv_split = model_selection.ShuffleSplit(n_splits=10,\n",
    "                                        test_size=.2,\n",
    "                                        random_state=42)\n",
    "model_tunning = GridSearchCV(ensemble.GradientBoostingClassifier(),\n",
    "                             param_grid=param_grid,\n",
    "                             cv=cv_split,\n",
    "                             scoring='roc_auc')\n",
    "model_tunning.fit(X_train,y_train)\n",
    "print('最优分数', model_tunning.best_score_)  #模型最高分\n",
    "print('最优参数', model_tunning.best_params_)  #最优参数\n",
    "print('最优模型', model_tunning.best_estimator_)  #最优模型\n",
    "best_model = model_tunning.best_estimator_"
   ],
   "metadata": {
    "collapsed": false,
    "ExecuteTime": {
     "end_time": "2023-06-21T10:10:17.992880800Z",
     "start_time": "2023-06-21T07:41:57.514717200Z"
    }
   }
  },
  {
   "cell_type": "code",
   "execution_count": 228,
   "outputs": [
    {
     "name": "stdout",
     "output_type": "stream",
     "text": [
      "acc:0.949\n",
      "precision:0.965\n",
      "recall:0.949\n",
      "f1-score:0.954\n"
     ]
    },
    {
     "data": {
      "text/plain": "<Figure size 640x480 with 2 Axes>",
      "image/png": "[encoded data removed]"
     },
     "metadata": {},
     "output_type": "display_data"
    }
   ],
   "source": [
    "# GBDT梯度提示决策树\n",
    "\n",
    "y_predict = best_model.predict(X_test)\n",
    "cm = confusion_matrix(y_test, y_predict)\n",
    "ConfusionMatrixDisplay(cm).plot(cmap='Blues')\n",
    "from sklearn.metrics import accuracy_score, precision_score,recall_score,f1_score\n",
    "print(\"acc:{0:.3}\".format(accuracy_score(y_test, y_predict)))  #精度\n",
    "print(\"precision:{0:.3}\".format(precision_score(y_test, y_predict, average='weighted')))  #准确率\n",
    "print(\"recall:{0:.3}\".format(recall_score(y_test, y_predict,average='weighted')))  #召回率\n",
    "print(\"f1-score:{0:.3}\".format(f1_score(y_test,y_predict,average='weighted')))# F1\n",
    "\n",
    "\n"
   ],
   "metadata": {
    "collapsed": false,
    "ExecuteTime": {
     "end_time": "2023-06-23T03:59:47.255228100Z",
     "start_time": "2023-06-23T03:59:46.425269800Z"
    }
   }
  },
  {
   "cell_type": "code",
   "execution_count": 226,
   "outputs": [
    {
     "ename": "KeyboardInterrupt",
     "evalue": "",
     "output_type": "error",
     "traceback": [
      "\u001B[1;31m---------------------------------------------------------------------------\u001B[0m",
      "\u001B[1;31mKeyboardInterrupt\u001B[0m                         Traceback (most recent call last)",
      "\u001B[1;32m~\\AppData\\Local\\Temp\\ipykernel_18256\\18775042.py\u001B[0m in \u001B[0;36m<module>\u001B[1;34m\u001B[0m\n\u001B[0;32m      4\u001B[0m \u001B[0mmodel\u001B[0m \u001B[1;33m=\u001B[0m \u001B[0msvm\u001B[0m\u001B[1;33m.\u001B[0m\u001B[0mSVC\u001B[0m\u001B[1;33m(\u001B[0m\u001B[0mgamma\u001B[0m\u001B[1;33m=\u001B[0m\u001B[1;34m'scale'\u001B[0m\u001B[1;33m,\u001B[0m \u001B[0mC\u001B[0m\u001B[1;33m=\u001B[0m\u001B[1;36m1.0\u001B[0m\u001B[1;33m,\u001B[0m \u001B[0mdecision_function_shape\u001B[0m\u001B[1;33m=\u001B[0m\u001B[1;34m'ovr'\u001B[0m\u001B[1;33m,\u001B[0m \u001B[0mkernel\u001B[0m\u001B[1;33m=\u001B[0m\u001B[1;34m'rbf'\u001B[0m\u001B[1;33m)\u001B[0m\u001B[1;33m\u001B[0m\u001B[1;33m\u001B[0m\u001B[0m\n\u001B[0;32m      5\u001B[0m \u001B[1;33m\u001B[0m\u001B[0m\n\u001B[1;32m----> 6\u001B[1;33m \u001B[0mmodel\u001B[0m\u001B[1;33m.\u001B[0m\u001B[0mfit\u001B[0m\u001B[1;33m(\u001B[0m\u001B[0mX_train\u001B[0m\u001B[1;33m,\u001B[0m \u001B[0my_train\u001B[0m\u001B[1;33m)\u001B[0m\u001B[1;33m\u001B[0m\u001B[1;33m\u001B[0m\u001B[0m\n\u001B[0m\u001B[0;32m      7\u001B[0m \u001B[0my_predict\u001B[0m \u001B[1;33m=\u001B[0m \u001B[0mmodel\u001B[0m\u001B[1;33m.\u001B[0m\u001B[0mpredict\u001B[0m\u001B[1;33m(\u001B[0m\u001B[0mX_test\u001B[0m\u001B[1;33m)\u001B[0m\u001B[1;33m\u001B[0m\u001B[1;33m\u001B[0m\u001B[0m\n\u001B[0;32m      8\u001B[0m \u001B[0mcm\u001B[0m \u001B[1;33m=\u001B[0m \u001B[0mconfusion_matrix\u001B[0m\u001B[1;33m(\u001B[0m\u001B[0my_test\u001B[0m\u001B[1;33m,\u001B[0m \u001B[0my_predict\u001B[0m\u001B[1;33m)\u001B[0m\u001B[1;33m\u001B[0m\u001B[1;33m\u001B[0m\u001B[0m\n",
      "\u001B[1;32m~\\.conda\\envs\\torch\\lib\\site-packages\\sklearn\\svm\\_base.py\u001B[0m in \u001B[0;36mfit\u001B[1;34m(self, X, y, sample_weight)\u001B[0m\n\u001B[0;32m    253\u001B[0m \u001B[1;33m\u001B[0m\u001B[0m\n\u001B[0;32m    254\u001B[0m         \u001B[0mseed\u001B[0m \u001B[1;33m=\u001B[0m \u001B[0mrnd\u001B[0m\u001B[1;33m.\u001B[0m\u001B[0mrandint\u001B[0m\u001B[1;33m(\u001B[0m\u001B[0mnp\u001B[0m\u001B[1;33m.\u001B[0m\u001B[0miinfo\u001B[0m\u001B[1;33m(\u001B[0m\u001B[1;34m\"i\"\u001B[0m\u001B[1;33m)\u001B[0m\u001B[1;33m.\u001B[0m\u001B[0mmax\u001B[0m\u001B[1;33m)\u001B[0m\u001B[1;33m\u001B[0m\u001B[1;33m\u001B[0m\u001B[0m\n\u001B[1;32m--> 255\u001B[1;33m         \u001B[0mfit\u001B[0m\u001B[1;33m(\u001B[0m\u001B[0mX\u001B[0m\u001B[1;33m,\u001B[0m \u001B[0my\u001B[0m\u001B[1;33m,\u001B[0m \u001B[0msample_weight\u001B[0m\u001B[1;33m,\u001B[0m \u001B[0msolver_type\u001B[0m\u001B[1;33m,\u001B[0m \u001B[0mkernel\u001B[0m\u001B[1;33m,\u001B[0m \u001B[0mrandom_seed\u001B[0m\u001B[1;33m=\u001B[0m\u001B[0mseed\u001B[0m\u001B[1;33m)\u001B[0m\u001B[1;33m\u001B[0m\u001B[1;33m\u001B[0m\u001B[0m\n\u001B[0m\u001B[0;32m    256\u001B[0m         \u001B[1;31m# see comment on the other call to np.iinfo in this file\u001B[0m\u001B[1;33m\u001B[0m\u001B[1;33m\u001B[0m\u001B[1;33m\u001B[0m\u001B[0m\n\u001B[0;32m    257\u001B[0m \u001B[1;33m\u001B[0m\u001B[0m\n",
      "\u001B[1;32m~\\.conda\\envs\\torch\\lib\\site-packages\\sklearn\\svm\\_base.py\u001B[0m in \u001B[0;36m_dense_fit\u001B[1;34m(self, X, y, sample_weight, solver_type, kernel, random_seed)\u001B[0m\n\u001B[0;32m    331\u001B[0m             \u001B[0mepsilon\u001B[0m\u001B[1;33m=\u001B[0m\u001B[0mself\u001B[0m\u001B[1;33m.\u001B[0m\u001B[0mepsilon\u001B[0m\u001B[1;33m,\u001B[0m\u001B[1;33m\u001B[0m\u001B[1;33m\u001B[0m\u001B[0m\n\u001B[0;32m    332\u001B[0m             \u001B[0mmax_iter\u001B[0m\u001B[1;33m=\u001B[0m\u001B[0mself\u001B[0m\u001B[1;33m.\u001B[0m\u001B[0mmax_iter\u001B[0m\u001B[1;33m,\u001B[0m\u001B[1;33m\u001B[0m\u001B[1;33m\u001B[0m\u001B[0m\n\u001B[1;32m--> 333\u001B[1;33m             \u001B[0mrandom_seed\u001B[0m\u001B[1;33m=\u001B[0m\u001B[0mrandom_seed\u001B[0m\u001B[1;33m,\u001B[0m\u001B[1;33m\u001B[0m\u001B[1;33m\u001B[0m\u001B[0m\n\u001B[0m\u001B[0;32m    334\u001B[0m         )\n\u001B[0;32m    335\u001B[0m \u001B[1;33m\u001B[0m\u001B[0m\n",
      "\u001B[1;31mKeyboardInterrupt\u001B[0m: "
     ]
    }
   ],
   "source": [
    "#混淆矩阵\n",
    "#### svm\n",
    "from sklearn import svm\n",
    "model = svm.SVC(gamma='scale', C=1.0, decision_function_shape='ovr', kernel='rbf')\n",
    "\n",
    "model.fit(X_train, y_train)\n",
    "y_predict = model.predict(X_test)\n",
    "cm = confusion_matrix(y_test, y_predict)\n",
    "ConfusionMatrixDisplay(cm).plot(cmap='Blues')\n",
    "from sklearn.metrics import accuracy_score, precision_score,recall_score,f1_score\n",
    "print(\"acc:{0:.3}\".format(accuracy_score(y_test, y_predict)))  #精度\n",
    "print(\"precision:{0:.3}\".format(precision_score(y_test, y_predict, average='weighted')))  #准确率\n",
    "print(\"recall:{0:.3}\".format(recall_score(y_test, y_predict,average='weighted')))  #召回率\n",
    "print(\"f1-score:{0:.3}\".format(f1_score(y_test,y_predict,average='weighted')))# F1\n"
   ],
   "metadata": {
    "collapsed": false,
    "ExecuteTime": {
     "end_time": "2023-06-21T13:51:43.266543Z",
     "start_time": "2023-06-21T11:17:25.151021100Z"
    }
   }
  },
  {
   "cell_type": "code",
   "execution_count": 227,
   "outputs": [
    {
     "name": "stdout",
     "output_type": "stream",
     "text": [
      "acc:0.868\n",
      "precision:0.925\n",
      "recall:0.868\n",
      "f1-score:0.889\n"
     ]
    },
    {
     "data": {
      "text/plain": "<Figure size 640x480 with 2 Axes>",
      "image/png": "[encoded data removed]"
     },
     "metadata": {},
     "output_type": "display_data"
    }
   ],
   "source": [
    "#混淆矩阵\n",
    "#### 逻辑回归\n",
    "from sklearn.linear_model import LogisticRegression\n",
    "model = LogisticRegression(\n",
    "            penalty=\"l1\",C=0.5,solver=\"liblinear\"\n",
    "        )\n",
    "\n",
    "model.fit(X_train, y_train)\n",
    "y_predict = model.predict(X_test)\n",
    "cm = confusion_matrix(y_test, y_predict)\n",
    "ConfusionMatrixDisplay(cm).plot(cmap='Blues')\n",
    "from sklearn.metrics import accuracy_score, precision_score,recall_score,f1_score\n",
    "print(\"acc:{0:.3}\".format(accuracy_score(y_test, y_predict)))  #精度\n",
    "print(\"precision:{0:.3}\".format(precision_score(y_test, y_predict, average='weighted')))  #准确率\n",
    "print(\"recall:{0:.3}\".format(recall_score(y_test, y_predict,average='weighted')))  #召回率\n",
    "print(\"f1-score:{0:.3}\".format(f1_score(y_test,y_predict,average='weighted')))# F1"
   ],
   "metadata": {
    "collapsed": false,
    "ExecuteTime": {
     "end_time": "2023-06-21T14:34:36.254789900Z",
     "start_time": "2023-06-21T14:34:28.081001900Z"
    }
   }
  },
  {
   "cell_type": "code",
   "execution_count": null,
   "outputs": [],
   "source": [],
   "metadata": {
    "collapsed": false
   }
  }
 ],
 "metadata": {
  "kernelspec": {
   "display_name": "Python 3",
   "language": "python",
   "name": "python3"
  },
  "language_info": {
   "codemirror_mode": {
    "name": "ipython",
    "version": 2
   },
   "file_extension": ".py",
   "mimetype": "text/x-python",
   "name": "python",
   "nbconvert_exporter": "python",
   "pygments_lexer": "ipython2",
   "version": "2.7.6"
  }
 },
 "nbformat": 4,
 "nbformat_minor": 0
}
